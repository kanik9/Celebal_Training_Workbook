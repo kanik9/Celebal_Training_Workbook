{
 "cells": [
  {
   "cell_type": "code",
   "execution_count": 1,
   "metadata": {},
   "outputs": [],
   "source": [
    "import pandas as pd\n",
    "import datetime"
   ]
  },
  {
   "cell_type": "code",
   "execution_count": 2,
   "metadata": {},
   "outputs": [],
   "source": [
    "def update(df):\n",
    "    data = df.iloc[2:,1:]\n",
    "    header = data.iloc[0:1,:]\n",
    "    list_columns_Revised = []\n",
    "    list_columns_Original = []\n",
    "    for i in range(1,31):\n",
    "        a = list(header[i])\n",
    "        if 2<=i <= 15:\n",
    "            if type(a[0]) == str:\n",
    "                if a[0] == \"FY-20\":\n",
    "                    string = \"Revised_\"+ a[0]\n",
    "                    list_columns_Revised.append(string)\n",
    "                elif a[0] == \"FY-21\":\n",
    "                    string = \"Revised_\"+ a[0]\n",
    "                    list_columns_Revised.append(string)\n",
    "                else :\n",
    "                    string = \"Revised_\"+ a[0]\n",
    "                    list_columns_Revised.append(string)\n",
    "\n",
    "            elif type(a[0]) == datetime.datetime:\n",
    "                head_date = a[0]\n",
    "                head_date = head_date.strftime(\"%b_%y\")\n",
    "                string = \"Revised_\"+str(head_date)\n",
    "                list_columns_Revised.append(string)\n",
    "        elif i > 16:\n",
    "            if type(a[0]) == str:\n",
    "                if a[0] == \"FY-20\":\n",
    "                    string = \"Original_\"+ a[0]\n",
    "                    list_columns_Original.append(string)\n",
    "                elif a[0] == \"FY-21\":\n",
    "                    string = \"Original_\"+ a[0]\n",
    "                    list_columns_Original.append(string)\n",
    "                else :\n",
    "                    string = \"Original_\"+ a[0]\n",
    "                    list_columns_Original.append(string)\n",
    "\n",
    "            elif type(a[0]) == datetime.datetime:\n",
    "                head_date = a[0]\n",
    "                head_date = head_date.strftime(\"%b_%y\")\n",
    "                string = \"Original_\"+str(head_date)\n",
    "                list_columns_Original.append(string)\n",
    "        elif i == 1:\n",
    "            list_columns_Revised.append(a[0])\n",
    "            \n",
    "        elif i == 16:\n",
    "            list_columns_Revised.append(\"blank\")\n",
    "\n",
    "\n",
    "    list_columns_Revised.extend(list_columns_Original)\n",
    "    return list_columns_Revised\n"
   ]
  },
  {
   "cell_type": "code",
   "execution_count": null,
   "metadata": {},
   "outputs": [],
   "source": []
  },
  {
   "cell_type": "code",
   "execution_count": 3,
   "metadata": {},
   "outputs": [],
   "source": [
    "df_RGP = pd.read_excel(\"/home/kanik/Downloads/FC Model_EAST.xlsx\",\"Summary_RGP\",header=None)\n",
    "df_KCW = pd.read_excel(\"/home/kanik/Downloads/FC Model_EAST.xlsx\",\"Summary_KCW\",header=None)\n",
    "df_BCW = pd.read_excel(\"/home/kanik/Downloads/FC Model_EAST.xlsx\",\"Summary_BCW\",header=None)\n",
    "df_JCW = pd.read_excel(\"/home/kanik/Downloads/FC Model_EAST.xlsx\",\"Summary_JCW\",header=None)\n",
    "df_DDSPL = pd.read_excel(\"/home/kanik/Downloads/FC Model_EAST.xlsx\",\"Summary_DDSPL\",header=None)\n",
    "a = [df_RGP,df_KCW,df_BCW,df_JCW,df_DDSPL]\n",
    "list_header = []\n",
    "for i in a:\n",
    "    a = pd.DataFrame(i)\n",
    "    head = update(a)\n",
    "    list_header.append(head)"
   ]
  },
  {
   "cell_type": "code",
   "execution_count": 4,
   "metadata": {},
   "outputs": [],
   "source": [
    "data_sheet_RGP = df_RGP.iloc[3:,1:]\n",
    "data_sheet_KCW = df_KCW.iloc[3:,1:]\n",
    "data_sheet_BCW = df_BCW.iloc[3:,1:]\n",
    "data_sheet_JCW = df_JCW.iloc[3:,1:]\n",
    "data_sheet_DDSPL = df_DDSPL.iloc[3:,1:]\n"
   ]
  },
  {
   "cell_type": "code",
   "execution_count": 5,
   "metadata": {},
   "outputs": [],
   "source": [
    "head_RGP = list_header[0]\n",
    "head_KCW = list_header[1]\n",
    "head_BCW = list_header[2]\n",
    "head_JCW = list_header[3]\n",
    "head_DDSPL = list_header[4]"
   ]
  },
  {
   "cell_type": "code",
   "execution_count": 6,
   "metadata": {},
   "outputs": [],
   "source": [
    "data_sheet_RGP.columns = head_RGP\n",
    "data_sheet_KCW.columns = head_KCW\n",
    "data_sheet_BCW.columns = head_BCW\n",
    "data_sheet_JCW.columns = head_JCW\n",
    "data_sheet_DDSPL.columns = head_DDSPL"
   ]
  },
  {
   "cell_type": "code",
   "execution_count": 7,
   "metadata": {},
   "outputs": [],
   "source": [
    "data_sheet_RGP[\"Plant Name\"] = \"RGP\"\n",
    "data_sheet_KCW[\"Plant Name\"] = \"KCW\"\n",
    "data_sheet_BCW[\"Plant Name\"] = \"BCW\"\n",
    "data_sheet_JCW[\"Plant Name\"] = \"JCW\"\n",
    "data_sheet_DDSPL[\"Plant Name\"] = \"DDSPL\""
   ]
  },
  {
   "cell_type": "code",
   "execution_count": null,
   "metadata": {},
   "outputs": [],
   "source": []
  },
  {
   "cell_type": "code",
   "execution_count": 8,
   "metadata": {},
   "outputs": [],
   "source": [
    "data_sheet = pd.concat([data_sheet_RGP,data_sheet_KCW,data_sheet_BCW,data_sheet_JCW,data_sheet_DDSPL],axis=0)"
   ]
  },
  {
   "cell_type": "code",
   "execution_count": 9,
   "metadata": {},
   "outputs": [],
   "source": [
    "data_sheet.to_csv(\"/home/kanik/Downloads/test.xlsx\")"
   ]
  },
  {
   "cell_type": "code",
   "execution_count": null,
   "metadata": {},
   "outputs": [],
   "source": []
  },
  {
   "cell_type": "code",
   "execution_count": null,
   "metadata": {},
   "outputs": [],
   "source": []
  }
 ],
 "metadata": {
  "kernelspec": {
   "display_name": "Python 3",
   "language": "python",
   "name": "python3"
  },
  "language_info": {
   "codemirror_mode": {
    "name": "ipython",
    "version": 3
   },
   "file_extension": ".py",
   "mimetype": "text/x-python",
   "name": "python",
   "nbconvert_exporter": "python",
   "pygments_lexer": "ipython3",
   "version": "3.7.7"
  }
 },
 "nbformat": 4,
 "nbformat_minor": 4
}

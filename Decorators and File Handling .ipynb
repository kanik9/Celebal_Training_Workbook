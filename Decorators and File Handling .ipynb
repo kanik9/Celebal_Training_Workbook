{
 "cells": [
  {
   "cell_type": "markdown",
   "metadata": {},
   "source": [
    "                                            Decorators :"
   ]
  },
  {
   "cell_type": "markdown",
   "metadata": {},
   "source": [
    "                                       1. Decorating Functions"
   ]
  },
  {
   "attachments": {},
   "cell_type": "markdown",
   "metadata": {},
   "source": [
    "1. Defination : Decorators are very powerful and useful tool in Python since it allows programmers to modify the                   behavior of function or class. Decorators allow us to wrap another function in order to extend the                 behavior of wrapped function, without permanently modifying it.\n",
    "                                                                            It also known as metaprogramming                       because a part of the program tries to modify another part of the program at compile time.\n",
    "                                                                            \n",
    "        - Points : \n",
    "            1. A decorator is a callable that returns a callable function.\n",
    "            2. The decorator acts as a wrapper.The nature of the object that got decorated (actual gift inside)                  does not alter. \n",
    "            3. We can use the @ symbol along with the name of the decorator function and place it above the                      definition of the function to be decorated\n",
    "            4. Advantages of using Decorator :\n",
    "            \n",
    "                * Analytics, logging, and instrumentation : Especially with large applications, we often need to                                       specifically measure what’s going on, and record metrics that quantify                                             different activities. By encapsulating such noteworthy events in their own                                         function or method, a decorator can handle this requirement very readably and                                     easily.\n",
    "                \n",
    "                * Validation and runtime checks : Python’s type system is strongly typed, but very dynamic. For                                       all its benefits, this means some bugs can try to creep in, which more                                             statically typed languages (like Java) would catch at compile time. Looking                                       beyond even that, you may want to enforce more sophisticated, custom checks on                                     data going in or out. Decorators can let you easily handle all of this, and                                       apply it to many functions at once.\n",
    "                \n",
    "                * Creating frameworks : Many popular open source frameworks use this. The webapp framework Flask                                       uses it to route URLs to functions that handle the HTTP request\n",
    "                \n",
    "                * Reusing impossible-to-reuse code \n",
    "           \n",
    "           5. A decorator is a design pattern tool in Python for wrapping code around functions or classes                       (defined blocks). This design pattern allows a programmer to add new functionality to existing                     functions or classes without modifying the existing structure. The section provides an overview of                 what decorators are, how to decorate functions and classes, and what problem can it solve.\n",
    "           \n",
    "               \n",
    "\n",
    "In Decorators, functions are taken as the argument into another function and then called inside the wrapper function.\n",
    "\n",
    "      Syntax :\n",
    "          @gfg_decorator   # method of defining decorators\n",
    "          def hello_decorator(): \n",
    "              print(\"Gfg\") \n",
    "  \n",
    "          '''Above code is equivalent to - \n",
    "  \n",
    "             def hello_decorator(): \n",
    "                 print(\"Gfg\") \n",
    "      \n",
    "             hello_decorator = gfg_decorator(hello_decorator)\n",
    "          '''\n",
    "          \n",
    "        Note : In the above code, gfg_decorator is a callable function, will add some code on the top of some                    another callable function, hello_decorator function and return the wrapper function."
   ]
  },
  {
   "cell_type": "markdown",
   "metadata": {},
   "source": [
    "                                              Examples :"
   ]
  },
  {
   "cell_type": "markdown",
   "metadata": {},
   "source": [
    "                                          1.1 Basic decorator"
   ]
  },
  {
   "cell_type": "code",
   "execution_count": 1,
   "metadata": {},
   "outputs": [
    {
     "name": "stdout",
     "output_type": "stream",
     "text": [
      "2.0\n"
     ]
    }
   ],
   "source": [
    "\"\"\"\n",
    "1. Basic decorator example \n",
    "\"\"\"\n",
    "\n",
    "\"\"\"\n",
    "Description : It is a basic division method which only generate division value which is greator that or equal to 1 \n",
    "\"\"\"\n",
    "\n",
    "\n",
    "\n",
    "# Basic Division function which divide the values \n",
    "def div(a,b):\n",
    "    print(a/b)\n",
    "\n",
    "\n",
    "    \n",
    "# Decorator function which modified the basic div function according to our need\n",
    "def decorator_div(func):\n",
    "    \n",
    "    def inner(a,b):\n",
    "        if a<b:\n",
    "            a,b = b,a \n",
    "        return func(a,b)\n",
    "    return inner\n",
    "\n",
    "div_new = decorator_div(div)\n",
    "div_new(2,4)"
   ]
  },
  {
   "cell_type": "code",
   "execution_count": 5,
   "metadata": {},
   "outputs": [
    {
     "name": "stdout",
     "output_type": "stream",
     "text": [
      "Before saying Hello we must say good morning/evening:\n",
      "This is the hello funcion:Say Hello sir\n",
      "After saying Hello you have give report of the work that you finished today\n"
     ]
    }
   ],
   "source": [
    "\"\"\"\n",
    "1. Decorator can modify the behavior: \n",
    "\"\"\"\n",
    "def hello_function():\n",
    "    print('This is the hello funcion:Say Hello sir')\n",
    "    \n",
    "def decorator_hello(func):\n",
    "    def inner_hello():\n",
    "        print('Before saying Hello we must say good morning/evening:')\n",
    "        func()\n",
    "        print('After saying Hello you have give report of the work that you finished today')\n",
    "    return inner_hello\n",
    "    \n",
    "\n",
    "hello_function = decorator_hello(hello_function)\n",
    "hello_function()"
   ]
  },
  {
   "cell_type": "markdown",
   "metadata": {},
   "source": [
    "                                          1.2 Nested Decorator "
   ]
  },
  {
   "cell_type": "code",
   "execution_count": null,
   "metadata": {},
   "outputs": [],
   "source": [
    "\"\"\"\n",
    "\n",
    "Nesting means placing or storing inside the other. Therefore, Nested Decorators means applying more than one \n",
    "decorator inside a function. Python allows us to implement more than one decorator to a function. It makes \n",
    "decorators useful for resuabale building blocks as it accumulates the several effects together.\n",
    "\n",
    "                                       How several decorators are applied?\n",
    "                                       \n",
    "A function can be decorated multiple times. We need to define the decorator first that we want to wrap the output \n",
    "string with, and then apply them to the function using the ‘@’ . One simply needs to place the decorators above the\n",
    "desired function.\n",
    "\n",
    "    Syntax : \n",
    "        @function1\n",
    "        @function2\n",
    "        def function(name):\n",
    "            print(f\"{name}\")\n",
    "            \n",
    "Note : Nested decorators follow a bottom to top approach i.e the reverse order. It can be related to a construction \n",
    "       of  building where we start the construction from the bottom (the ground) and then start building the floors.\n",
    "\n",
    "\"\"\""
   ]
  },
  {
   "cell_type": "code",
   "execution_count": 6,
   "metadata": {},
   "outputs": [
    {
     "name": "stdout",
     "output_type": "stream",
     "text": [
      "<i><strong>This is a basic program</strong></i>\n"
     ]
    }
   ],
   "source": [
    "\"\"\"\n",
    "Example :1.2.1\n",
    "\"\"\"\n",
    "\n",
    "def italic(func): \n",
    "      \n",
    "    def wrapper(): \n",
    "        return '<i>' + func() + '</i>'\n",
    "      \n",
    "    return wrapper \n",
    "  \n",
    "def strong(func): \n",
    "      \n",
    "    def wrapper(): \n",
    "        return '<strong>' + func() + '</strong>'\n",
    "      \n",
    "    return wrapper \n",
    "  \n",
    "  \n",
    "@italic\n",
    "@strong\n",
    "def introduction(): \n",
    "    return 'This is a basic program'\n",
    "  \n",
    "print(introduction())\n",
    "\n",
    "\n",
    "\n",
    "\n",
    "\"\"\"\n",
    "Description : \n",
    "\n",
    "    - We have defined two decorators first, which are used in wrapping the output string of the decorated function \n",
    "      in the ‘strong’ and ‘italic’ tags of HTML.\n",
    "    - Then we are applying the two decorators to our ‘introduction’ function by using just an “@” and the function \n",
    "      name. For example in this program we are using @italic and @strong.\n",
    "    - The hierrachy that it follows is from bottom to top. Therefore according to it the string is wrapped with ‘strong’ \n",
    "      first an then with ‘italic’.\n",
    "\"\"\""
   ]
  },
  {
   "cell_type": "code",
   "execution_count": 24,
   "metadata": {},
   "outputs": [
    {
     "name": "stdout",
     "output_type": "stream",
     "text": [
      "Before saying Hello we must say good morning/evening:\n",
      "This is the hello funcion:Say Hello sir\n",
      "Before saying Hello we must say good morning/evening:\n"
     ]
    }
   ],
   "source": [
    "\"\"\"\n",
    "Example 1.2.2:\n",
    "\"\"\"\n",
    "\n",
    "def decorator_hello_before(func):\n",
    "    def Before_hello():\n",
    "        print('Before saying Hello we must say good morning/evening:')\n",
    "        func()\n",
    "    return Before_hello\n",
    "\n",
    "def decorator_hello_after(func):\n",
    "    def After_hello():\n",
    "        func()\n",
    "        print('Before saying Hello we must say good morning/evening:')\n",
    "    return After_hello\n",
    "\n",
    "\n",
    "@decorator_hello_before\n",
    "@decorator_hello_after\n",
    "def hello_function():\n",
    "    print('This is the hello funcion:Say Hello sir')\n",
    "\n",
    "    \n",
    "\n",
    "hello_function()"
   ]
  },
  {
   "cell_type": "code",
   "execution_count": 25,
   "metadata": {},
   "outputs": [
    {
     "name": "stdout",
     "output_type": "stream",
     "text": [
      "EGROEG IH\n"
     ]
    }
   ],
   "source": [
    "\"\"\"\n",
    "Example 1.2.3\n",
    "\"\"\"\n",
    "\n",
    "def reverse_decorator(function): \n",
    "  \n",
    "    def reverse_wrapper(): \n",
    "        make_reverse = \"\".join(reversed(function())) \n",
    "        return make_reverse \n",
    "  \n",
    "    return reverse_wrapper \n",
    "  \n",
    "def uppercase_decorator(function): \n",
    "  \n",
    "    def uppercase_wrapper(): \n",
    "        var_uppercase = function().upper() \n",
    "        return var_uppercase \n",
    "  \n",
    "    return uppercase_wrapper \n",
    "  \n",
    "@uppercase_decorator\n",
    "@reverse_decorator\n",
    "def say_hi(): \n",
    "    return 'hi george'\n",
    "  \n",
    "def main(): \n",
    "    print(say_hi()) \n",
    "  \n",
    "if __name__ == \"__main__\": \n",
    "    main()"
   ]
  },
  {
   "cell_type": "markdown",
   "metadata": {},
   "source": [
    "                                         1.3 Arguments in Decorator Function"
   ]
  },
  {
   "cell_type": "code",
   "execution_count": 26,
   "metadata": {},
   "outputs": [
    {
     "name": "stdout",
     "output_type": "stream",
     "text": [
      "Arguments accepted are: Travelling, Reading\n",
      "My Hobbies are Travelling and Reading\n"
     ]
    }
   ],
   "source": [
    "\"\"\"\n",
    "Example 1.3.1 :\n",
    "\"\"\"\n",
    "\n",
    "\n",
    "\n",
    "def decorator_arguments(function): \n",
    "    def wrapper_arguments(arg1, arg2): \n",
    "        print(\"Arguments accepted are: {0}, {1}\".format(arg1, arg2)) \n",
    "        function(arg1, arg2)  # calls the function hobbies \n",
    "  \n",
    "    return wrapper_arguments \n",
    "  \n",
    "@decorator_arguments\n",
    "def hobbies(hobby_one, hobby_two): \n",
    "    print(\"My Hobbies are {0} and {1}\".format(hobby_one, hobby_two)) \n",
    "  \n",
    "def main(): \n",
    "    hobbies(\"Travelling\", \"Reading\") \n",
    "  \n",
    "if __name__ == \"__main__\": \n",
    "    main()"
   ]
  },
  {
   "cell_type": "code",
   "execution_count": 28,
   "metadata": {},
   "outputs": [
    {
     "name": "stdout",
     "output_type": "stream",
     "text": [
      "5\n",
      "6\n",
      "1.2\n"
     ]
    }
   ],
   "source": [
    "\"\"\"\n",
    "Example 1.3.2:\n",
    "\"\"\"\n",
    "\n",
    "\n",
    "# Decorator function which modified the basic div function according to our need\n",
    "def decorator_div(func):\n",
    "    \n",
    "    def inner(a,b):\n",
    "        if a<b:\n",
    "            a,b = b,a \n",
    "        return func(a,b)\n",
    "    return inner\n",
    "\n",
    "\n",
    "\n",
    "# Basic Division function which divide the values \n",
    "def div(a,b):\n",
    "    print(a/b)\n",
    "\n",
    "\n",
    "    \n",
    "\n",
    "def main():\n",
    "    a = int(input())\n",
    "    b = int(input()) \n",
    "    div_new(a,b)\n",
    "    \n",
    "if __name__ == \"__main__\":\n",
    "    main()"
   ]
  },
  {
   "cell_type": "code",
   "execution_count": 29,
   "metadata": {},
   "outputs": [
    {
     "name": "stdout",
     "output_type": "stream",
     "text": [
      "<function decorator_arguments.<locals>.wrapper_arguments at 0x7f662b59a290>\n",
      " Arguments accepted are: Travelling, Reading\n"
     ]
    }
   ],
   "source": [
    "\"\"\"\n",
    "Example 1.3.3:\n",
    "\"\"\"\n",
    "\n",
    "\n",
    "def decorator_arguments(function): \n",
    "  \n",
    "    def wrapper_arguments(arg1, arg2): \n",
    "        print(\" Arguments accepted are: {0}, {1}\".format(arg1, arg2)) \n",
    "  \n",
    "    return wrapper_arguments \n",
    "  \n",
    "@decorator_arguments\n",
    "def hobbies(hobby_one, hobby_two): \n",
    "    print(\"My Hobbies are {0} and {1}\".format(hobby_one, hobby_two)) \n",
    "  \n",
    "def main(): \n",
    "  \n",
    "    # the reference of wrapper_arguments \n",
    "    # is returned \n",
    "    hob = hobbies \n",
    "    print(hob) \n",
    "  \n",
    "    # passing the arguments to the  \n",
    "    # wrapper_arguments \n",
    "    hob('Travelling', 'Reading') \n",
    "  \n",
    "main()"
   ]
  },
  {
   "cell_type": "markdown",
   "metadata": {},
   "source": [
    "                                          1.4 Where Decorators are Used?"
   ]
  },
  {
   "cell_type": "markdown",
   "metadata": {},
   "source": [
    "1. The standard library provides many modules that include decorators and many Python tools and frameworks that make use of decorators. Few examples are:\n",
    "\n",
    "    - You can use @classmethod or @staticmethod decorator for creating a method without creating an instance\n",
    "    - The mock module permits the use of @mock.patch or @mock.patch.object as a decorator which is used for unit         testing.\n",
    "    - Common tools such as Django (uses @login_required) for setting login privileges and Flask (uses @app.route)       for function registry uses decorators.\n",
    "    - To identify a function as an asynchronous task Celery uses @task decorator.\n",
    "    \n",
    "2. Two important reasons to write this reusable piece of Python functionality are when written properly the decorators are modular and explicit.\n",
    "\n",
    "        Modularity of Decorators\n",
    "        Decorators are Explicit\n",
    "\n",
    "    - Modularity of Decorators : Using decorators’ programmers can add or remove functionalities easily in defined                                  blocks of code, which refrains the repetition of boilerplate setup.\n",
    "\n",
    "    - Decorators are explicit : Programmers can apply Decorators to all callable based on the need. This ensures                                   readability and provides clean code.\n",
    "\n"
   ]
  },
  {
   "cell_type": "markdown",
   "metadata": {},
   "source": [
    "                                         1.5 Decorator UseCases"
   ]
  },
  {
   "cell_type": "markdown",
   "metadata": {},
   "source": [
    "1. Programmers can apply Decorators to all callable based on the need. This ensures readability and provides clean    code.\n",
    "\n",
    "    Here we will discuss a few decorator use-cases which help you to understand When to write Decorators.\n",
    "\n",
    "        Functional Addons\n",
    "        Data Sanitization\n",
    "        Function Registration\n",
    "        \n",
    "    Functional Addons : The first and foremost reason to write a decorator is its flexibility to add extra                                functionality to the defined blocks of code(functions and classes).\n",
    "\n",
    "    Data Sanitization : With proper data sanitization methods, you can remove or destroy the data that is stored                           on memory and make it impossible to recover it. For example, you may use the facility of                           cache to avoid running the same function or you may use methods to validate the user login                         credentials and so on, which points to the importance of data sanitization. A decorator                           can properly sanitize the arguments that passed to the decorated function and also                                 sanitize the data returned from the function.\n",
    "\n",
    "    Function Registration : Another point to write a decorator is to register a function. Here decorator allows                               two or more subsystems to communicate without having much information about each                                   other."
   ]
  },
  {
   "cell_type": "markdown",
   "metadata": {},
   "source": []
  },
  {
   "cell_type": "markdown",
   "metadata": {},
   "source": [
    "                                       2. Decorating Classes"
   ]
  },
  {
   "cell_type": "markdown",
   "metadata": {},
   "source": [
    "The above section shows how decorators help in decorating functions. We have seen that decorators are callable that accepts and returns a callable. Since classes are callable, decorators are also used to decorate classes. Some of the uses of decorating classes are:\n",
    "\n",
    "    Addition or enhancement of attributes\n",
    "    Attribute interaction\n",
    "    Alter the API of a class (alter the way of declaring classes and its instance use)"
   ]
  },
  {
   "cell_type": "markdown",
   "metadata": {},
   "source": [
    "                                               Example"
   ]
  },
  {
   "cell_type": "code",
   "execution_count": 30,
   "metadata": {},
   "outputs": [
    {
     "name": "stdout",
     "output_type": "stream",
     "text": [
      "Inside Function Call\n",
      "GeeksforGeeks\n"
     ]
    }
   ],
   "source": [
    "\"\"\"\n",
    "Example2.1\n",
    "\"\"\"\n",
    "\n",
    "\n",
    "\n",
    "class MyDecorator: \n",
    "  \n",
    "    def __init__(self, function): \n",
    "        self.function = function \n",
    "  \n",
    "    def __call__(self): \n",
    "        print(\"Inside Function Call\") \n",
    "        self.function() \n",
    "  \n",
    "@MyDecorator\n",
    "def function(): \n",
    "    print(\"GeeksforGeeks\") \n",
    "  \n",
    "def main(): \n",
    "    function() \n",
    "  \n",
    "if __name__ == \"__main__\": \n",
    "    main()"
   ]
  },
  {
   "cell_type": "markdown",
   "metadata": {},
   "source": [
    "For more Guide :\n",
    "\n",
    "1. Geeksforgeeks : https://www.geeksforgeeks.org/python-decorators-a-complete-guide/?ref=rp\n",
    "2. Programiz : https://www.programiz.com/python-programming/decorator\n",
    "3. Youtube : https://www.youtube.com/watch?v=yNzxXZfkLUA"
   ]
  },
  {
   "cell_type": "raw",
   "metadata": {},
   "source": []
  },
  {
   "cell_type": "markdown",
   "metadata": {},
   "source": [
    "                                             2.Exception Handling"
   ]
  },
  {
   "cell_type": "markdown",
   "metadata": {},
   "source": [
    "1. Defination : Error in Python can be of two types i.e. Syntax errors and Exceptions. Errors are the problems in                 a program due to which the program will stop the execution. On the other hand, exceptions are                     raised when some internal events occur which changes the normal flow of the program.\n",
    "\n",
    "    - Comman Exception Types :\n",
    "        \n",
    "            Sr.No.       Exception Name        Description\n",
    "             \n",
    "              1\t         Exception             Base class for all exceptions\n",
    "\n",
    "              2\t         StopIteration         Raised when the next() method of an iterator does not point to any                                                object.\n",
    "              \n",
    "              3\t         SystemExit            Raised by the sys.exit() function.\n",
    "\n",
    "              4\t         StandardError         Base class for all built-in exceptions except StopIteration and                                                    SystemExit.\n",
    "              \n",
    "              5\t         ArithmeticError       Base class for all errors that occur for numeric calculation.\n",
    "\n",
    "              6          OverflowError         Raised when a calculation exceeds maximum limit for a numeric type.\n",
    "\n",
    "              7          FloatingPointError    Raised when a floating point calculation fails.\n",
    "\n",
    "              8\t         ZeroDivisionError     Raised when division or modulo by zero takes place for all numeric                                                types.\n",
    "\n",
    "              9          AssertionError        Raised in case of failure of the Assert statement.\n",
    "\n",
    "              10\t     AttributeError        Raised in case of failure of attribute reference or assignment.\n",
    "\n",
    "              11\t     EOFError              Raised when there is no input from either the raw_input() or                                                      input() function and the end of file is reached.\n",
    "\n",
    "              12\t     ImportError           Raised when an import statement fails.\n",
    "\n",
    "              13\t     KeyboardInterrupt     Raised when the user interrupts program execution, usually by                                                      pressing Ctrl+c.\n",
    " \n",
    "              14\t     LookupError           Base class for all lookup errors.\n",
    "\n",
    "              15\t     IndexError            Raised when an index is not found in a sequence.\n",
    "\n",
    "              16\t     KeyError              Raised when the specified key is not found in the dictionary.\n",
    "\n",
    "              17\t     NameError             Raised when an identifier is not found in the local or global                                                      namespace.\n",
    "\n",
    "              18         UnboundLocalError     Raised when trying to access a local variable in a function or                                                    method but no value has been assigned to it.\n",
    "\n",
    "              19\t     EnvironmentError      Base class for all exceptions that occur outside the Python                                                        environment.\n",
    "\n",
    "              20\t     IOError               Raised when an input/ output operation fails, such as the print                                                    statement or the open() function when trying to open a file that                                                  does not exist.\n",
    "\n",
    "              21\t     IOError               Raised for operating system-related errors.\n",
    "\n",
    "              22\t     SyntaxError           Raised when there is an error in Python syntax.\n",
    "\n",
    "              23\t     IndentationError      Raised when indentation is not specified properly.\n",
    "\n",
    "              24\t     SystemError           Raised when the interpreter finds an internal problem, but when                                                    this error is encountered the Python interpreter does not exit.\n",
    "\n",
    "              25\t     SystemExit            Raised when Python interpreter is quit by using the sys.exit()                                                    function. If not handled in the code, causes the interpreter to                                                    exit.\n",
    "  \n",
    "              26\t     TypeError             Raised when an operation or function is attempted that is invalid                                                  for the specified data type.\n",
    "\n",
    "              27\t     ValueError            Raised when the built-in function for a data type has the valid                                                    type of arguments, but the arguments have invalid values specified.\n",
    "\n",
    "              28\t     RuntimeError          Raised when a generated error does not fall into any category.\n",
    "\n",
    "              29\t     NotImplementedError   Raised when an abstract method that needs to be implemented in an                                                  inherited class is not actually implemented.\n",
    "              \n",
    "    - We can handle the exception in python by using Try and Except in Exception Handling.\n",
    "    \n",
    "       * Syntax : \n",
    "            try :\n",
    "                error contain program\n",
    "            except (Exception names):\n",
    "                message or another part which run when the error occur\n",
    "       * Points :\n",
    "           1. A try statement can have more than one except clause, to specify handlers for different exceptions.               Please note that at most one handler will be executed\n",
    "           \n",
    "           2. Exception is the base class for all the exceptions in Python. You can check the exception hierarchy               here.\n",
    "           \n",
    "           3. We can use else clause with try-except block . The code enters the else block only if the try clause               does not raise an exception.\n",
    "           \n",
    "           4. In the python one more keyword is used to handle the exception it is known as 'finally'\n",
    "           \n",
    "       * Finally Keyword in Python: \n",
    "           \n",
    "           - Python provides a keyword finally, which is always executed after try and except blocks. The finally              block always executes after normal termination of try block or after try block terminates due to some              exception.\n",
    "           \n",
    "           * Syntax : \n",
    "                   try:\n",
    "                       # Some Code.... \n",
    "                   except:\n",
    "                       # optional block\n",
    "                       # Handling of exception (if required)\n",
    "                   else:\n",
    "                       # execute if no exception\n",
    "                   finally:\n",
    "                       # Some code .....(always executed)\n",
    "                \n",
    "         "
   ]
  },
  {
   "cell_type": "markdown",
   "metadata": {},
   "source": [
    "                                         Example : "
   ]
  },
  {
   "cell_type": "code",
   "execution_count": 32,
   "metadata": {},
   "outputs": [
    {
     "name": "stdout",
     "output_type": "stream",
     "text": [
      "Second element = 2\n",
      "An error occurred\n"
     ]
    }
   ],
   "source": [
    "\"\"\"\n",
    "Example 2.1 \n",
    "\"\"\"\n",
    "\n",
    "\n",
    "a = [1, 2, 3] \n",
    "try:  \n",
    "    print (\"Second element = %d\" %(a[1])) \n",
    "  \n",
    "    # Throws error since there are only 3 elements in array \n",
    "    print (\"Fourth element = %d\" %(a[3]))  \n",
    "  \n",
    "except IndexError: \n",
    "    print (\"An error occurred\")"
   ]
  },
  {
   "cell_type": "code",
   "execution_count": 33,
   "metadata": {},
   "outputs": [
    {
     "name": "stdout",
     "output_type": "stream",
     "text": [
      "\n",
      "Error Occurred and Handled\n"
     ]
    }
   ],
   "source": [
    "\"\"\"\n",
    "Example 2.2 \n",
    "\"\"\"\n",
    "\n",
    "try :  \n",
    "    a = 3\n",
    "    if a < 4 : \n",
    "  \n",
    "        # throws ZeroDivisionError for a = 3  \n",
    "        b = a/(a-3) \n",
    "      \n",
    "    # throws NameError if a >= 4 \n",
    "    print (\"Value of b = \", b) \n",
    "  \n",
    "# note that braces () are necessary here for multiple exceptions \n",
    "except(ZeroDivisionError, NameError): \n",
    "    print (\"\\nError Occurred and Handled\")"
   ]
  },
  {
   "cell_type": "code",
   "execution_count": 34,
   "metadata": {},
   "outputs": [
    {
     "name": "stdout",
     "output_type": "stream",
     "text": [
      "-5.0\n",
      "a/b result in 0\n"
     ]
    }
   ],
   "source": [
    "\"\"\"\n",
    "Example 2.3\n",
    "\"\"\"\n",
    "\n",
    "def AbyB(a , b): \n",
    "    try: \n",
    "        c = ((a+b) / (a-b)) \n",
    "    except ZeroDivisionError: \n",
    "        print (\"a/b result in 0\")\n",
    "    else: \n",
    "        print (c) \n",
    "  \n",
    "# Driver program to test above function \n",
    "AbyB(2.0, 3.0) \n",
    "AbyB(3.0, 3.0)"
   ]
  },
  {
   "cell_type": "code",
   "execution_count": 35,
   "metadata": {},
   "outputs": [
    {
     "name": "stdout",
     "output_type": "stream",
     "text": [
      "Can't divide by zero\n",
      "This is always executed\n"
     ]
    }
   ],
   "source": [
    "\"\"\"\n",
    "Example 2.4\n",
    "\"\"\"\n",
    "\n",
    "try:  \n",
    "    k = 5//0 # raises divide by zero exception.  \n",
    "    print(k)  \n",
    "    \n",
    "# handles zerodivision exception      \n",
    "except ZeroDivisionError:     \n",
    "    print(\"Can't divide by zero\")  \n",
    "        \n",
    "finally:  \n",
    "    # this block is always executed   \n",
    "    # regardless of exception generation.  \n",
    "    print('This is always executed')"
   ]
  },
  {
   "cell_type": "markdown",
   "metadata": {},
   "source": [
    "                                          2.1 Raising Exception"
   ]
  },
  {
   "cell_type": "markdown",
   "metadata": {},
   "source": [
    "The raise statement allows the programmer to force a specific exception to occur. The sole argument in raise indicates the exception to be raised. This must be either an exception instance or an exception class (a class that derives from Exception)."
   ]
  },
  {
   "cell_type": "code",
   "execution_count": 37,
   "metadata": {},
   "outputs": [
    {
     "name": "stdout",
     "output_type": "stream",
     "text": [
      "An exception\n"
     ]
    },
    {
     "ename": "NameError",
     "evalue": "Hi there",
     "output_type": "error",
     "traceback": [
      "\u001b[0;31m---------------------------------------------------------------------------\u001b[0m",
      "\u001b[0;31mNameError\u001b[0m                                 Traceback (most recent call last)",
      "\u001b[0;32m<ipython-input-37-c9928f02a3dc>\u001b[0m in \u001b[0;36m<module>\u001b[0;34m\u001b[0m\n\u001b[1;32m      5\u001b[0m \u001b[0;34m\u001b[0m\u001b[0m\n\u001b[1;32m      6\u001b[0m \u001b[0;32mtry\u001b[0m\u001b[0;34m:\u001b[0m\u001b[0;34m\u001b[0m\u001b[0;34m\u001b[0m\u001b[0m\n\u001b[0;32m----> 7\u001b[0;31m     \u001b[0;32mraise\u001b[0m \u001b[0mNameError\u001b[0m\u001b[0;34m(\u001b[0m\u001b[0;34m\"Hi there\"\u001b[0m\u001b[0;34m)\u001b[0m  \u001b[0;31m# Raise Error\u001b[0m\u001b[0;34m\u001b[0m\u001b[0;34m\u001b[0m\u001b[0m\n\u001b[0m\u001b[1;32m      8\u001b[0m \u001b[0;32mexcept\u001b[0m \u001b[0mNameError\u001b[0m\u001b[0;34m:\u001b[0m\u001b[0;34m\u001b[0m\u001b[0;34m\u001b[0m\u001b[0m\n\u001b[1;32m      9\u001b[0m     \u001b[0mprint\u001b[0m \u001b[0;34m(\u001b[0m\u001b[0;34m\"An exception\"\u001b[0m\u001b[0;34m)\u001b[0m\u001b[0;34m\u001b[0m\u001b[0;34m\u001b[0m\u001b[0m\n",
      "\u001b[0;31mNameError\u001b[0m: Hi there"
     ]
    }
   ],
   "source": [
    "\"\"\"\n",
    "Example 2.1.1\n",
    "\"\"\"\n",
    "\n",
    "\n",
    "try:  \n",
    "    raise NameError(\"Hi there\")  # Raise Error \n",
    "except NameError: \n",
    "    print (\"An exception\")\n",
    "    raise  # To determine whether the exception was raised or not "
   ]
  },
  {
   "cell_type": "markdown",
   "metadata": {},
   "source": [
    "For more Guide :\n",
    "\n",
    "1. Geeksforgeeks : https://www.geeksforgeeks.org/python-exception-handling/?ref=lbp\n",
    "2. Tutorialspoint : https://www.tutorialspoint.com/python/python_exceptions.htm\n",
    "3. Book_name  : Data Structure & Algorithms in python (Writer : Michael T. Goodrich,Roberto Tamassia,Michael H. Goldwsser)"
   ]
  },
  {
   "cell_type": "markdown",
   "metadata": {},
   "source": []
  },
  {
   "cell_type": "markdown",
   "metadata": {},
   "source": [
    "                                           File Handling :"
   ]
  },
  {
   "cell_type": "markdown",
   "metadata": {},
   "source": [
    "1. Defination : Python too supports file handling and allows users to handle files i.e., to read and write files,                 along with many other file handling options, to operate on files. The concept of file handling has                 stretched over various other languages, but the implementation is either complicated or lengthy,                   but alike other concepts of Python, this concept here is also easy and short. Python treats file                   differently as text or binary and this is important. Each line of code includes a sequence of                     characters and they form text file. Each line of a file is terminated with a special character,                   called the EOL or End of Line characters like comma {,} or newline character. It ends the current                 line and tells the interpreter a new one has begun. Let’s start with Reading and Writing files.\n",
    "\n",
    "    - Working of open() function : We use open () function in Python to open a file in read or write mode. As                                        explained above, open ( ) will return a file object. To return a file object we                                    use open() function along with two arguments, that accepts file name and the                                      mode, whether to read or write. So, the syntax being: open(filename, mode).                                        There are three kinds of mode, that Python provides and how files can be                                          opened:\n",
    "                    \n",
    "                                  *  “ r “, for reading.\n",
    "                                  *  “ w “, for writing.\n",
    "                                  *  “ a “, for appending.\n",
    "                                  *  “ r+ “, for both reading and writing\n",
    "                                  \n",
    "    - Working of read() mode : There is more than one way to read a file in Python. If you need to extract a                                      string that contains all characters in the file then we can use file.read().\n",
    "    \n",
    "    - Creating a file using write() mode : To manipulate the file, write the following in your Python environment\n",
    "    \n",
    "    - Working of append() mode : \n",
    "    \n",
    "    \n",
    "    * Note :The close() command terminates all the resources in use and frees the system of this particular                   program.\n",
    "\n"
   ]
  },
  {
   "cell_type": "code",
   "execution_count": 38,
   "metadata": {},
   "outputs": [
    {
     "data": {
      "text/plain": [
       "'\\nExample:\\n'"
      ]
     },
     "execution_count": 38,
     "metadata": {},
     "output_type": "execute_result"
    }
   ],
   "source": [
    "\"\"\"\n",
    "Example: Working of open() function\n",
    "\"\"\"\n",
    "\n",
    "\n",
    "file = open('geek.txt', 'r') \n",
    "# This will print every line one by one in the file \n",
    "for each in file: \n",
    "    print (each) \n",
    "    \n",
    "file = open(\"file.text\", \"r\")  \n",
    "print file.read() \n",
    "\n",
    "\n",
    "file = open(\"file.txt\", \"r\") \n",
    "print file.read(5)\n"
   ]
  },
  {
   "cell_type": "code",
   "execution_count": null,
   "metadata": {},
   "outputs": [],
   "source": [
    "\"\"\"\n",
    "Example: Creating a file using write() mode\n",
    "\"\"\"\n",
    "\n",
    "\n",
    "\n",
    "# Python code to create a file \n",
    "file = open('geek.txt','w') \n",
    "file.write(\"This is the write command\") \n",
    "file.write(\"It allows us to write in a particular file\") \n",
    "file.close()"
   ]
  },
  {
   "cell_type": "code",
   "execution_count": null,
   "metadata": {},
   "outputs": [],
   "source": [
    "\"\"\"\n",
    "We can use with clause insted of open :\n",
    "\"\"\"\n",
    "\n",
    "with open(\"file.txt\") as file:   \n",
    "    data = file.read() \n",
    "    \n",
    "    \n",
    "\"\"\"\n",
    "By using with clause we do not need to close file manually . with clause automatically handle it .\n",
    "\"\"\""
   ]
  },
  {
   "cell_type": "code",
   "execution_count": null,
   "metadata": {},
   "outputs": [],
   "source": [
    "with open(\"file.txt\",) as file:   \n",
    "    data = file.write() "
   ]
  },
  {
   "cell_type": "code",
   "execution_count": null,
   "metadata": {},
   "outputs": [],
   "source": []
  },
  {
   "cell_type": "code",
   "execution_count": null,
   "metadata": {},
   "outputs": [],
   "source": []
  },
  {
   "cell_type": "code",
   "execution_count": null,
   "metadata": {},
   "outputs": [],
   "source": []
  },
  {
   "cell_type": "code",
   "execution_count": null,
   "metadata": {},
   "outputs": [],
   "source": []
  },
  {
   "cell_type": "code",
   "execution_count": null,
   "metadata": {},
   "outputs": [],
   "source": []
  },
  {
   "cell_type": "code",
   "execution_count": null,
   "metadata": {},
   "outputs": [],
   "source": []
  },
  {
   "cell_type": "code",
   "execution_count": null,
   "metadata": {},
   "outputs": [],
   "source": []
  },
  {
   "cell_type": "code",
   "execution_count": null,
   "metadata": {},
   "outputs": [],
   "source": []
  },
  {
   "cell_type": "code",
   "execution_count": null,
   "metadata": {},
   "outputs": [],
   "source": []
  },
  {
   "cell_type": "code",
   "execution_count": null,
   "metadata": {},
   "outputs": [],
   "source": []
  },
  {
   "cell_type": "code",
   "execution_count": null,
   "metadata": {},
   "outputs": [],
   "source": []
  },
  {
   "cell_type": "code",
   "execution_count": null,
   "metadata": {},
   "outputs": [],
   "source": []
  },
  {
   "cell_type": "code",
   "execution_count": null,
   "metadata": {},
   "outputs": [],
   "source": []
  },
  {
   "cell_type": "code",
   "execution_count": null,
   "metadata": {},
   "outputs": [],
   "source": []
  },
  {
   "cell_type": "code",
   "execution_count": null,
   "metadata": {},
   "outputs": [],
   "source": []
  },
  {
   "cell_type": "code",
   "execution_count": null,
   "metadata": {},
   "outputs": [],
   "source": []
  },
  {
   "cell_type": "code",
   "execution_count": null,
   "metadata": {},
   "outputs": [],
   "source": []
  },
  {
   "cell_type": "code",
   "execution_count": null,
   "metadata": {},
   "outputs": [],
   "source": []
  },
  {
   "cell_type": "code",
   "execution_count": null,
   "metadata": {},
   "outputs": [],
   "source": []
  },
  {
   "cell_type": "code",
   "execution_count": null,
   "metadata": {},
   "outputs": [],
   "source": []
  },
  {
   "cell_type": "code",
   "execution_count": null,
   "metadata": {},
   "outputs": [],
   "source": []
  },
  {
   "cell_type": "code",
   "execution_count": null,
   "metadata": {},
   "outputs": [],
   "source": []
  }
 ],
 "metadata": {
  "kernelspec": {
   "display_name": "Python 3",
   "language": "python",
   "name": "python3"
  },
  "language_info": {
   "codemirror_mode": {
    "name": "ipython",
    "version": 3
   },
   "file_extension": ".py",
   "mimetype": "text/x-python",
   "name": "python",
   "nbconvert_exporter": "python",
   "pygments_lexer": "ipython3",
   "version": "3.7.7"
  }
 },
 "nbformat": 4,
 "nbformat_minor": 4
}

{
 "cells": [
  {
   "cell_type": "markdown",
   "metadata": {},
   "source": [
    "# conditional statements, Loops, functions, classes and objects"
   ]
  },
  {
   "cell_type": "markdown",
   "metadata": {},
   "source": [
    "1. Conditionals Statements :\n",
    "    \n",
    "    - if statement\n",
    "    - if..else statements\n",
    "    - nested if statements\n",
    "    - if-elif ladder\n",
    "    \n",
    "  There comes situations in real life when we need to make some decisions and based on these decisions, we decide   what should we do next. Similar situations arises in programming also where we need to make some decisions and     based on these decision we will execute the next block of code.\n",
    "\n",
    "Decision making statements in programming languages decides the direction of flow of program execution. Decision making statements available in python are:"
   ]
  },
  {
   "cell_type": "markdown",
   "metadata": {},
   "source": [
    "if statement\n",
    "\n",
    "if statement is the most simple decision making statement. It is used to decide whether a certain statement or \n",
    "block of statements will be executed or not i.e if a certain condition is true then a block of statement is \n",
    "executed otherwise not.\n",
    "\n",
    "\n",
    "Syntax :\n",
    "    if condition:           \n",
    "       Statements to execute if\n",
    "       condition is true"
   ]
  },
  {
   "cell_type": "code",
   "execution_count": 1,
   "metadata": {},
   "outputs": [
    {
     "name": "stdout",
     "output_type": "stream",
     "text": [
      "I am Not in if\n"
     ]
    }
   ],
   "source": [
    "i = 10\n",
    "if (i > 15): \n",
    "   print (\"10 is less than 15\") \n",
    "print (\"I am Not in if\") "
   ]
  },
  {
   "cell_type": "markdown",
   "metadata": {},
   "source": [
    "if- else\n",
    "\n",
    "The if statement alone tells us that if a condition is true it will execute a block of statements and if the \n",
    "condition is false it won’t. But what if we want to do something else if the condition is false. Here comes the \n",
    "else statement. We can use the else statement with if statement to execute a block of code when the condition is \n",
    "false.\n",
    "\n",
    "\n",
    "Syntax :\n",
    "    if (condition):\n",
    "        #Executes this block if\n",
    "        #condition is true\n",
    "    else:\n",
    "        #Executes this block if\n",
    "        #condition is false"
   ]
  },
  {
   "cell_type": "code",
   "execution_count": 2,
   "metadata": {},
   "outputs": [
    {
     "name": "stdout",
     "output_type": "stream",
     "text": [
      "i is greater than 15\n",
      "i'm in else Block\n",
      "i'm not in if and not in else Block\n"
     ]
    }
   ],
   "source": [
    "i = 20; \n",
    "if (i < 15): \n",
    "    print (\"i is smaller than 15\") \n",
    "    print (\"i'm in if Block\") \n",
    "else: \n",
    "    print (\"i is greater than 15\") \n",
    "    print (\"i'm in else Block\") \n",
    "print (\"i'm not in if and not in else Block\") \n"
   ]
  },
  {
   "cell_type": "markdown",
   "metadata": {},
   "source": [
    "nested-if\n",
    "\n",
    "A nested if is an if statement that is the target of another if statement. Nested if statements means an if statement \n",
    "inside another if statement. Yes, Python allows us to nest if statements within if statements. i.e, we can place \n",
    "an if statement inside another if statement.\n",
    "\n",
    "Syntax:\n",
    "    if (condition1):\n",
    "       # Executes when condition1 is true\n",
    "       if (condition2): \n",
    "          # Executes when condition2 is true\n",
    "       # if Block is end here\n",
    "#if Block is end here"
   ]
  },
  {
   "cell_type": "code",
   "execution_count": 3,
   "metadata": {},
   "outputs": [
    {
     "name": "stdout",
     "output_type": "stream",
     "text": [
      "i is smaller than 15\n",
      "i is smaller than 12 too\n"
     ]
    }
   ],
   "source": [
    "i = 10\n",
    "if (i == 10): \n",
    "    #  First if statement \n",
    "    if (i < 15): \n",
    "        print (\"i is smaller than 15\") \n",
    "    # Nested - if statement \n",
    "    # Will only be executed if statement above \n",
    "    # it is true \n",
    "    if (i < 12): \n",
    "        print (\"i is smaller than 12 too\") \n",
    "    else: \n",
    "        print (\"i is greater than 15\") "
   ]
  },
  {
   "cell_type": "code",
   "execution_count": null,
   "metadata": {},
   "outputs": [],
   "source": [
    "if-elif-else ladder\n",
    "\n",
    "Here, a user can decide among multiple options. The if statements are executed from the top down. As soon as one \n",
    "of the conditions controlling the if is true, the statement associated with that if is executed, and the rest of \n",
    "the ladder is bypassed. If none of the conditions is true, then the final else statement will be executed.\n",
    "\n",
    "Syntax:-\n",
    "    if (condition):\n",
    "        statement\n",
    "    elif (condition):\n",
    "        statement\n",
    "    .\n",
    "    .\n",
    "    else:\n",
    "        statement"
   ]
  },
  {
   "cell_type": "code",
   "execution_count": 4,
   "metadata": {},
   "outputs": [
    {
     "name": "stdout",
     "output_type": "stream",
     "text": [
      "i is 20\n"
     ]
    }
   ],
   "source": [
    "i = 20\n",
    "if (i == 10): \n",
    "    print (\"i is 10\") \n",
    "elif (i == 15): \n",
    "    print (\"i is 15\") \n",
    "elif (i == 20): \n",
    "    print (\"i is 20\") \n",
    "else: \n",
    "    print (\"i is not present\") "
   ]
  },
  {
   "cell_type": "markdown",
   "metadata": {},
   "source": [
    "# Loops : "
   ]
  },
  {
   "cell_type": "markdown",
   "metadata": {},
   "source": [
    "# Python For Loops:\n",
    "    For loops, in general, are used for sequential traversal. It falls under the category of definite iteration.       Definite iterations means the number of repetitions is specified explicitly in advance.\n",
    " Note: In python, for loops only implements the collection-based iteration.\n",
    "\n",
    "For in loops:\n",
    "\n",
    "      For loops are used for sequential traversal. For example: traversing a list or string or array etc. In             Python,there is no C style for loop, i.e., for (i=0; i<n; i++). There is “for in” loop which is similar to         for each loop in other languages. Let us learn how to use for in loop for sequential traversals.\n",
    "      \n",
    "      \n",
    "Syntax:\n",
    "\n",
    "    for var in iterable:\n",
    "        # statements\n",
    "        \n",
    "Here the iterable is a collection of objects like list, tuple. The indented statements inside the for loops are executed once for each item in an iterable. The variable var takes the value of next item of the iterable each time through the"
   ]
  },
  {
   "cell_type": "code",
   "execution_count": 6,
   "metadata": {},
   "outputs": [
    {
     "name": "stdout",
     "output_type": "stream",
     "text": [
      "Current Letter : g\n",
      "Current Letter : k\n",
      "Current Letter : f\n",
      "Current Letter : o\n",
      "Current Letter : r\n",
      "Current Letter : g\n",
      "Current Letter : k\n",
      "Current Letter : e\n"
     ]
    }
   ],
   "source": [
    "\"\"\"\n",
    "Loop Control Statements :\n",
    "        Loop control statements change execution from its normal sequence. When execution leaves a scope, all \n",
    "        automatic objects that were created in that scope are destroyed. Python supports the following control \n",
    "        statements.\n",
    "\n",
    "Continue Statement: It returns the control to the beginning of the loop.\n",
    "\n",
    "\"\"\"\n",
    "\n",
    "\n",
    "for letter in 'geeksforgeeks':  \n",
    "    if letter == 'e' or letter == 's':  \n",
    "        continue\n",
    "    print('Current Letter :', letter) \n",
    "    var = 10\n",
    "    \n",
    "    \n"
   ]
  },
  {
   "cell_type": "code",
   "execution_count": 7,
   "metadata": {},
   "outputs": [
    {
     "name": "stdout",
     "output_type": "stream",
     "text": [
      "Current Letter : e\n"
     ]
    }
   ],
   "source": [
    "\"\"\"\n",
    "Break Statement: It brings control out of the loop.\n",
    "\"\"\"\n",
    "\n",
    "for letter in 'geeksforgeeks':   \n",
    "    \n",
    "    # break the loop as soon it sees 'e'   \n",
    "    # or 's'  \n",
    "    if letter == 'e' or letter == 's':  \n",
    "         break\n",
    "    \n",
    "print('Current Letter :', letter) "
   ]
  },
  {
   "cell_type": "code",
   "execution_count": 8,
   "metadata": {},
   "outputs": [
    {
     "name": "stdout",
     "output_type": "stream",
     "text": [
      "Last Letter : s\n"
     ]
    }
   ],
   "source": [
    "\"\"\"\n",
    "Pass Statement: We use pass statement to write empty loops. Pass is also used for empty control statements,\n",
    "                function and classes.\n",
    "\"\"\"\n",
    "\n",
    "for letter in 'geeksforgeeks':  \n",
    "    pass\n",
    "print('Last Letter :', letter) "
   ]
  },
  {
   "cell_type": "code",
   "execution_count": 10,
   "metadata": {},
   "outputs": [
    {
     "name": "stdout",
     "output_type": "stream",
     "text": [
      "0 1 2 3 4 5 6 7 8 9 \n",
      "10 20 30 40 \n",
      "Sum of first 10 natural number : 45\n"
     ]
    }
   ],
   "source": [
    "\"\"\"\n",
    "range() function : \n",
    "            range() is a built-in function of Python. It is used when a user needs to perform an action for a \n",
    "            specific number of times. range() in Python(3.x) is just a renamed version of a function called \n",
    "            xrange() in Python(2.x). The range() function is used to generate a sequence of numbers.\n",
    "In simple terms, range() allows user to generate a series of numbers within a given range. Depending on how many arguments user is passing to the function, user can decide where that series of numbers will begin and end as well as how big the difference will be between one number and the next.range() takes mainly three arguments.\n",
    "\n",
    "    - start: integer starting from which the sequence of integers is to be returned\n",
    "    - stop: integer before which the sequence of integers is to be returned.\n",
    "    - The range of integers end at stop – 1.\n",
    "    - step: integer value which determines the increment between each integer in the sequence\n",
    "\"\"\"\n",
    "\n",
    "for i in range(10):  \n",
    "    print(i, end =\" \")  \n",
    "print()  \n",
    "  \n",
    "# using range for iteration  \n",
    "l = [10, 20, 30, 40]  \n",
    "for i in range(len(l)):  \n",
    "    print(l[i], end =\" \")  \n",
    "print()  \n",
    "  \n",
    "# performing sum of natural  \n",
    "# number  \n",
    "sum = 0\n",
    "for i in range(1, 10):  \n",
    "    sum = sum + i  \n",
    "print(\"Sum of first 10 natural number :\", sum)"
   ]
  },
  {
   "cell_type": "code",
   "execution_count": 11,
   "metadata": {},
   "outputs": [
    {
     "name": "stdout",
     "output_type": "stream",
     "text": [
      "1\n",
      "2\n",
      "3\n",
      "No Break\n",
      "\n",
      "1\n"
     ]
    }
   ],
   "source": [
    "\"\"\"for-else loop :\n",
    "        In most of the programming languages (C/C++, Java, etc), the use of else statement has been restricted \n",
    "        with the if conditional statements. But Python also allows us to use the else condition with for loops.\n",
    "\n",
    "    Note: The else block just after for/while is executed only when the loop is NOT terminated by a break statement.\n",
    "\"\"\"\n",
    "\n",
    "for i in range(1, 4):  \n",
    "    print(i)  \n",
    "else: # Executed because no break in for  \n",
    "    print(\"No Break\\n\")  \n",
    "  \n",
    "for i in range(1, 4):  \n",
    "    print(i)  \n",
    "    break\n",
    "else: # Not executed as there is a break  \n",
    "    print(\"No Break\") "
   ]
  },
  {
   "cell_type": "markdown",
   "metadata": {},
   "source": [
    "# Python While loop:\n",
    "\n",
    "    In Python, While Loops is used to execute a block of statements \n",
    "    repeatedly until a given condition is satisfied. And when the \n",
    "    condition becomes false, the line immediately after the loop in \n",
    "    the program is executed. While loop falls under the category of \n",
    "    indefinite iteration. Indefinite iteration means that the number\n",
    "    of times the loop is executed isn’t specified explicitly in \n",
    "    advance.\n",
    "    \n",
    "Syntax:\n",
    "    while expression:\n",
    "        statement(s)\n",
    "        \n",
    "    Statements represent all the statements indented by the same \n",
    "    number of character spaces after a programming construct are \n",
    "    considered to be part of a single block of code. Python uses\n",
    "    indentation as its method of grouping statements. When a while \n",
    "    loop is executed, expr is first evaluated in a Boolean context \n",
    "    and if it is true, the loop body is executed. Then the expr is \n",
    "    checked again, if it is still true then the body is executed \n",
    "    again and this continues until the expression becomes false."
   ]
  },
  {
   "cell_type": "code",
   "execution_count": 13,
   "metadata": {},
   "outputs": [
    {
     "name": "stdout",
     "output_type": "stream",
     "text": [
      "Hello kanik\n",
      "Hello kanik\n",
      "Hello kanik\n",
      "Hello kanik\n",
      "Hello kanik\n"
     ]
    }
   ],
   "source": [
    "count = 0\n",
    "while (count < 5): \n",
    "    count += 1; \n",
    "    print(\"Hello kanik\") \n"
   ]
  },
  {
   "cell_type": "code",
   "execution_count": 14,
   "metadata": {},
   "outputs": [
    {
     "name": "stdout",
     "output_type": "stream",
     "text": [
      "1\n",
      "2\n",
      "3\n",
      "4\n",
      "No Break\n",
      "\n",
      "1\n"
     ]
    }
   ],
   "source": [
    "\"\"\"\n",
    "while-else loop :\n",
    "        As discussed above, while loop executes the block until a condition is satisfied. When the condition \n",
    "        becomes false, the statement immediately after the loop is executed.\n",
    "        The else clause is only executed when your while condition becomes false. If you break out of the loop, \n",
    "        or if an exception is raised, it won’t be executed.\n",
    "\n",
    "Note: The else block just after for/while is executed only when the loop is NOT terminated by a break statement.\n",
    "\"\"\"\n",
    "\n",
    "i = 0 \n",
    "while i < 4: \n",
    "    i += 1\n",
    "    print(i)  \n",
    "else: # Executed because no break in for  \n",
    "    print(\"No Break\\n\")  \n",
    "  \n",
    "i = 0 \n",
    "while i < 4:  \n",
    "    i += 1\n",
    "    print(i)  \n",
    "    break\n",
    "else: # Not executed as there is a break  \n",
    "    print(\"No Break\") "
   ]
  },
  {
   "cell_type": "markdown",
   "metadata": {},
   "source": [
    "# Functions :"
   ]
  },
  {
   "cell_type": "code",
   "execution_count": null,
   "metadata": {},
   "outputs": [],
   "source": [
    "A function is a set of statements that take inputs, do some specific computation and produces output. The idea is \n",
    "to put some commonly or repeatedly done task together and make a function, so that instead of writing the same \n",
    "code again and again for different inputs, we can call the function.\n",
    "Python provides built-in functions like print(), etc. but we can also create your own functions. These functions \n",
    "are called user-defined functions.\n",
    "\n",
    "Syntax: \n",
    "    def function_name():\n",
    "        code\n",
    "        "
   ]
  },
  {
   "cell_type": "markdown",
   "metadata": {},
   "source": [
    "# Class and objects :"
   ]
  },
  {
   "cell_type": "code",
   "execution_count": null,
   "metadata": {},
   "outputs": [],
   "source": [
    "A class is a user-defined blueprint or prototype from which objects are created. Classes provide a means of bundling \n",
    "data and functionality together. Creating a new class creates a new type of object, allowing new instances of that \n",
    "type to be made. Each class instance can have attributes attached to it for maintaining its state. Class instances \n",
    "can also have methods (defined by its class) for modifying its state.\n",
    "\n",
    "To understand the need for creating a class let’s consider an example, let’s say you wanted to track the number of\n",
    "dogs which may have different attributes like breed, age. If a list is used, the first element could be the dog’s \n",
    "breed while the second element could represent its age. Let’s suppose there are 100 different dogs, then how would \n",
    "you know which element is supposed to be which? What if you wanted to add other properties to these dogs? This lacks\n",
    "organization and it’s the exact need for classes.\n",
    "\n",
    "Class creates a user-defined data structure, which holds its own data members and member functions, which can be \n",
    "accessed and used by creating an instance of that class. A class is like a blueprint for an object.\n",
    "\n",
    "\n",
    "Some points on Python class:\n",
    "\n",
    "    - Classes are created by keyword class.\n",
    "    - Attributes are the variables that belong to class.\n",
    "    - Attributes are always public and can be accessed using dot (.) operator. Eg.: Myclass.Myattribute\n",
    "        \n",
    "\n",
    "        \n",
    "        \n",
    "Syntax: \n",
    "    class ClassName:\n",
    "    # Statement-1\n",
    "    .\n",
    "    .\n",
    "    .\n",
    "    # Statement-N"
   ]
  },
  {
   "cell_type": "code",
   "execution_count": 15,
   "metadata": {},
   "outputs": [],
   "source": [
    "class Dog: \n",
    "    pass\n",
    "\n",
    "D = Dog()"
   ]
  },
  {
   "cell_type": "code",
   "execution_count": null,
   "metadata": {},
   "outputs": [],
   "source": [
    "Class Objects : \n",
    "An Object is an instance of a Class. A class is like a blueprint while an instance is a copy of the class with actual\n",
    "values. It’s not an idea anymore, it’s an actual dog, like a dog of breed pug who’s seven years old. You can have \n",
    "many dogs to create many different instances, but without the class as a guide, you would be lost, not knowing what\n",
    "information is required.\n",
    "\n",
    "An object consists of :\n",
    "\n",
    "    - State : It is represented by attributes of an object. It also reflects the properties of an object.\n",
    "    - Behavior : It is represented by methods of an object. It also reflects the response of an object with other objects.\n",
    "    - Identity : It gives a unique name to an object and enables one object to interact with other objects."
   ]
  },
  {
   "cell_type": "code",
   "execution_count": null,
   "metadata": {},
   "outputs": [],
   "source": []
  },
  {
   "cell_type": "code",
   "execution_count": null,
   "metadata": {},
   "outputs": [],
   "source": []
  },
  {
   "cell_type": "code",
   "execution_count": null,
   "metadata": {},
   "outputs": [],
   "source": []
  },
  {
   "cell_type": "code",
   "execution_count": null,
   "metadata": {},
   "outputs": [],
   "source": []
  },
  {
   "cell_type": "code",
   "execution_count": null,
   "metadata": {},
   "outputs": [],
   "source": []
  },
  {
   "cell_type": "code",
   "execution_count": null,
   "metadata": {},
   "outputs": [],
   "source": []
  }
 ],
 "metadata": {
  "kernelspec": {
   "display_name": "Python 3",
   "language": "python",
   "name": "python3"
  },
  "language_info": {
   "codemirror_mode": {
    "name": "ipython",
    "version": 3
   },
   "file_extension": ".py",
   "mimetype": "text/x-python",
   "name": "python",
   "nbconvert_exporter": "python",
   "pygments_lexer": "ipython3",
   "version": "3.7.7"
  }
 },
 "nbformat": 4,
 "nbformat_minor": 4
}

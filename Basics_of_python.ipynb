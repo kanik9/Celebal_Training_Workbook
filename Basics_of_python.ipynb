{
 "cells": [
  {
   "cell_type": "markdown",
   "metadata": {},
   "source": [
    "# # Python :\n",
    " \n",
    "   1. Defination : \n",
    "                Python is a widely used general-purpose, high level  programming language. It was created by Guido van Rossum in 1991 and further developed by the Python Software Foundation. It was designed with an emphasis on code readability, and its syntax allows programmers to express their concepts in fewer lines of code.\n",
    "\n",
    "Python is a programming language that lets you work quickly and integrate systems more efficiently.\n",
    "\n",
    "\n",
    "- Some facts about Python Programming Language are :\n",
    "\n",
    "     * Python is currently the most widely used multi-purpose, high-   level programming language.\n",
    "     \n",
    "     * Python allows programming in Object-Oriented and Procedural paradigms.\n",
    "     \n",
    "     * Python programs generally are smaller than other programming languages like Java. Programmers have to type        relatively less and indentation requirement of the language, makes them readable all the time.\n",
    "     \n",
    "     * Python language is being used by almost all tech-giant companies like – Google, Amazon, Facebook,                  Instagram, Dropbox, Uber… etc.\n",
    "     \n",
    "     * The biggest strength of Python is huge collection of standard library which can be used for the following:\n",
    "     \n",
    "     Machine Learning\n",
    "     \n",
    "     GUI Applications (like Kivy, Tkinter, PyQt etc. )\n",
    "     \n",
    "     Web frameworks like Django (used by YouTube, Instagram, Dropbox)\n",
    "     \n",
    "     Image processing (like OpenCV, Pillow)\n",
    "     \n",
    "     Web scraping (like Scrapy, BeautifulSoup, Selenium)\n",
    "     \n",
    "     Test frameworks\n",
    "     \n",
    "     Multimedia\n",
    "     \n",
    "     Scientific computingScientific computing\n",
    "     \n",
    "     Text processing and many more..\n",
    "     \n",
    "     * Python is the language which can be used as a programming language, Scripting language and interpreter language also ."
   ]
  },
  {
   "cell_type": "markdown",
   "metadata": {},
   "source": [
    "2. Python Language advantages and applications\n",
    "\n",
    "Python is a high level, interpreted and general purpose dynamic programming language that focuses on code readability.It has fewer steps when compared to Java and C.\n",
    "                                It is used in many organizations as it supports multiple programming paradigms.It also performs automatic memory management.\n",
    "                                \n",
    "* Advantages :\n",
    "  \n",
    "  Presence of third-party modules.\n",
    "  \n",
    "  Extensive support libraries(NumPy for numerical calculations, Pandas   for data analytics etc).\n",
    "  \n",
    "  Open source and community development.\n",
    "  \n",
    "  Easy to learn.\n",
    "  \n",
    "  User-friendly data structures.\n",
    "  \n",
    "  High-level language.\n",
    "  \n",
    "  Dynamically typed language(No need to mention data type based on value assigned, it takes data type).\n",
    "  \n",
    "  Object-oriented language.\n",
    "  \n",
    "  Portable and Interactive.\n",
    "  \n",
    "  Portable across Operating systems.\n",
    "  \n",
    "  - Python operates in different fields or in other words python use to make different types of applications :\n",
    "  \n",
    "      1.GUI based desktop applications(Games, Scientific Applications)\n",
    "      2.Web frameworks and applications.\n",
    "      3.Enterprise and Business applications.\n",
    "      4.Operating Systems \n",
    "      5.Language Development\n",
    "      6.Prototyping \n",
    "      \n",
    "      \n",
    "* Disadvantages :\n",
    "\n",
    "    Speed : Python is slower than C or C++. But of course, Python is a high-level language, unlike C or C++ it's               not closer to hardware.\n",
    "    \n",
    "    Mobile Development : Python is not a very good language for mobile development . It is seen as a weak language                          for mobile computing. This is the reason very few mobile applications are built in it                              like Carbonnelle.\n",
    "    \n",
    "    Memory Consumption : Python is not a good choice for memory intensive tasks. Due to the flexibility of                                  the data-types, Python's memory consumption is also high.But it provide 'Garbage                                  Collection'. Garbage Collection make it more efficent but less that c/c++ and Java etc .\n",
    "    \n",
    "    Database Access : Python has limitations with database access . As compared to the popular technologies like                         JDBC and ODBC, the Python's database access layer is found to be bit underdeveloped and                           primitive .However, it cannot be applied in the enterprises that need smooth interaction of                       complex legacy data .\n",
    "    \n",
    "    Runtime Errors : Python programmers cited several issues with the design of the language. Because the language                      is dynamically typed , it requires more testing and has errors that only show up at runtime .\n",
    "  "
   ]
  },
  {
   "cell_type": "markdown",
   "metadata": {},
   "source": [
    "3. Download and Install Python 3 Latest Version :\n",
    "\n",
    "    website : https://www.python.org/ \"It is the website which contain the whole documentation of python and its                                          library also \"\n",
    "    \n",
    "    * Python is a platform independent programming language it means it is available for all : \n",
    "             windows : https://www.python.org/downloads/windows/\n",
    "             linux/unix : https://www.python.org/downloads/source/\n",
    "             Mac OSX : https://www.python.org/downloads/mac-osx/\n",
    "             Other : https://www.python.org/download/other/"
   ]
  },
  {
   "cell_type": "markdown",
   "metadata": {},
   "source": [
    "4. Before Start python some more important rule  :\n",
    "\n",
    "    1. python follow indentation for for indicating what block of code a statement belongs to.\n",
    "    \n",
    "    2. Identifiers , objects and the Assignment :\n",
    "    \n",
    "        - Identifiers : \n",
    "              \n",
    "               1. Identifiers are case sensitive in python .(it is the name of variable and function)\n",
    "                 \n",
    "               2. Identifiers can be composed of almost any combinations of letter ,numerals and underscore                         character.But the main point of making identifiers is it cannot begin with a numerical.\n",
    "               \n",
    "               3. 33 Identiifiers reserved words that cannot be used for identifiers :\n",
    "               \n",
    "                   False\t  await\t    else\t   import\t  pass\n",
    "                   None\t      break\t    except     in\t      raise\n",
    "                   True\t      class\t    finally\t   is\t      return\n",
    "                   and\t      continue\tfor\t       lambda\t  try\n",
    "                   as\t      def\t    from\t   nonlocal\t  while\n",
    "                   assert\t  del\t    global\t   not\t      with\n",
    "                   async\t  elif\t    if\t       or\t      yield\n",
    "                   \n",
    "               4. Keywords cannot be used as identifiers.\n",
    "               \n",
    "                   example : global = 1\n",
    "               \n",
    "               5. We cannot use special symbols like !, @, #, $, % etc. in our identifier.\n",
    "               \n",
    "               6. An identifier can be of any length.\n",
    "               \n",
    "  \n"
   ]
  },
  {
   "cell_type": "code",
   "execution_count": null,
   "metadata": {},
   "outputs": [],
   "source": [
    "   "
   ]
  },
  {
   "cell_type": "code",
   "execution_count": null,
   "metadata": {},
   "outputs": [],
   "source": []
  },
  {
   "cell_type": "code",
   "execution_count": null,
   "metadata": {},
   "outputs": [],
   "source": []
  },
  {
   "cell_type": "code",
   "execution_count": null,
   "metadata": {},
   "outputs": [],
   "source": []
  },
  {
   "cell_type": "code",
   "execution_count": null,
   "metadata": {},
   "outputs": [],
   "source": []
  },
  {
   "cell_type": "code",
   "execution_count": null,
   "metadata": {},
   "outputs": [],
   "source": []
  },
  {
   "cell_type": "code",
   "execution_count": null,
   "metadata": {},
   "outputs": [],
   "source": []
  },
  {
   "cell_type": "code",
   "execution_count": null,
   "metadata": {},
   "outputs": [],
   "source": []
  },
  {
   "cell_type": "code",
   "execution_count": null,
   "metadata": {},
   "outputs": [],
   "source": []
  },
  {
   "cell_type": "code",
   "execution_count": null,
   "metadata": {},
   "outputs": [],
   "source": []
  },
  {
   "cell_type": "code",
   "execution_count": null,
   "metadata": {},
   "outputs": [],
   "source": []
  },
  {
   "cell_type": "code",
   "execution_count": null,
   "metadata": {},
   "outputs": [],
   "source": []
  },
  {
   "cell_type": "code",
   "execution_count": null,
   "metadata": {},
   "outputs": [],
   "source": []
  },
  {
   "cell_type": "code",
   "execution_count": null,
   "metadata": {},
   "outputs": [],
   "source": []
  },
  {
   "cell_type": "code",
   "execution_count": null,
   "metadata": {},
   "outputs": [],
   "source": []
  },
  {
   "cell_type": "code",
   "execution_count": null,
   "metadata": {},
   "outputs": [],
   "source": []
  },
  {
   "cell_type": "code",
   "execution_count": null,
   "metadata": {},
   "outputs": [],
   "source": []
  },
  {
   "cell_type": "code",
   "execution_count": null,
   "metadata": {},
   "outputs": [],
   "source": []
  },
  {
   "cell_type": "code",
   "execution_count": null,
   "metadata": {},
   "outputs": [],
   "source": []
  },
  {
   "cell_type": "code",
   "execution_count": null,
   "metadata": {},
   "outputs": [],
   "source": []
  },
  {
   "cell_type": "code",
   "execution_count": null,
   "metadata": {},
   "outputs": [],
   "source": []
  },
  {
   "cell_type": "code",
   "execution_count": null,
   "metadata": {},
   "outputs": [],
   "source": []
  },
  {
   "cell_type": "code",
   "execution_count": null,
   "metadata": {},
   "outputs": [],
   "source": []
  },
  {
   "cell_type": "code",
   "execution_count": null,
   "metadata": {},
   "outputs": [],
   "source": []
  },
  {
   "cell_type": "code",
   "execution_count": null,
   "metadata": {},
   "outputs": [],
   "source": []
  },
  {
   "cell_type": "code",
   "execution_count": null,
   "metadata": {},
   "outputs": [],
   "source": []
  },
  {
   "cell_type": "code",
   "execution_count": null,
   "metadata": {},
   "outputs": [],
   "source": []
  },
  {
   "cell_type": "code",
   "execution_count": null,
   "metadata": {},
   "outputs": [],
   "source": []
  },
  {
   "cell_type": "code",
   "execution_count": null,
   "metadata": {},
   "outputs": [],
   "source": []
  },
  {
   "cell_type": "code",
   "execution_count": null,
   "metadata": {},
   "outputs": [],
   "source": []
  },
  {
   "cell_type": "code",
   "execution_count": null,
   "metadata": {},
   "outputs": [],
   "source": []
  },
  {
   "cell_type": "code",
   "execution_count": null,
   "metadata": {},
   "outputs": [],
   "source": []
  },
  {
   "cell_type": "code",
   "execution_count": null,
   "metadata": {},
   "outputs": [],
   "source": []
  },
  {
   "cell_type": "code",
   "execution_count": null,
   "metadata": {},
   "outputs": [],
   "source": []
  },
  {
   "cell_type": "code",
   "execution_count": null,
   "metadata": {},
   "outputs": [],
   "source": []
  },
  {
   "cell_type": "code",
   "execution_count": null,
   "metadata": {},
   "outputs": [],
   "source": []
  },
  {
   "cell_type": "code",
   "execution_count": null,
   "metadata": {},
   "outputs": [],
   "source": []
  },
  {
   "cell_type": "code",
   "execution_count": null,
   "metadata": {},
   "outputs": [],
   "source": []
  },
  {
   "cell_type": "code",
   "execution_count": null,
   "metadata": {},
   "outputs": [],
   "source": []
  },
  {
   "cell_type": "code",
   "execution_count": null,
   "metadata": {},
   "outputs": [],
   "source": []
  },
  {
   "cell_type": "code",
   "execution_count": null,
   "metadata": {},
   "outputs": [],
   "source": []
  },
  {
   "cell_type": "code",
   "execution_count": null,
   "metadata": {},
   "outputs": [],
   "source": []
  },
  {
   "cell_type": "code",
   "execution_count": null,
   "metadata": {},
   "outputs": [],
   "source": []
  },
  {
   "cell_type": "code",
   "execution_count": null,
   "metadata": {},
   "outputs": [],
   "source": []
  },
  {
   "cell_type": "code",
   "execution_count": null,
   "metadata": {},
   "outputs": [],
   "source": []
  },
  {
   "cell_type": "code",
   "execution_count": null,
   "metadata": {},
   "outputs": [],
   "source": []
  },
  {
   "cell_type": "code",
   "execution_count": null,
   "metadata": {},
   "outputs": [],
   "source": []
  },
  {
   "cell_type": "code",
   "execution_count": null,
   "metadata": {},
   "outputs": [],
   "source": []
  }
 ],
 "metadata": {
  "kernelspec": {
   "display_name": "Python 3",
   "language": "python",
   "name": "python3"
  },
  "language_info": {
   "codemirror_mode": {
    "name": "ipython",
    "version": 3
   },
   "file_extension": ".py",
   "mimetype": "text/x-python",
   "name": "python",
   "nbconvert_exporter": "python",
   "pygments_lexer": "ipython3",
   "version": "3.7.7"
  }
 },
 "nbformat": 4,
 "nbformat_minor": 4
}

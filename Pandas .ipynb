{
 "cells": [
  {
   "cell_type": "markdown",
   "metadata": {},
   "source": [
    "# Importing  Libraries"
   ]
  },
  {
   "cell_type": "code",
   "execution_count": 1,
   "metadata": {},
   "outputs": [],
   "source": [
    "import pandas as pd\n",
    "import datetime\n",
    "from pyexcel_ods import save_data\n",
    "from pandas_ods_reader import read_ods as read"
   ]
  },
  {
   "cell_type": "code",
   "execution_count": 2,
   "metadata": {},
   "outputs": [],
   "source": [
    "def date_heading_formate(year, month, day):\n",
    "    date = datetime.date(year, month, day)\n",
    "    date_1 = date.strftime(\"%b_%y\")\n",
    "    date_1 = \"Revised_\"+date_1\n",
    "    return str(date_1)\n",
    "    \n",
    "\n",
    "year, month = 2020,4\n",
    "list_Revised = []\n",
    "for i in range(12):\n",
    "    if i<=8:\n",
    "        monthnew = i + month\n",
    "        year = year\n",
    "        day = 30\n",
    "        data = date_heading_formate(year, monthnew, day)\n",
    "        list_Revised.append(data)\n",
    "    else :\n",
    "        year_new = year+1\n",
    "        month = 0\n",
    "        i_reset = i-8\n",
    "        month_new = month +i_reset\n",
    "        day = 30\n",
    "        if month_new == 2:\n",
    "            day_new = day-2\n",
    "            data = date_heading_formate(year_new, month_new, day_new)\n",
    "            list_Revised.append(data)\n",
    "        else : \n",
    "            data = date_heading_formate(year_new, month_new, day)\n",
    "            list_Revised.append(data)\n"
   ]
  },
  {
   "cell_type": "code",
   "execution_count": 3,
   "metadata": {},
   "outputs": [],
   "source": [
    " def date_heading_formate(year, month, day):\n",
    "    date = datetime.date(year, month, day)\n",
    "    date_1 = date.strftime(\"%b_%y\")\n",
    "    date_1 = \"Original_\"+date_1\n",
    "    return date_1\n",
    "    \n",
    "    \n",
    "\n",
    "year, month = 2020,4\n",
    "list_Original = []\n",
    "for i in range(12):\n",
    "    if i<=8:\n",
    "        monthnew = i + month\n",
    "        year = year\n",
    "        day = 30\n",
    "        data = date_heading_formate(year, monthnew, day)\n",
    "        list_Original.append(data)\n",
    "    else :\n",
    "        year_new = year+1\n",
    "        month = 0\n",
    "        i_reset = i-8\n",
    "        month_new = month +i_reset\n",
    "        day = 30\n",
    "        if month_new == 2:\n",
    "            day_new = day-2\n",
    "            data = date_heading_formate(year_new, month_new, day_new)\n",
    "            list_Original.append(data)\n",
    "        else : \n",
    "            data = date_heading_formate(year_new, month_new, day)\n",
    "            list_Original.append(data)\n",
    "\n"
   ]
  },
  {
   "cell_type": "code",
   "execution_count": 4,
   "metadata": {},
   "outputs": [],
   "source": [
    "a = list_Revised\n",
    "b = list_Original\n",
    "list_revised = [\"S.No\",\"Revised_Cost Heads\",\"Revised_FY-20\",\"Revised_FY-21\"]\n",
    "list_original = [\"Original_FY-20\",\"Original_FY-21\"]\n",
    "\n",
    "for i in range(12):\n",
    "    list_revised.append(a[i])\n",
    "    list_original.append(b[i])\n",
    "    \n",
    "list_revised.extend(list_original)"
   ]
  },
  {
   "cell_type": "markdown",
   "metadata": {},
   "source": [
    "# Loading data set into Pandas "
   ]
  },
  {
   "cell_type": "code",
   "execution_count": 5,
   "metadata": {},
   "outputs": [],
   "source": [
    "path = \"/home/kanik/Downloads/FC Model_EAST.ods\"\n",
    "\n",
    "data_sheet_RGP = read(path, \"Summary_RGP\", columns= list_revised)\n",
    "data_sheet_KCW = read(path, \"Summary_KCW\", columns= list_revised)\n",
    "data_sheet_BCW = read(path, \"Summary_BCW\", columns= list_revised)\n",
    "data_sheet_JCW = read(path, \"Summary_JCW\", columns= list_revised)\n",
    "data_sheet_DDSPL = read(path, \"Summary_DDSPL\", columns= list_revised)"
   ]
  },
  {
   "cell_type": "code",
   "execution_count": 6,
   "metadata": {},
   "outputs": [],
   "source": [
    "data_sheet_RGP = data_sheet_RGP.loc[2:,:]\n",
    "data_sheet_KCW = data_sheet_KCW.loc[2:,:]\n",
    "data_sheet_BCW = data_sheet_BCW.loc[2:,:]\n",
    "data_sheet_JCW = data_sheet_JCW.loc[2:,:]\n",
    "data_sheet_DDSPL = data_sheet_DDSPL.loc[2:,:]"
   ]
  },
  {
   "cell_type": "code",
   "execution_count": 7,
   "metadata": {},
   "outputs": [],
   "source": [
    "data_sheet_RGP[\"Plant Name\"] = \"RGP\"\n",
    "data_sheet_KCW[\"Plant Name\"] = \"KCW\"\n",
    "data_sheet_BCW[\"Plant Name\"] = \"BCW\"\n",
    "data_sheet_JCW[\"Plant Name\"] = \"JCW\"\n",
    "data_sheet_DDSPL[\"Plant Name\"] = \"DDSPL\""
   ]
  },
  {
   "cell_type": "code",
   "execution_count": null,
   "metadata": {},
   "outputs": [],
   "source": []
  },
  {
   "cell_type": "code",
   "execution_count": 10,
   "metadata": {},
   "outputs": [],
   "source": [
    "data_sheet = pd.concat([data_sheet_RGP,data_sheet_KCW,data_sheet_BCW,data_sheet_JCW,data_sheet_DDSPL],axis=0,keys=range(400))"
   ]
  },
  {
   "cell_type": "code",
   "execution_count": 11,
   "metadata": {},
   "outputs": [],
   "source": [
    "data_sheet.to_csv(\"/home/kanik/Downloads/test.csv\")"
   ]
  },
  {
   "cell_type": "code",
   "execution_count": null,
   "metadata": {},
   "outputs": [],
   "source": []
  }
 ],
 "metadata": {
  "kernelspec": {
   "display_name": "Python 3",
   "language": "python",
   "name": "python3"
  },
  "language_info": {
   "codemirror_mode": {
    "name": "ipython",
    "version": 3
   },
   "file_extension": ".py",
   "mimetype": "text/x-python",
   "name": "python",
   "nbconvert_exporter": "python",
   "pygments_lexer": "ipython3",
   "version": "3.7.7"
  }
 },
 "nbformat": 4,
 "nbformat_minor": 4
}

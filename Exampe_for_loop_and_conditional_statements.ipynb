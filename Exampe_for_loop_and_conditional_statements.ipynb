{
 "cells": [
  {
   "cell_type": "markdown",
   "metadata": {},
   "source": [
    "# Pattern Printing :\n"
   ]
  },
  {
   "cell_type": "code",
   "execution_count": 11,
   "metadata": {},
   "outputs": [
    {
     "name": "stdout",
     "output_type": "stream",
     "text": [
      "Enter the length of pattern :7\n",
      "1\n",
      "01\n",
      "101\n",
      "0101\n",
      "10101\n",
      "010101\n",
      "1010101\n"
     ]
    }
   ],
   "source": [
    "\"\"\"\n",
    "\n",
    "1\n",
    "01\n",
    "101\n",
    "0101\n",
    "10101\n",
    "\n",
    "\"\"\"\n",
    "\n",
    "string = '1'\n",
    "pattern = []\n",
    "\n",
    "length = int(input('Enter the length of pattern :'))\n",
    "\n",
    "for i in range(length):\n",
    "    if i == 0 :\n",
    "        pattern.append('1')\n",
    "    else :\n",
    "        if i%2 == 0:\n",
    "            string = '1'+string\n",
    "        else :\n",
    "            string = '0'+string\n",
    "        pattern.append(string)\n",
    "        \n",
    "print(*pattern, sep='\\n',end='\\n')"
   ]
  },
  {
   "cell_type": "code",
   "execution_count": 27,
   "metadata": {},
   "outputs": [
    {
     "name": "stdout",
     "output_type": "stream",
     "text": [
      "Enter the length of pattern :4\n",
      "1\n",
      "\n",
      "22\n",
      "\n",
      "333\n",
      "\n",
      "4444\n",
      "\n"
     ]
    }
   ],
   "source": [
    "\"\"\"\n",
    "\n",
    "1  \n",
    "22  \n",
    "333  \n",
    "4444  \n",
    "55555\n",
    ".\n",
    ".\n",
    "\n",
    "\"\"\"\n",
    "\n",
    "length = int(input('Enter the length of pattern :'))\n",
    "\n",
    "for i in range(1,length+1):\n",
    "    print(str(i)*i)\n"
   ]
  },
  {
   "cell_type": "code",
   "execution_count": 31,
   "metadata": {},
   "outputs": [
    {
     "name": "stdout",
     "output_type": "stream",
     "text": [
      "Enter the length of pattern :6\n",
      "1\n",
      "12\n",
      "123\n",
      "1234\n",
      "12345\n",
      "123456\n"
     ]
    }
   ],
   "source": [
    "\"\"\"\n",
    "\n",
    "1 \n",
    "12 \n",
    "123 \n",
    "1234 \n",
    "12345\n",
    "\n",
    "\"\"\"\n",
    "\n",
    "length = int(input('Enter the length of pattern :'))\n",
    "string = ''\n",
    "pattern = []\n",
    "for i in range(1,length+1):\n",
    "    string += str(i)\n",
    "    pattern.append(string)\n",
    "print(*pattern,sep='\\n')\n",
    "    \n",
    "    "
   ]
  },
  {
   "cell_type": "code",
   "execution_count": 33,
   "metadata": {},
   "outputs": [
    {
     "name": "stdout",
     "output_type": "stream",
     "text": [
      "Enter the length of pattern :5\n",
      "11111\n",
      "2222\n",
      "333\n",
      "44\n",
      "5\n"
     ]
    }
   ],
   "source": [
    "\"\"\"\n",
    "\n",
    "11111 \n",
    "2222 \n",
    "333 \n",
    "44 \n",
    "5\n",
    "\n",
    "\"\"\"\n",
    "length = int(input('Enter the length of pattern :'))\n",
    "for i in range(1,length+1):\n",
    "    print((length-i+1)*str(i),sep='\\n')\n"
   ]
  },
  {
   "cell_type": "code",
   "execution_count": 43,
   "metadata": {},
   "outputs": [
    {
     "name": "stdout",
     "output_type": "stream",
     "text": [
      "Enter the length of pattern : 5\n",
      "55555\n",
      "5555\n",
      "555\n",
      "55\n",
      "5\n"
     ]
    }
   ],
   "source": [
    "\"\"\"\n",
    "\n",
    "5 5 5 5 5 \n",
    "5 5 5 5 \n",
    "5 5 5 \n",
    "5 5 \n",
    "5\n",
    "\n",
    "\"\"\"\n",
    "\n",
    "length = int(input('Enter the length of pattern : '))\n",
    "num = str(length)\n",
    "for i in reversed(range(1,length+1)):\n",
    "    print(num*i)"
   ]
  },
  {
   "cell_type": "code",
   "execution_count": 52,
   "metadata": {},
   "outputs": [
    {
     "name": "stdout",
     "output_type": "stream",
     "text": [
      "Enter the length of pattern :5\n",
      "55555\n",
      "4444\n",
      "333\n",
      "22\n",
      "1\n"
     ]
    }
   ],
   "source": [
    "\"\"\"\n",
    "\n",
    "5 5 5 5 5 \n",
    "4 4 4 4 \n",
    "3 3 3 \n",
    "2 2 \n",
    "1\n",
    "\n",
    "\"\"\"\n",
    "\n",
    "length = int(input('Enter the length of pattern :'))\n",
    "for i in reversed(range(1,length+1)):\n",
    "    print((i)*str(i),sep='\\n')"
   ]
  },
  {
   "cell_type": "code",
   "execution_count": 59,
   "metadata": {},
   "outputs": [
    {
     "name": "stdout",
     "output_type": "stream",
     "text": [
      "0 1 2 3 4 5 \r\n",
      "0 1 2 3 4 \r\n",
      "0 1 2 3 \r\n",
      "0 1 2 \r\n",
      "0 1 \r\n"
     ]
    }
   ],
   "source": [
    "\"\"\"\n",
    "\n",
    "0 1 2 3 4 5 \n",
    "0 1 2 3 4 \n",
    "0 1 2 3 \n",
    "0 1 2 \n",
    "0 1\n",
    "\n",
    "\"\"\"\n",
    "\n",
    "rows = 5\n",
    "for i in range(rows, 0, -1):\n",
    "    for j in range(0, i + 1):\n",
    "        print(j, end=' ')\n",
    "    print(\"\\r\")"
   ]
  },
  {
   "cell_type": "code",
   "execution_count": null,
   "metadata": {},
   "outputs": [],
   "source": []
  },
  {
   "cell_type": "code",
   "execution_count": null,
   "metadata": {},
   "outputs": [],
   "source": []
  },
  {
   "cell_type": "code",
   "execution_count": null,
   "metadata": {},
   "outputs": [],
   "source": []
  },
  {
   "cell_type": "code",
   "execution_count": null,
   "metadata": {},
   "outputs": [],
   "source": []
  },
  {
   "cell_type": "code",
   "execution_count": null,
   "metadata": {},
   "outputs": [],
   "source": []
  },
  {
   "cell_type": "code",
   "execution_count": null,
   "metadata": {},
   "outputs": [],
   "source": []
  },
  {
   "cell_type": "code",
   "execution_count": null,
   "metadata": {},
   "outputs": [],
   "source": []
  },
  {
   "cell_type": "code",
   "execution_count": null,
   "metadata": {},
   "outputs": [],
   "source": []
  },
  {
   "cell_type": "code",
   "execution_count": null,
   "metadata": {},
   "outputs": [],
   "source": []
  },
  {
   "cell_type": "code",
   "execution_count": null,
   "metadata": {},
   "outputs": [],
   "source": []
  },
  {
   "cell_type": "code",
   "execution_count": null,
   "metadata": {},
   "outputs": [],
   "source": []
  },
  {
   "cell_type": "code",
   "execution_count": null,
   "metadata": {},
   "outputs": [],
   "source": []
  }
 ],
 "metadata": {
  "kernelspec": {
   "display_name": "Python 3",
   "language": "python",
   "name": "python3"
  },
  "language_info": {
   "codemirror_mode": {
    "name": "ipython",
    "version": 3
   },
   "file_extension": ".py",
   "mimetype": "text/x-python",
   "name": "python",
   "nbconvert_exporter": "python",
   "pygments_lexer": "ipython3",
   "version": "3.7.7"
  }
 },
 "nbformat": 4,
 "nbformat_minor": 4
}

{
 "cells": [
  {
   "cell_type": "code",
   "execution_count": 2,
   "metadata": {},
   "outputs": [],
   "source": [
    "# Main Libraries Import \n",
    "from selenium import webdriver\n",
    "from selenium.webdriver.common.keys import Keys\n",
    "\n",
    "\n",
    "# Secondary Library Import :\n",
    "import time"
   ]
  },
  {
   "cell_type": "code",
   "execution_count": 2,
   "metadata": {},
   "outputs": [],
   "source": [
    "#creating a webdriver object :\n",
    "driver = webdriver.Chrome(executable_path=\"/home/kanik/PycharmProjects/Selenium_tutorials/drivers/chromedriver\")"
   ]
  },
  {
   "cell_type": "markdown",
   "metadata": {},
   "source": [
    "# Bassic Commands : "
   ]
  },
  {
   "cell_type": "code",
   "execution_count": 3,
   "metadata": {},
   "outputs": [],
   "source": [
    "# Open browser command:\n",
    "driver.get(\"https://www.youtube.com/\")"
   ]
  },
  {
   "cell_type": "code",
   "execution_count": 4,
   "metadata": {},
   "outputs": [
    {
     "name": "stdout",
     "output_type": "stream",
     "text": [
      "YouTube\n"
     ]
    }
   ],
   "source": [
    "# capture the title of the page or the url:\n",
    "print(driver.title)"
   ]
  },
  {
   "cell_type": "code",
   "execution_count": 5,
   "metadata": {},
   "outputs": [
    {
     "name": "stdout",
     "output_type": "stream",
     "text": [
      "https://www.youtube.com/\n"
     ]
    }
   ],
   "source": [
    "# capture thr url of the page:\n",
    "print(driver.current_url)"
   ]
  },
  {
   "cell_type": "code",
   "execution_count": 6,
   "metadata": {},
   "outputs": [
    {
     "name": "stderr",
     "output_type": "stream",
     "text": [
      "IOPub data rate exceeded.\n",
      "The notebook server will temporarily stop sending output\n",
      "to the client in order to avoid crashing it.\n",
      "To change this limit, set the config variable\n",
      "`--NotebookApp.iopub_data_rate_limit`.\n",
      "\n",
      "Current values:\n",
      "NotebookApp.iopub_data_rate_limit=1000000.0 (bytes/sec)\n",
      "NotebookApp.rate_limit_window=3.0 (secs)\n",
      "\n"
     ]
    }
   ],
   "source": [
    "# capture the whole page code:\n",
    "print(driver.page_source)"
   ]
  },
  {
   "cell_type": "code",
   "execution_count": 7,
   "metadata": {},
   "outputs": [],
   "source": [
    "# perform click operation on any button:\n",
    "driver.find_element_by_xpath(\"//*[@id='icon']\").click()"
   ]
  },
  {
   "cell_type": "code",
   "execution_count": 8,
   "metadata": {},
   "outputs": [],
   "source": [
    "# wait for a second operation:\n",
    "time.sleep(5)"
   ]
  },
  {
   "cell_type": "code",
   "execution_count": 9,
   "metadata": {},
   "outputs": [],
   "source": [
    "# close the opened url :\n",
    "\"\"\"\n",
    "close() command only close the opened url page it does not close the sub page or secondary page which opened \n",
    "after the the click operation . For clossing all the opened window use quit() command.\n",
    "\"\"\"\n",
    "#driver.close()\n",
    "driver.quit()"
   ]
  },
  {
   "cell_type": "markdown",
   "metadata": {},
   "source": [
    "# Navigation Command : "
   ]
  },
  {
   "cell_type": "code",
   "execution_count": 11,
   "metadata": {},
   "outputs": [
    {
     "name": "stdout",
     "output_type": "stream",
     "text": [
      "First page title :  Cheap Flights, Airline Tickets & Airfares - Find Deals on Flights at in.Cheapflights.com\n",
      "Second page title :  Medium – Get smarter about what matters to you.\n",
      "Old page title opened first :  Cheap Flights, Airline Tickets & Airfares - Find Deals on Flights at in.Cheapflights.com\n",
      "New page title which opened after the first page :  Medium – Get smarter about what matters to you.\n"
     ]
    }
   ],
   "source": [
    "#creating a webdriver object :\n",
    "driver = webdriver.Chrome(executable_path=\"/home/kanik/PycharmProjects/Selenium_tutorials/drivers/chromedriver\")\n",
    "\n",
    "\n",
    "# open first url :\n",
    "driver.get(\"https://www.in.cheapflights.com/horizon/sem/flights/general?lang=en&skipapp=true&gclid=Cj0KCQjw0rr4BRCtARIsAB0_48MUhZDDUmwhL9wiIM_HMA_-GFWGmO-BmfUlLGYDrSDr7v7gc2tesDcaApppEALw_wcB\")\n",
    "print('First page title : ',driver.title)\n",
    "time.sleep(5)\n",
    "\n",
    "\n",
    "# open second url :\n",
    "driver.get(\"https://medium.com/\")\n",
    "print(\"Second page title : \", driver.title)\n",
    "time.sleep(5)\n",
    "\n",
    "\n",
    "# Navigation commands :\n",
    "# command to go back on old page\n",
    "driver.back()\n",
    "print(\"Old page title opened first : \", driver.title)\n",
    "time.sleep(5)\n",
    "\n",
    "\n",
    "# command to go medium page:\n",
    "driver.forward()\n",
    "print(\"New page title which opened after the first page : \", driver.title)\n",
    "time.sleep(5)\n",
    "\n",
    "\n",
    "# quit all the window:\n",
    "driver.quit()"
   ]
  },
  {
   "cell_type": "markdown",
   "metadata": {},
   "source": [
    "# Conditional commands :\n",
    "1. is_displayed\n",
    "2. is_enabled\n",
    "3. is_selected"
   ]
  },
  {
   "cell_type": "code",
   "execution_count": 13,
   "metadata": {},
   "outputs": [
    {
     "name": "stdout",
     "output_type": "stream",
     "text": [
      "True\n",
      "True\n"
     ]
    }
   ],
   "source": [
    "#creating a webdriver object :\n",
    "driver = webdriver.Chrome(executable_path=\"/home/kanik/PycharmProjects/Selenium_tutorials/drivers/chromedriver\")\n",
    "\n",
    "\n",
    "driver.get(\"https://www.facebook.com/\")\n",
    "\n",
    "\n",
    "'''\n",
    "is_displayed method is a boolean type method it means it return True and False. Answer is 'True' when the name variable \n",
    "is displayed on the opened page. otherwise return 'False'. Same with the is_enabled method .\n",
    "'''\n",
    "# Check for first name\n",
    "f_name = driver.find_element_by_name(\"firstname\")\n",
    "print(f_name.is_displayed())\n",
    "print(f_name.is_enabled())\n",
    "\n"
   ]
  },
  {
   "cell_type": "code",
   "execution_count": null,
   "metadata": {},
   "outputs": [],
   "source": [
    "# check for middle name\n",
    "m_name = driver.find_element_by_name(\"middlename\")\n",
    "if m_name.is_displayed() and m_name.is_enabled():\n",
    "    print(\"True\")\n",
    "else:\n",
    "    print(\"False\")"
   ]
  },
  {
   "cell_type": "code",
   "execution_count": 15,
   "metadata": {},
   "outputs": [
    {
     "name": "stdout",
     "output_type": "stream",
     "text": [
      "True\n",
      "True\n"
     ]
    }
   ],
   "source": [
    "# Check for last name    \n",
    "l_name = driver.find_element_by_name(\"lastname\")\n",
    "print(l_name.is_displayed())\n",
    "print(l_name.is_enabled())"
   ]
  },
  {
   "cell_type": "code",
   "execution_count": null,
   "metadata": {},
   "outputs": [],
   "source": [
    "# this code help you to login on facebook without open facebook\n",
    "email = driver.find_element_by_name(\"email\")\n",
    "password = driver.find_element_by_name(\"pass\")\n",
    "button = driver.find_element_by_xpath(\"/html/body/div[1]/div[2]/div/div/div/div/div[2]/form/table/tbody/tr[2]/td[3]/label/input\")\n",
    "\n",
    "email.send_keys(\"********@gmail.com\")\n",
    "password.send_keys(\"*******\")\n",
    "button.click()"
   ]
  },
  {
   "cell_type": "markdown",
   "metadata": {},
   "source": [
    "# Waits Command :\n",
    "\n",
    "1. Implicit wait\n",
    "2. Explicit wait"
   ]
  },
  {
   "cell_type": "code",
   "execution_count": null,
   "metadata": {},
   "outputs": [],
   "source": [
    "# Implicit wait : \n",
    "\n",
    "\n",
    "driver.get(\"https://www.facebook.com/\")\n",
    "\n",
    "#aplly wait :\n",
    "driver.implicitly_wait(10)   # time in seconds\n",
    "\n",
    "\n",
    "\"\"\"\n",
    "Implicit wait is applicable to whole page not only a single opening the url \n",
    "\"\"\"\n",
    "\n",
    "\n",
    "assert \"Facebook – log in or sign up\" in driver.title\n",
    "\n",
    "email = driver.find_element_by_name(\"email\")\n",
    "password = driver.find_element_by_name(\"pass\")\n",
    "button = driver.find_element_by_xpath(\"/html/body/div[1]/div[2]/div/div/div/div/div[2]/form/table/tbody/tr[2]/td[3]/label/input\")\n",
    "\n",
    "email.send_keys(\"******@gmail.com\")\n",
    "password.send_keys(\"*******\")\n",
    "button.click()"
   ]
  },
  {
   "cell_type": "code",
   "execution_count": null,
   "metadata": {},
   "outputs": [],
   "source": [
    "# Explicit wait :\n"
   ]
  },
  {
   "cell_type": "code",
   "execution_count": 2,
   "metadata": {},
   "outputs": [],
   "source": [
    "from selenium.webdriver.common.by import By\n",
    "from selenium.webdriver.support.ui import WebDriverWait\n",
    "from selenium.webdriver.support import expected_conditions as EC"
   ]
  },
  {
   "cell_type": "code",
   "execution_count": 3,
   "metadata": {},
   "outputs": [],
   "source": [
    "#creating a webdriver object :\n",
    "driver = webdriver.Chrome(executable_path=\"/home/kanik/PycharmProjects/Selenium_tutorials/drivers/chromedriver\")\n",
    "\n",
    "driver.implicitly_wait(5)# from driver\n",
    "\n",
    "\n",
    "# to maximize the window size use maximize_window() method .\n",
    "driver.maximize_window()\n",
    "driver.get(\"https://www.expedia.com/\")\n",
    "\n",
    "\n",
    "#driver.find_element_by_id(\"tab-flight-tab-hp\").click()\n",
    "# both are same but different methods\n",
    "driver.find_element(By.ID, \"tab-flight-tab-hp\").click()\n",
    "time.sleep(2)  # from python\n",
    "\n",
    "driver.find_element(By.ID, \"flight-origin-hp-flight\").send_keys(\"SFO\")  #origen\n",
    "\n",
    "time.sleep(2)\n",
    "\n",
    "driver.find_element(By.ID, \"flight-destination-hp-flight\").send_keys(\"NYC\")  # destination\n",
    "\n",
    "driver.find_element(By.ID, 'flight-departing-hp-flight').clear()\n",
    "driver.find_element(By.ID, 'flight-departing-hp-flight').send_keys(\"07/23/2020\")\n",
    "\n",
    "\n",
    "driver.find_element(By.ID, \"flight-returning-hp-flight\").clear()\n",
    "driver.find_element(By.ID, \"flight-returning-hp-flight\").send_keys(\"08/04/2020\")\n",
    "\n",
    "driver.find_element(By.XPATH, \"/html/body/meso-native-marquee/section/div/div/div[1]/section/div/div[2]/div[2]/section[1]/form/div[8]/label/button\").click()\n",
    "\n",
    "\"\"\"\n",
    "Explicit wait is work on the condition not on time as the implicit wait work's . Condition only wait for 10 second  to check the\n",
    "conditional element is completed or not ,if the conditional element is not present for comdition then in that case next command \n",
    "will executed by WebDriverWait commanad .\n",
    "\"\"\"\n",
    "# apply explicit wait :\n",
    "\n",
    "wait = WebDriverWait(driver, 10)\n",
    "\n",
    "element = wait.until(EC.element_to_be_clickable((By.XPATH, '/html/body/div[2]/div[11]/aside/div[2]/div[2]/div[3]/div/fieldset[2]/div/div[3]/div/label')))\n",
    "\n",
    "element.click()\n",
    "time .sleep(3)\n",
    "\n",
    "driver.quit()\n",
    "\n"
   ]
  },
  {
   "cell_type": "markdown",
   "metadata": {},
   "source": [
    "# Input box or text box : "
   ]
  },
  {
   "cell_type": "code",
   "execution_count": 5,
   "metadata": {},
   "outputs": [
    {
     "name": "stdout",
     "output_type": "stream",
     "text": [
      "Total number of input/text box are present on that page 6\n",
      "The first name field is present/displayed or not(True/False) : True\n",
      "The first name field is enabled or not(True/False) : True\n",
      "The last name field is present/displayed or not(True/False) : True\n",
      "The last name field is enabled or not(True/False) : True\n",
      "The Phone number field is present/displayed or not(True/False) : True\n",
      "The Phone number field is enabled or not(True/False) : True\n",
      "The Country field is present/displayed or not(True/False) : True\n",
      "The Country field is enabled or not(True/False) : True\n",
      "The City field is present/displayed or not(True/False) : True\n",
      "The City field is enabled or not(True/False) : True\n",
      "The Email field is present/displayed or not(True/False) : True\n",
      "The Email field is enabled or not(True/False) : True\n"
     ]
    }
   ],
   "source": [
    "#creating a webdriver object :\n",
    "driver = webdriver.Chrome(executable_path=\"/home/kanik/PycharmProjects/Selenium_tutorials/drivers/chromedriver\")\n",
    "driver.maximize_window()\n",
    "driver.get(\"https://fs2.formsite.com/meherpavan/form2/index.html?1537702596407\")\n",
    "\n",
    "\n",
    "# Operations :\n",
    "\n",
    "# 1. How to find how many input boxes present on page\n",
    "input_boxes = driver.find_elements(By.CLASS_NAME, \"text_field\")\n",
    "print(\"Total number of input/text box are present on that page : \", len(input_boxes))\n",
    "\n",
    "\n",
    "# 2. How many ways to provide values into text box\n",
    "# first method :\n",
    "driver.find_element(By.ID, \"RESULT_TextField-1\").send_keys(\"Kanik\")\n",
    "driver.find_element(By.ID, \"RESULT_TextField-2\").send_keys(\"Vijay\")\n",
    "driver.find_element(By.ID, \"RESULT_TextField-3\").send_keys(\"7611879062\")\n",
    "driver.find_element(By.ID, \"RESULT_TextField-4\").send_keys(\"India\")\n",
    "driver.find_element(By.ID, \"RESULT_TextField-5\").send_keys(\"Ajmer\")\n",
    "driver.find_element(By.ID, \"RESULT_TextField-6\").send_keys(\"a@gmail.com\")\n",
    "\n",
    "# second method :\n",
    "\"\"\"\n",
    "driver.find_element_by_id(\"RESULT_TextField-1\").send_keys(\"Kanik\")\n",
    "driver.find_element_by_id(\"RESULT_TextField-2\").send_keys(\"Vijay\")\n",
    "driver.find_element_by_id(\"RESULT_TextField-3\").send_keys(\"7611879062\")\n",
    "driver.find_element_by_id(\"RESULT_TextField-4\").send_keys(\"India\")\n",
    "driver.find_element_by_id(\"RESULT_TextField-5\").send_keys(\"Ajmer\")\n",
    "driver.find_element_by_id(\"RESULT_TextField-6\").send_keys(\"a@gmail.com\")\n",
    "\"\"\"\n",
    "\n",
    "# 3. How to get the status of text box\n",
    "\n",
    "status_1 = driver.find_element(By.ID, \"RESULT_TextField-1\").is_displayed()\n",
    "status_1_1 = driver.find_element(By.ID, \"RESULT_TextField-1\").is_enabled()\n",
    "print(\"The first name field is present/displayed or not(True/False) :\", status_1)\n",
    "print(\"The first name field is enabled or not(True/False) :\", status_1_1)\n",
    "\n",
    "\n",
    "status_2 = driver.find_element(By.ID, \"RESULT_TextField-2\").is_displayed()\n",
    "status_2_2 = driver.find_element(By.ID, \"RESULT_TextField-2\").is_enabled()\n",
    "print(\"The last name field is present/displayed or not(True/False) :\", status_2)\n",
    "print(\"The last name field is enabled or not(True/False) :\", status_2_2)\n",
    "\n",
    "\n",
    "status_3 = driver.find_element(By.ID, \"RESULT_TextField-3\").is_displayed()\n",
    "status_3_3 = driver.find_element(By.ID, \"RESULT_TextField-3\").is_enabled()\n",
    "print(\"The Phone number field is present/displayed or not(True/False) :\", status_3)\n",
    "print(\"The Phone number field is enabled or not(True/False) :\", status_3_3)\n",
    "\n",
    "\n",
    "status_4 = driver.find_element(By.ID, \"RESULT_TextField-4\").is_displayed()\n",
    "status_4_4 = driver.find_element(By.ID, \"RESULT_TextField-4\").is_enabled()\n",
    "print(\"The Country field is present/displayed or not(True/False) :\", status_4)\n",
    "print(\"The Country field is enabled or not(True/False) :\", status_4_4)\n",
    "\n",
    "\n",
    "status_5 = driver.find_element(By.ID, \"RESULT_TextField-5\").is_displayed()\n",
    "status_5_5 = driver.find_element(By.ID, \"RESULT_TextField-5\").is_enabled()\n",
    "print(\"The City field is present/displayed or not(True/False) :\", status_5)\n",
    "print(\"The City field is enabled or not(True/False) :\", status_5_5)\n",
    "\n",
    "\n",
    "status_6 = driver.find_element(By.ID, \"RESULT_TextField-6\").is_displayed()\n",
    "status_6_6 = driver.find_element(By.ID, \"RESULT_TextField-6\").is_enabled()\n",
    "print(\"The Email field is present/displayed or not(True/False) :\", status_6)\n",
    "print(\"The Email field is enabled or not(True/False) :\", status_6_6)\n",
    "\n",
    "\n",
    "driver.quit()"
   ]
  },
  {
   "cell_type": "markdown",
   "metadata": {},
   "source": [
    "# Radio button and check box "
   ]
  },
  {
   "cell_type": "code",
   "execution_count": 6,
   "metadata": {},
   "outputs": [
    {
     "name": "stdout",
     "output_type": "stream",
     "text": [
      "If the male radio button is selected or not(True/false) :  False\n",
      "If the female radio button is selected or not(True/false) :  False\n",
      "If the male radio button is selected or not(True/false) :  True\n"
     ]
    }
   ],
   "source": [
    "# Radio button :\n",
    "#creating a webdriver object :\n",
    "driver = webdriver.Chrome(executable_path=\"/home/kanik/PycharmProjects/Selenium_tutorials/drivers/chromedriver\")\n",
    "driver.maximize_window()\n",
    "driver.get(\"https://fs2.formsite.com/meherpavan/form2/index.html?1537702596407\")\n",
    "\n",
    "\n",
    "# operations :\n",
    "# 1. Check the radio and checkbox are selected or not by using is_selected() method\n",
    "status_male = driver.find_element_by_id(\"RESULT_RadioButton-7_0\").is_selected()\n",
    "print(\"If the male radio button is selected or not(True/false) : \", status_male)\n",
    "\n",
    "status_female = driver.find_element_by_id(\"RESULT_RadioButton-7_1\").is_selected()\n",
    "print(\"If the female radio button is selected or not(True/false) : \", status_female)\n",
    "\n",
    "\n",
    "# 2. Perform click operations\n",
    "driver.find_element_by_xpath(\"/html/body/form/div[2]/div[15]/table/tbody/tr[1]/td/label\").click()\n",
    "status_male_after_click = driver.find_element_by_id(\"RESULT_RadioButton-7_0\").is_selected()\n",
    "print(\"If the male radio button is selected or not(True/false) : \", status_male_after_click)\n"
   ]
  },
  {
   "cell_type": "code",
   "execution_count": null,
   "metadata": {},
   "outputs": [],
   "source": [
    "# Checkbox :\n",
    "\n",
    "driver = webdriver.Chrome(executable_path=\"/home/kanik/PycharmProjects/Selenium_tutorials/drivers/chromedriver\")\n",
    "#driver.maximize_window()\n",
    "driver.get(\"https://fs2.formsite.com/meherpavan/form2/index.html?1537702596407\")\n",
    "\n",
    "\n",
    "# operations :\n",
    "driver.find_element_by_xpath(\"/html/body/form/div[2]/div[17]/table/tbody/tr[1]/td/label\").click()\n",
    "status_sunday = driver.find_element_by_xpath(\"/html/body/form/div[2]/div[17]/table/tbody/tr[1]/td/label\").is_selected()\n",
    "print(status_sunday)\n",
    "\n",
    "driver.find_element_by_xpath(\"/html/body/form/div[2]/div[17]/table/tbody/tr[2]/td/label\").click()\n",
    "status_monday = driver.find_element_by_xpath(\"/html/body/form/div[2]/div[17]/table/tbody/tr[2]/td/label\").is_selected()\n",
    "print(status_monday)\n",
    "\n",
    "\n",
    "driver.find_element_by_xpath(\"/html/body/form/div[2]/div[17]/table/tbody/tr[3]/td/label\").click()\n",
    "\n",
    "status_tuesday = driver.find_element_by_xpath(\"/html/body/form/div[2]/div[17]/table/tbody/tr[3]/td/label\").click()\n",
    "print(status_tuesday)"
   ]
  },
  {
   "cell_type": "markdown",
   "metadata": {},
   "source": [
    "# Dopdown menu : "
   ]
  },
  {
   "cell_type": "code",
   "execution_count": null,
   "metadata": {},
   "outputs": [],
   "source": [
    "from selenium.webdriver.support.ui import Select"
   ]
  },
  {
   "cell_type": "code",
   "execution_count": null,
   "metadata": {},
   "outputs": [],
   "source": [
    "driver = webdriver.Chrome(executable_path=\"/home/kanik/PycharmProjects/Selenium_tutorials/drivers/chromedriver\")\n",
    "#driver.maximize_window()\n",
    "driver.get(\"https://fs2.formsite.com/meherpavan/form2/index.html?1537702596407\")\n",
    "element = driver.find_element_by_id(\"RESULT_RadioButton-9\")\n",
    "drp = Select(element)\n",
    "\n",
    "\n",
    "\n",
    "# 1. Select one option\n",
    "# Method one \"select by visible text\":\n",
    "drp.select_by_visible_text(\"Morning\")\n",
    "\n",
    "# Method second \" select by value \" :\n",
    "#drp.select_by_value(\"Radio-2\")\n",
    "\n",
    "# Methos 3rd \"select by index\" :\n",
    "#drp.deselect_by_index(2)\n",
    "\n",
    "\n",
    "# 2. find out how many options exist in drop down\n",
    "print(\"Totla number of options are available in dropdowm list : \", len(drp.options))\n",
    "\n",
    "\n",
    "# how to capture all the options and print :\n",
    "all_options = drp.options\n",
    "for i in all_options:\n",
    "    print(i.text)\n",
    "\n",
    "driver.quit()"
   ]
  },
  {
   "cell_type": "code",
   "execution_count": null,
   "metadata": {},
   "outputs": [],
   "source": [
    "# Links : "
   ]
  },
  {
   "cell_type": "code",
   "execution_count": 7,
   "metadata": {},
   "outputs": [
    {
     "name": "stdout",
     "output_type": "stream",
     "text": [
      "Total number of links on this page :  53\n",
      "\n",
      "Demo Site\n",
      "Selenium\n",
      "\n",
      "\n",
      "\n",
      "\n",
      "\n",
      "\n",
      "\n",
      "\n",
      "\n",
      "\n",
      "\n",
      "\n",
      "\n",
      "\n",
      "\n",
      "\n",
      "\n",
      "\n",
      "\n",
      "\n",
      "Insurance Project\n",
      "Agile Project\n",
      "Bank Project\n",
      "Security Project\n",
      "Telecom Project\n",
      "Payment Gateway Project\n",
      "New Tours\n",
      "SEO\n",
      "\n",
      "\n",
      "\n",
      "\n",
      "\n",
      "\n",
      "Home\n",
      "Flights\n",
      "Hotels\n",
      "Car Rentals\n",
      "Cruises\n",
      "Destinations\n",
      "Vacations\n",
      "SIGN-ON\n",
      "REGISTER\n",
      "SUPPORT\n",
      "CONTACT\n",
      "your destination\n",
      "featured vacation destinations\n",
      "Register here\n",
      "Business Travel @ About.com\n",
      "Salon Travel\n"
     ]
    }
   ],
   "source": [
    "#creating a webdriver object :\n",
    "\n",
    "driver = webdriver.Chrome(executable_path=\"/home/kanik/PycharmProjects/Selenium_tutorials/drivers/chromedriver\")\n",
    "driver.get(\"http://demo.guru99.com/test/newtours/\")\n",
    "\n",
    "\n",
    "# Operations :\n",
    "\n",
    "# 1. How many links present on page\n",
    "links = driver.find_elements(By.TAG_NAME, \"a\")\n",
    "print(\"Total number of links on this page : \", len(links))\n",
    "\n",
    "# 2. Capture all links\n",
    "for i in links :\n",
    "    print(i.text)\n",
    "\n",
    "# 3. click on links\n",
    "# Method 1  :\n",
    "\"\"\"\n",
    "driver.find_element(By.LINK_TEXT, 'REGISTER').click()\n",
    "\"\"\"\n",
    "\n",
    "# Method 2\n",
    "driver.find_element(By.PARTIAL_LINK_TEXT, 'REG').click()\n",
    "\n"
   ]
  },
  {
   "cell_type": "markdown",
   "metadata": {},
   "source": [
    "# Alert command"
   ]
  },
  {
   "cell_type": "code",
   "execution_count": 9,
   "metadata": {},
   "outputs": [
    {
     "name": "stderr",
     "output_type": "stream",
     "text": [
      "/home/kanik/anaconda3/lib/python3.7/site-packages/ipykernel_launcher.py:9: DeprecationWarning: use driver.switch_to.alert instead\n",
      "  if __name__ == '__main__':\n"
     ]
    }
   ],
   "source": [
    "#creating a webdriver object :\n",
    "\n",
    "driver = webdriver.Chrome(executable_path=\"/home/kanik/PycharmProjects/Selenium_tutorials/drivers/chromedriver\")\n",
    "driver.get(\"http://testautomationpractice.blogspot.com/\")\n",
    "\n",
    "driver.find_element_by_xpath(\"/html/body/div[4]/div[2]/div[2]/div[2]/div[2]/div[2]/div[2]/div/div[4]/div[2]/div/aside/div/div[2]/div[1]/button\").click()\n",
    "time.sleep(5)\n",
    "\n",
    "driver.switch_to_alert().accept()  # it close the alret window by click on ok button"
   ]
  },
  {
   "cell_type": "code",
   "execution_count": 10,
   "metadata": {},
   "outputs": [
    {
     "name": "stderr",
     "output_type": "stream",
     "text": [
      "/home/kanik/anaconda3/lib/python3.7/site-packages/ipykernel_launcher.py:1: DeprecationWarning: use driver.switch_to.alert instead\n",
      "  \"\"\"Entry point for launching an IPython kernel.\n"
     ]
    }
   ],
   "source": [
    "driver.switch_to_alert().dismiss()  # it close the alert window by close button"
   ]
  },
  {
   "cell_type": "markdown",
   "metadata": {},
   "source": [
    "# Frames : "
   ]
  },
  {
   "cell_type": "code",
   "execution_count": 13,
   "metadata": {},
   "outputs": [],
   "source": [
    "#creating a webdriver object :\n",
    "\n",
    "driver = webdriver.Chrome(executable_path=\"/home/kanik/PycharmProjects/Selenium_tutorials/drivers/chromedriver\")\n",
    "driver.get(\"https://seleniumhq.github.io/selenium/docs/api/java/index.html\")\n",
    "\n",
    "\n",
    "\"\"\"\n",
    "method driver.switch_to.frame() method is use to switch on a frame and after this operations related to that frame\n",
    "will perform otherwise not perform.\n",
    "\"\"\"\n",
    "\n",
    "driver.switch_to.frame(\"packageListFrame\")\n",
    "driver.find_element_by_link_text(\"org.openqa.selenium\").click()\n",
    "time.sleep(3)\n",
    "\n",
    "\n",
    "\"\"\"\n",
    "another method is switch_to.default_content() is use to go back on main page of the website on which all the frames \n",
    "are present. After this the programmer again perform switch operation on another frame otherwise not.\n",
    "\"\"\"\n",
    "\n",
    "driver.switch_to.default_content()\n",
    "driver.switch_to.frame(\"packageFrame\")\n",
    "driver.find_element_by_link_text(\"WebDriver\").click()\n",
    "time.sleep(3)\n",
    "\n",
    "\n",
    "\n",
    "driver.switch_to.default_content()\n",
    "time.sleep(3)\n",
    "driver.switch_to.frame(\"classFrame\")\n",
    "driver.find_element_by_xpath(\"/html/body/div[1]/ul/li[5]\").click()\n",
    "\n"
   ]
  },
  {
   "cell_type": "markdown",
   "metadata": {},
   "source": [
    "# Browser Window :\n",
    "1. current_window_handle\n",
    "2. window_handle"
   ]
  },
  {
   "cell_type": "code",
   "execution_count": 15,
   "metadata": {},
   "outputs": [
    {
     "name": "stdout",
     "output_type": "stream",
     "text": [
      "CDwindow-C99DAC725B5F415323AADDD2239248C9\n",
      "Frames & windows\n",
      "sakinalium.in\n"
     ]
    }
   ],
   "source": [
    "driver = webdriver.Chrome(executable_path=\"/home/kanik/PycharmProjects/Selenium_tutorials/drivers/chromedriver\")\n",
    "driver.get(\"http://demo.automationtesting.in/Windows.html\")\n",
    "\n",
    "\n",
    "driver.find_element_by_xpath(\"/html/body/div[1]/div/div/div/div[2]/div[1]/a/button\").click()\n",
    "\n",
    "print(driver.current_window_handle)   # CDwindow-0F9BDE699C4A2F2EC90DD6A9206EC5F8\n",
    "handle_values = driver.window_handles\n",
    "for i in handle_values:\n",
    "    driver.switch_to.window(i)\n",
    "    print(driver.title)\n",
    "    if driver.title == \"Frames & windows\":\n",
    "        driver.close()"
   ]
  },
  {
   "cell_type": "markdown",
   "metadata": {},
   "source": [
    "# Tables : "
   ]
  },
  {
   "cell_type": "markdown",
   "metadata": {},
   "source": [
    "# Scroll Operations : "
   ]
  },
  {
   "cell_type": "code",
   "execution_count": null,
   "metadata": {},
   "outputs": [],
   "source": [
    "#creating a webdriver object :\n",
    "\n",
    "driver = webdriver.Chrome(executable_path=\"/home/kanik/PycharmProjects/Selenium_tutorials/drivers/chromedriver\")\n",
    "driver.get(\"https://www.countries-ofthe-world.com/flags-of-the-world.html\")\n",
    "driver.maximize_window()\n",
    "\n",
    "\n",
    "# Operations :\n",
    "# 1. scroll down the page by pixel\n",
    "#driver.execute_script(\"window.scrollBy(0,1000)\", \"\")\n",
    "\n",
    "\n",
    "# 2. scroll down the page till element found\n",
    "#flag = driver.find_element_by_xpath(\"/html/body/div[1]/div[2]/div[2]/div[2]/div[2]/div[2]/table[1]/tbody/tr[86]/td[2]\")\n",
    "#driver.execute_script(\"arguments[0].scrollIntoView();\", flag)\n",
    "\n",
    "\n",
    "# 3. scroll down to end of the page\n",
    "driver.execute_script(\"window.scrollBy(0,document.body.scrollHeight)\")\n",
    "\n"
   ]
  },
  {
   "cell_type": "markdown",
   "metadata": {},
   "source": [
    "# Mouse Action : \n",
    "1. Mouse Hover\n",
    "2. Right Click\n",
    "3. Double click\n",
    "4. Drag and drop"
   ]
  },
  {
   "cell_type": "code",
   "execution_count": 17,
   "metadata": {},
   "outputs": [],
   "source": [
    "from selenium.webdriver import ActionChains"
   ]
  },
  {
   "cell_type": "code",
   "execution_count": 18,
   "metadata": {},
   "outputs": [],
   "source": [
    "# 1. Mouse Hover : \n",
    "#creating a webdriver object :\n",
    "\n",
    "driver = webdriver.Chrome(executable_path=\"/home/kanik/PycharmProjects/Selenium_tutorials/drivers/chromedriver\")\n",
    "driver.get(\"https://opensource-demo.orangehrmlive.com\")\n",
    "driver.maximize_window()\n",
    "\n",
    "driver.find_element_by_id(\"txtUsername\").send_keys(\"Admin\")\n",
    "driver.find_element_by_id(\"txtPassword\").send_keys(\"admin123\")\n",
    "driver.find_element_by_xpath(\"/html/body/div[1]/div/div[3]/div[2]/div[2]/form/div[5]/input\").click()\n",
    "\n",
    "\n",
    "# Operations :\n",
    "# 1. Mouse Hover :\n",
    "\n",
    "admin = driver.find_element_by_xpath(\"/html/body/div[1]/div[2]/ul/li[1]/a/b\")\n",
    "user_management = driver.find_element_by_xpath(\"/html/body/div[1]/div[2]/ul/li[1]/ul/li[1]/a\")\n",
    "user = driver.find_element_by_xpath(\"/html/body/div[1]/div[2]/ul/li[1]/ul/li[1]/ul/li/a\")\n",
    "\n",
    "\n",
    "action = ActionChains(driver)\n",
    "\n",
    "\n",
    "action.move_to_element(admin).move_to_element(user_management).move_to_element(user).click().perform()\n",
    "\n",
    "\n",
    "driver.quit()\n"
   ]
  },
  {
   "cell_type": "code",
   "execution_count": 20,
   "metadata": {},
   "outputs": [],
   "source": [
    "# 2. Double click :\n",
    "\n",
    "driver = webdriver.Chrome(executable_path=\"/home/kanik/PycharmProjects/Selenium_tutorials/drivers/chromedriver\")\n",
    "driver.get(\"http://testautomationpractice.blogspot.com/\")\n",
    "driver.maximize_window()\n",
    "\n",
    "button = driver.find_element_by_xpath(\"/html/body/div[4]/div[2]/div[2]/div[2]/div[2]/div[2]/div[2]/div/div[4]/div[3]/div/aside/div/div[1]/div[1]/button\")\n",
    "\n",
    "\n",
    "action = ActionChains(driver)\n",
    "action.double_click(button).perform()\n",
    "\n",
    "driver.quit()"
   ]
  },
  {
   "cell_type": "code",
   "execution_count": 21,
   "metadata": {},
   "outputs": [],
   "source": [
    "# 3. Right Click :\n",
    "\n",
    "driver = webdriver.Chrome(executable_path=\"/home/kanik/PycharmProjects/Selenium_tutorials/drivers/chromedriver\")\n",
    "driver.get(\"http://swisnl.github.io/jQuery-contextMenu/demo.html\")\n",
    "driver.maximize_window()\n",
    "button = driver.find_element_by_xpath(\"/html/body/div/section/div/div/div/p/span\")\n",
    "\n",
    "action = ActionChains(driver)\n",
    "action.context_click(button).perform()\n",
    "driver.quit()"
   ]
  },
  {
   "cell_type": "code",
   "execution_count": null,
   "metadata": {},
   "outputs": [],
   "source": [
    "# 4. Drag and Drop :\n",
    "\n",
    "driver = webdriver.Chrome(executable_path=\"/home/kanik/PycharmProjects/Selenium_tutorials/drivers/chromedriver\")\n",
    "driver.get(\"http://dhtmlgoodies.com/scripts/drag-drop-custom/demo-drag-drop-3.html\")\n",
    "driver.maximize_window()\n",
    "\n",
    "source_element = driver.find_element_by_id(\"DHTMLgoodies_dragableElement5\")\n",
    "target_element = driver.find_element_by_id(\"box106\")\n",
    "\n",
    "action = ActionChains(driver)\n",
    "\n",
    "action.drag_and_drop(source_element, target_element).perform()\n",
    "\n"
   ]
  },
  {
   "cell_type": "markdown",
   "metadata": {},
   "source": [
    "# Upload file : "
   ]
  },
  {
   "cell_type": "code",
   "execution_count": 24,
   "metadata": {},
   "outputs": [],
   "source": [
    "#creating a webdriver object :\n",
    "\n",
    "driver = webdriver.Chrome(executable_path=\"/home/kanik/PycharmProjects/Selenium_tutorials/drivers/chromedriver\")\n",
    "driver.maximize_window()\n",
    "driver.get(\"http://testautomationpractice.blogspot.com/\")\n",
    "\n",
    "driver.switch_to.frame(0)\n",
    "button = driver.find_element_by_id(\"RESULT_FileUpload-10\").send_keys(\"/home/kanik/Desktop/logo.png\")"
   ]
  },
  {
   "cell_type": "markdown",
   "metadata": {},
   "source": [
    "# Download file from chrome :"
   ]
  },
  {
   "cell_type": "code",
   "execution_count": null,
   "metadata": {},
   "outputs": [],
   "source": [
    "driver = webdriver.Chrome(executable_path=\"/home/kanik/PycharmProjects/Selenium_tutorials/drivers/chromedriver\")\n",
    "driver.maximize_window()\n",
    "driver.get(\"http://demo.automationtesting.in/FileDownload.html\")\n"
   ]
  },
  {
   "cell_type": "code",
   "execution_count": null,
   "metadata": {},
   "outputs": [],
   "source": [
    "# Download Text file :\n",
    "text_box = driver.find_element_by_id(\"textbox\").send_keys(\"Testing Download text file.\")\n",
    "button_to_generate_text_= driver.find_element_by_xpath(\"/html/body/section/div[1]/div/div/div[2]/div[2]/button\").click()\n",
    "download_file_link = driver.find_element_by_id(\"link-to-download\").click()\n"
   ]
  },
  {
   "cell_type": "code",
   "execution_count": null,
   "metadata": {},
   "outputs": [],
   "source": [
    "# 2. Download PDF File : \n",
    "text_box = driver.find_element_by_id(\"pdfbox\").send_keys(\"Testing Download text file.\")\n",
    "button_to_generate_pdf_file = driver.find_element_by_xpath(\"/html/body/section/div[1]/div/div/div[3]/div[2]/button\").click()\n",
    "download_file_link = driver.find_element_by_id(\"pdf-link-to-download\").click()\n"
   ]
  },
  {
   "cell_type": "code",
   "execution_count": 1,
   "metadata": {},
   "outputs": [],
   "source": [
    "# 3. When you want to dwnload file on a specific place :\n",
    "from selenium.webdriver.chrome.options import Options"
   ]
  },
  {
   "cell_type": "code",
   "execution_count": 5,
   "metadata": {},
   "outputs": [
    {
     "name": "stderr",
     "output_type": "stream",
     "text": [
      "/home/kanik/anaconda3/lib/python3.7/site-packages/ipykernel_launcher.py:7: DeprecationWarning: use options instead of chrome_options\n",
      "  import sys\n"
     ]
    }
   ],
   "source": [
    "#creating a webdriver object :\n",
    "\n",
    "chrome_options = Options()\n",
    "chrome_options.add_experimental_option(\"prefs\", {\"download.default_directory\" : \"/home/kanik/Desktop/\"})\n",
    "\n",
    "\n",
    "driver = webdriver.Chrome(executable_path=\"/home/kanik/PycharmProjects/Selenium_tutorials/drivers/chromedriver\", chrome_options=chrome_options)\n",
    "driver.maximize_window()\n",
    "driver.get(\"http://demo.automationtesting.in/FileDownload.html\")\n"
   ]
  },
  {
   "cell_type": "code",
   "execution_count": 6,
   "metadata": {},
   "outputs": [],
   "source": [
    "# Download Text file :\n",
    "text_box = driver.find_element_by_id(\"textbox\").send_keys(\"Testing Download text file.\")\n",
    "button_to_generate_text_= driver.find_element_by_xpath(\"/html/body/section/div[1]/div/div/div[2]/div[2]/button\").click()\n",
    "download_text_file_link = driver.find_element_by_id(\"link-to-download\").click()\n",
    "\n",
    "# Download PDF file :\n",
    "text_box = driver.find_element_by_id(\"pdfbox\").send_keys(\"Testing Download text file.\")\n",
    "button_to_generate_pdf_file = driver.find_element_by_xpath(\"/html/body/section/div[1]/div/div/div[3]/div[2]/button\").click()\n",
    "download_pdf_file_link = driver.find_element_by_id(\"pdf-link-to-download\").click()\n"
   ]
  },
  {
   "cell_type": "markdown",
   "metadata": {},
   "source": [
    "# Data driven testing with excel file"
   ]
  },
  {
   "cell_type": "code",
   "execution_count": 7,
   "metadata": {},
   "outputs": [],
   "source": [
    "import openpyxl\n",
    "\n",
    "path = \"/home/kanik/Desktop/selenium_test_excel_file.xlsx\""
   ]
  },
  {
   "cell_type": "code",
   "execution_count": 8,
   "metadata": {},
   "outputs": [
    {
     "name": "stdout",
     "output_type": "stream",
     "text": [
      "EMPO  FIRSTNAME  LASTNAME  SALARY  \n",
      "111.0  ABC  ABC  50000.0  \n",
      "112.0  DEF  DEF  60000.0  \n",
      "113.0  GHI  GHI  70000.0  \n",
      "114.0  JKL  JKL  80000.0  \n",
      "115.0  MNO  MNO  40000.0  \n",
      "116.0  PQR  PQR  60000.0  \n",
      "117.0  STU  STU  70000.0  \n",
      "118.0  VWX  VWX  80000.0  \n",
      "119.0  YZA  YZA  50000.0  \n",
      "120.0  BCD  BCD  70000.0  \n",
      "121.0  EFG  EFG  80000.0  \n",
      "122.0  HIJ  HIJ  50000.0  \n"
     ]
    }
   ],
   "source": [
    "# 1. Reading data from Excel file\n",
    "book = openpyxl.load_workbook(path)\n",
    "sheet = book.active\n",
    "\n",
    "row = sheet.max_row\n",
    "column = sheet.max_column\n",
    "\n",
    "for r in range(1,row+1):\n",
    "    for c in range(1,column+1):\n",
    "        print(sheet.cell(row=r,column=c).value,end=\"  \")\n",
    "    print()"
   ]
  },
  {
   "cell_type": "code",
   "execution_count": null,
   "metadata": {},
   "outputs": [],
   "source": [
    "# 2. Writing data from excel file\n",
    "book = openpyxl.load_workbook(path)\n",
    "sheet = book.active\n",
    "for r in range(1,6):\n",
    "    for c in range(1,4):\n",
    "        sheet.cell(row=r,column=c).value=\"Welcome\"\n",
    "\n",
    "book.save(path)\n"
   ]
  },
  {
   "cell_type": "code",
   "execution_count": null,
   "metadata": {},
   "outputs": [],
   "source": [
    "# 3. Data Driven test cases\n",
    "\n",
    "#Step 1 : Create xlutils.py file\n",
    "\n",
    "import openpyxl\n",
    "\n",
    "def getRowCount(file, sheetName):\n",
    "    book = openpyxl.load_workbook(file)\n",
    "    sheet = book.get_sheet_by_name(sheetName)\n",
    "    row = sheet.max_row\n",
    "    return row\n",
    "\n",
    "def getColumnCount(file, sheetName):\n",
    "    book = openpyxl.load_workbook(file)\n",
    "    sheet = book.get_sheet_by_name(sheetName)\n",
    "    column = sheet.max_column\n",
    "    return column\n",
    "\n",
    "def readData(file, sheetName, row_num, column_num):\n",
    "    book = openpyxl.load_workbook(file)\n",
    "    sheet = book.get_sheet_by_name(sheetName)\n",
    "    return sheet.cell(row=row_num, column=column_num).value\n",
    "\n",
    "def writeData(file, sheetName, row_num, column_num,data):\n",
    "    book = openpyxl.load_workbook(file)\n",
    "    sheet = book.get_sheet_by_name(sheetName)\n",
    "    sheet.cell(row=row_num, column=column_num).value=data\n",
    "    book.save(file)\n"
   ]
  },
  {
   "cell_type": "code",
   "execution_count": null,
   "metadata": {},
   "outputs": [],
   "source": [
    "#Step 2 : \n",
    "# Import libraries\n",
    "from selenium import webdriver\n",
    "import xlutils\n",
    "\n",
    "\n",
    "import time\n",
    "\n",
    "#creating a webdriver object :\n",
    "driver = webdriver.Chrome(executable_path=\"/home/kanik/PycharmProjects/Selenium_tutorials/drivers/chromedriver\")\n",
    "path = \"/home/kanik/Desktop/selenium_test_excel_file.xlsx\"\n",
    "driver.maximize_window()\n",
    "driver.get(\"http://demo.guru99.com/test/newtours/\")\n",
    "\n",
    "\n",
    "\n",
    "# 3.1 Read data from file\n",
    "row_num = xlutils.getRowCount(path, \"Sheet1\")\n",
    "for r in range(2,row_num+1):\n",
    "    username = xlutils.readData(path, \"Sheet1\", r, 1)\n",
    "    password = xlutils.readData(path, \"Sheet1\", r, 2)\n",
    "\n",
    "    username_page = driver.find_element_by_xpath(\"/html/body/div[2]/table/tbody/tr/td[2]/table/tbody/tr[4]/td/table/tbody/tr/td[2]/table/tbody/tr[2]/td[3]/form/table/tbody/tr[4]/td/table/tbody/tr[2]/td[2]/input\").send_keys(username)\n",
    "    password_page = driver.find_element_by_xpath(\"/html/body/div[2]/table/tbody/tr/td[2]/table/tbody/tr[4]/td/table/tbody/tr/td[2]/table/tbody/tr[2]/td[3]/form/table/tbody/tr[4]/td/table/tbody/tr[3]/td[2]/input\").send_keys(password)\n",
    "    driver.find_element_by_xpath(\"/html/body/div[2]/table/tbody/tr/td[2]/table/tbody/tr[4]/td/table/tbody/tr/td[2]/table/tbody/tr[2]/td[3]/form/table/tbody/tr[4]/td/table/tbody/tr[4]/td[2]/div/input\").click()\n",
    "\n",
    "    if driver.title == \"Find a Flight: Mercury Tours:\":\n",
    "        print(\"Test Case Passed\")\n",
    "        # 3.2 Write data in file\n",
    "        xlutils.writeData(path,\"Sheet1\", r, 3, \"Test Passed\")\n",
    "\n",
    "    else :\n",
    "        print(\"Test Case not Passed\")\n",
    "        xlutils.writeData(path, \"Sheet1\", r, 3, \"Not Passed\")\n",
    "\n",
    "    driver.find_element_by_link_text(\"Home\").click()\n",
    "time.sleep(5)\n",
    "driver.quit()\n"
   ]
  },
  {
   "cell_type": "markdown",
   "metadata": {},
   "source": [
    "# Cookies :"
   ]
  },
  {
   "cell_type": "code",
   "execution_count": null,
   "metadata": {},
   "outputs": [],
   "source": [
    "from selenium import webdriver\n",
    "\n",
    "\n",
    "\n",
    "driver = webdriver.Chrome(executable_path=\"/home/kanik/PycharmProjects/Selenium_tutorials/drivers/chromedriver\")\n",
    "driver.get(\"https://www.amazon.in/\")\n",
    "driver.maximize_window()\n",
    "\n",
    "\n",
    "# Operation on Cookies :\n",
    "\n",
    "# 1. Capture all cookies from browser\n",
    "cookies = driver.get_cookies()\n",
    "\n",
    "# 2. Count number of cookies\n",
    "print(\"Total number of cookies created : \", len(cookies))\n",
    "\n",
    "# 3. Read Cookies pair\n",
    "print(\"All the cookies pair : \", cookies)\n",
    "\n",
    "# 4. Adding new cookies\n",
    "cookie = {'name': \"Mycookie\", \"value\": \"1234567890\"}\n",
    "driver.add_cookie(cookie)\n",
    "cookies = driver.get_cookies()\n",
    "print(\"Total number of cookies after adding 1 cookie by automation : \", len(cookies))\n",
    "print(\"All the cookies pair : \", cookies)\n",
    "\n",
    "\n",
    "# 5. Deleting Specific cookies by using name of cookies\n",
    "driver.delete_cookie(\"Mycookie\")\n",
    "cookies = driver.get_cookies()\n",
    "print(\"Total number of cookies after deleting 1 cookie named 'Mycookie' by automation : \", len(cookies))\n",
    "print(\"All the cookies pair : \", cookies)\n",
    "\n",
    "\n",
    "# 6. Deleting al the cookies\n",
    "driver.delete_all_cookies()\n",
    "cookies = driver.get_cookies()\n",
    "print(\"Total number of cookies after deleting all the cookies by automation : \", len(cookies))\n",
    "print(\"All the cookies pair : \", cookies)\n",
    "\n",
    "driver.quit()"
   ]
  },
  {
   "cell_type": "markdown",
   "metadata": {},
   "source": [
    "ScreenShots :"
   ]
  },
  {
   "cell_type": "code",
   "execution_count": null,
   "metadata": {},
   "outputs": [],
   "source": [
    "\n",
    "driver.get(\"http://demo.guru99.com/test/newtours/\")\n",
    "#driver.save_screenshot(\"/home/kanik/Desktop/homepage.png\")\n",
    "\n",
    "# get_screenshot_as_file() this method only save screenshot in .png extension otherwise it shows error\n",
    "driver.get_screenshot_as_file(\"/home/kanik/Desktop/homepage.png\")\n",
    "driver.quit()"
   ]
  },
  {
   "cell_type": "markdown",
   "metadata": {},
   "source": [
    "# Logging operation "
   ]
  },
  {
   "cell_type": "code",
   "execution_count": null,
   "metadata": {},
   "outputs": [],
   "source": [
    "# Method 1 :\n",
    "\n",
    "import logging\n",
    "from selenium import webdriver\n",
    "\n",
    "\n",
    "\"\"\"\n",
    "this method create test.log file in same directory but if you want to create in different place pass the whole path \n",
    "with file name\n",
    "\"\"\"\n",
    "\"\"\"\n",
    "logging.basicConfig(filename=\"test.log\")\n",
    "logging.debug(\"This is debug operation\")\n",
    "logging.info(\"This is info operation\")\n",
    "logging.warning(\"This is warning operation\")\n",
    "logging.error(\"This is error operation\")\n",
    "logging.critical(\"This is critical operation\")\n",
    "\"\"\"\n",
    "\n",
    "\n",
    "\"\"\"\n",
    "logging.basicConfig(filename=\"test.log\", level=logging.DEBUG)\n",
    "logging.debug(\"This is debug operation\")\n",
    "logging.info(\"This is info operation\")\n",
    "\n",
    "#By Default only down three will show in file if you wand to show upper message use 'level=logging.DEBUG'\n",
    "\n",
    "logging.warning(\"This is warning operation\")\n",
    "logging.error(\"This is error operation\")\n",
    "logging.critical(\"This is critical operation\")\n",
    "\"\"\"\n",
    "\n",
    "\n",
    "\"\"\"\n",
    "logging.basicConfig(filename=\"test.log\", level=logging.DEBUG, format='%(asctime)s: %(levelname)s: %(message)s')\n",
    "logging.debug(\"This is debug operation\")\n",
    "logging.info(\"This is info operation\")\n",
    "logging.warning(\"This is warning operation\")\n",
    "logging.error(\"This is error operation\")\n",
    "logging.critical(\"This is critical operation\")\n",
    "\"\"\"\n",
    "\n",
    "\n",
    "\n",
    "logging.basicConfig(filename=\"test.log\",\n",
    "                    level=logging.DEBUG,\n",
    "                    format='%(asctime)s: %(levelname)s: %(message)s',\n",
    "                    datefmt=\"%m-%d-$Y %I: %M: %S %p\")\n",
    "logging.debug(\"This is debug operation\")\n",
    "logging.info(\"This is info operation\")\n",
    "\n",
    "\"\"\"\n",
    "By Default only down three will show in file if you wand to show upper message use 'level=logging.DEBUG'\n",
    "\"\"\"\n",
    "logging.warning(\"This is warning operation\")\n",
    "logging.error(\"This is error operation\")\n",
    "logging.critical(\"This is critical operation\")\n"
   ]
  },
  {
   "cell_type": "markdown",
   "metadata": {},
   "source": [
    "Output : 'test.log' file : "
   ]
  },
  {
   "cell_type": "markdown",
   "metadata": {},
   "source": [
    "# By Default :\n",
    "WARNING:root:This is warning operation\n",
    "ERROR:root:This is error operation\n",
    "CRITICAL:root:This is critical operation\n",
    "\n",
    "# By Apply level :\n",
    "DEBUG:root:This is debug operation\n",
    "INFO:root:This is info operation\n",
    "WARNING:root:This is warning operation\n",
    "ERROR:root:This is error operation\n",
    "CRITICAL:root:This is critical operation\n",
    "\n",
    "# By Apply timestamp using format method :\n",
    "2020-07-17 15:19:19,914: DEBUG: This is debug operation\n",
    "2020-07-17 15:19:19,914: INFO: This is info operation\n",
    "2020-07-17 15:19:19,914: WARNING: This is warning operation\n",
    "2020-07-17 15:19:19,914: ERROR: This is error operation\n",
    "2020-07-17 15:19:19,914: CRITICAL: This is critical operation\n",
    "\n",
    "# By modified the format of date and time by using datefmt method :\n",
    "07-17-$Y 03: 22: 09 PM: DEBUG: This is debug operation\n",
    "07-17-$Y 03: 22: 09 PM: INFO: This is info operation\n",
    "07-17-$Y 03: 22: 09 PM: WARNING: This is warning operation\n",
    "07-17-$Y 03: 22: 09 PM: ERROR: This is error operation\n",
    "07-17-$Y 03: 22: 09 PM: CRITICAL: This is critical operation\n"
   ]
  },
  {
   "cell_type": "code",
   "execution_count": null,
   "metadata": {},
   "outputs": [],
   "source": [
    "# Method 2 : By creating logger object of logging class\n",
    "\n",
    "logging.basicConfig(filename=\"test.log\",\n",
    "                    format='%(asctime)s: %(levelname)s: %(message)s',\n",
    "                    datefmt=\"%m-%d-$y %I: %M: %S %p\")\n",
    "logger = logging.getLogger()\n",
    "logger.setLevel(logging.DEBUG)\n",
    "\n",
    "logger.debug(\"This is debug operation\")\n",
    "logger.info(\"This is info operation\")\n",
    "logger.warning(\"This is warning operation\")\n",
    "logger.error(\"This is error operation\")\n",
    "logger.critical(\"This is critical operation\")"
   ]
  },
  {
   "cell_type": "markdown",
   "metadata": {},
   "source": [
    "# Python Unit testing framework :"
   ]
  },
  {
   "cell_type": "code",
   "execution_count": 10,
   "metadata": {},
   "outputs": [],
   "source": [
    "import unittest"
   ]
  },
  {
   "cell_type": "code",
   "execution_count": 13,
   "metadata": {},
   "outputs": [
    {
     "name": "stderr",
     "output_type": "stream",
     "text": [
      "."
     ]
    },
    {
     "name": "stdout",
     "output_type": "stream",
     "text": [
      "Title of the another web page :  Bing\n",
      "Title of the web page :  Google\n"
     ]
    },
    {
     "name": "stderr",
     "output_type": "stream",
     "text": [
      ".."
     ]
    },
    {
     "name": "stdout",
     "output_type": "stream",
     "text": [
      "This is my first unit test case method\n"
     ]
    },
    {
     "name": "stderr",
     "output_type": "stream",
     "text": [
      "\n",
      "----------------------------------------------------------------------\n",
      "Ran 3 tests in 8.609s\n",
      "\n",
      "OK\n"
     ]
    }
   ],
   "source": [
    "\n",
    "class Test(unittest.TestCase):\n",
    "    def test_firstTest(self):\n",
    "        print(\"This is my first unit test case method\")\n",
    "\n",
    "if __name__ == \"__main__\":\n",
    "    unittest.main(argv=['first-arg-is-ignored'], exit=False)"
   ]
  },
  {
   "cell_type": "code",
   "execution_count": 15,
   "metadata": {},
   "outputs": [
    {
     "name": "stderr",
     "output_type": "stream",
     "text": [
      "/home/kanik/anaconda3/lib/python3.7/threading.py:219: ResourceWarning: unclosed <socket.socket fd=46, family=AddressFamily.AF_INET, type=SocketKind.SOCK_STREAM, proto=6, laddr=('127.0.0.1', 42602), raddr=('127.0.0.1', 36873)>\n",
      "  self._lock = lock\n",
      "ResourceWarning: Enable tracemalloc to get the object allocation traceback\n",
      "."
     ]
    },
    {
     "name": "stdout",
     "output_type": "stream",
     "text": [
      "Title of the another web page :  Bing\n"
     ]
    },
    {
     "name": "stderr",
     "output_type": "stream",
     "text": [
      ".."
     ]
    },
    {
     "name": "stdout",
     "output_type": "stream",
     "text": [
      "Title of the web page :  Google\n",
      "This is my first unit test case method\n"
     ]
    },
    {
     "name": "stderr",
     "output_type": "stream",
     "text": [
      "\n",
      "----------------------------------------------------------------------\n",
      "Ran 3 tests in 8.170s\n",
      "\n",
      "OK\n"
     ]
    }
   ],
   "source": [
    "import unittest\n",
    "from selenium import webdriver\n",
    "\n",
    "class SearchEnginesTest(unittest.TestCase):\n",
    "    def test_google(self):\n",
    "        self.driver = webdriver.Chrome(executable_path=\"/home/kanik/PycharmProjects/Selenium_tutorials/drivers/chromedriver\")\n",
    "        self.driver.get(\"https://www.google.com/\")\n",
    "        print(\"Title of the web page : \", self.driver.title)\n",
    "        self.driver.close()\n",
    "\n",
    "    def test_Bing(self):\n",
    "        self.driver = webdriver.Chrome(executable_path=\"/home/kanik/PycharmProjects/Selenium_tutorials/drivers/chromedriver\")\n",
    "        self.driver.get(\"https://www.bing.com/\")\n",
    "        print(\"Title of the another web page : \", self.driver.title)\n",
    "        self.driver.close()\n",
    "\n",
    "if __name__ == '__main__':\n",
    "    unittest.main(argv=['first-arg-is-ignored'], exit=False)"
   ]
  },
  {
   "cell_type": "code",
   "execution_count": null,
   "metadata": {},
   "outputs": [],
   "source": [
    "# Some Special Methods :"
   ]
  },
  {
   "cell_type": "code",
   "execution_count": null,
   "metadata": {},
   "outputs": [],
   "source": [
    "import unittest\n",
    "\n",
    "class SearchEnginesTest(unittest.TestCase):\n",
    "     def test_search(self):\n",
    "        print(\"This is Search Method.\")\n",
    "\n",
    "    def test_advancedsearch(self):\n",
    "        print(\"This is Advanced Search method\")\n",
    "\n",
    "    def test_prepaidRecharge(self):\n",
    "        print(\"This is prepaid Recharge test\")\n",
    "\n",
    "    def test_postpaidRecharge(self):\n",
    "        print(\"This is post paid Recharge test\")\n"
   ]
  },
  {
   "cell_type": "markdown",
   "metadata": {},
   "source": [
    "# Output :\n",
    "\n",
    "This is Advanced Search method\n",
    "This is post paid Recharge test\n",
    "This is prepaid Recharge test\n",
    "This is Search Method."
   ]
  },
  {
   "cell_type": "code",
   "execution_count": null,
   "metadata": {},
   "outputs": [],
   "source": [
    "class SearchEnginesTest(unittest.TestCase):\n",
    "    \n",
    "    \n",
    "    @classmethod\n",
    "    def setUp(self):\n",
    "        \"\"\"\n",
    "        This Method is call each and every time when the methods of same class will execute. It  execute before any class method execute does not have any fixed possition\n",
    "        before defining it use classmethod decorator\n",
    "        \"\"\"\n",
    "        print(\"This is login test\")\n",
    "\n",
    "    @classmethod\n",
    "    def tearDown(self):\n",
    "        \"\"\"\n",
    "        This Method is call each and every time when the methods of same class will execute. It  execute after any class method execute does not have any fixed possition\n",
    "        before defining it use classmethod decorator\n",
    "        \"\"\"\n",
    "        print(\"This is logout test\")\n",
    "        \n",
    "        \n",
    "    def test_search(self):\n",
    "        print(\"This is Search Method.\")\n",
    "\n",
    "    def test_advancedsearch(self):\n",
    "        print(\"This is Advanced Search method\")\n",
    "\n",
    "    def test_prepaidRecharge(self):\n",
    "        print(\"This is prepaid Recharge test\")\n",
    "\n",
    "    def test_postpaidRecharge(self):\n",
    "        print(\"This is post paid Recharge test\")"
   ]
  },
  {
   "cell_type": "markdown",
   "metadata": {},
   "source": [
    "# Output :\n",
    "\n",
    "This is login test\n",
    "This is Advanced Search method\n",
    "This is logout test\n",
    "This is login test\n",
    "This is post paid Recharge test\n",
    "This is logout test\n",
    "This is login test\n",
    "This is prepaid Recharge test\n",
    "This is logout test\n",
    "This is login test\n",
    "This is Search Method.\n",
    "This is logout test"
   ]
  },
  {
   "cell_type": "code",
   "execution_count": null,
   "metadata": {},
   "outputs": [],
   "source": [
    "import unittest\n",
    "\n",
    "\n",
    "class SearchEnginesTest(unittest.TestCase):\n",
    "    @classmethod\n",
    "    def setUp(self):\n",
    "        \"\"\"\n",
    "        This Method is call each and every time when the methods of same class will execute. It  execute before any class method execute does not have any fixed possition\n",
    "        before defining it use classmethod decorator\n",
    "        \"\"\"\n",
    "        print(\"This is login test\")\n",
    "\n",
    "    @classmethod\n",
    "    def tearDown(self):\n",
    "        \"\"\"\n",
    "        This Method is call each and every time when the methods of same class will execute. It  execute after any class method execute does not have any fixed possition\n",
    "        before defining it use classmethod decorator\n",
    "        \"\"\"\n",
    "        print(\"This is logout test\")\n",
    "\n",
    "    @classmethod\n",
    "    def setUpClass(cls):\n",
    "        \"\"\"\n",
    "        This Method is call at the starting of all the method only 1 time when the methods of same class will execute. it does not have any fixed possition\n",
    "        before defining it use classmethod decorator\n",
    "        \"\"\"\n",
    "        print(\"Opening Application\")\n",
    "\n",
    "    @classmethod\n",
    "    def tearDownClass(cls):\n",
    "        \"\"\"\n",
    "        This Method is call at the ending of all the method only 1 time when the methods of same class will execute. it does not have any fixed possition\n",
    "        before defining it use classmethod decorator\n",
    "        \"\"\"\n",
    "        print(\"Clossing the Application\")\n",
    "\n",
    "    def test_search(self):\n",
    "        print(\"This is Search Method.\")\n",
    "\n",
    "    def test_advancedsearch(self):\n",
    "        print(\"This is Advanced Search method\")\n",
    "\n",
    "    def test_prepaidRecharge(self):\n",
    "        print(\"This is prepaid Recharge test\")\n",
    "\n",
    "    def test_postpaidRecharge(self):\n",
    "        print(\"This is post paid Recharge test\")\n",
    "\n",
    "\n",
    "\n",
    "if __name__ == '__main__':\n",
    "    unittest.main(argv=['first-arg-is-ignored'], exit=False)\n"
   ]
  },
  {
   "cell_type": "markdown",
   "metadata": {},
   "source": [
    "# Output :\n",
    "Opening Application\n",
    "This is login test\n",
    "This is Advanced Search method\n",
    "This is logout test\n",
    "This is login test\n",
    "This is post paid Recharge test\n",
    "This is logout test\n",
    "This is login test\n",
    "This is prepaid Recharge test\n",
    "This is logout test\n",
    "This is login test\n",
    "This is Search Method.\n",
    "This is logout test\n",
    "Clossing the Application"
   ]
  },
  {
   "cell_type": "code",
   "execution_count": null,
   "metadata": {},
   "outputs": [],
   "source": [
    "import unittest\n",
    "from selenium import webdriver\n",
    "\n",
    "def setUpModule():\n",
    "    print(\"SetupModule\")\n",
    "\n",
    "def tearDownModule():\n",
    "    print(\"Tear Down Module\")\n",
    "\n",
    "class SearchEnginesTest(unittest.TestCase):\n",
    "    @classmethod\n",
    "    def setUp(self):\n",
    "        \"\"\"\n",
    "        This Method is call each and every time when the methods of same class will execute. It  execute before any class method execute does not have any fixed possition\n",
    "        before defining it use classmethod decorator\n",
    "        \"\"\"\n",
    "        print(\"This is login test\")\n",
    "\n",
    "    @classmethod\n",
    "    def tearDown(self):\n",
    "        \"\"\"\n",
    "        This Method is call each and every time when the methods of same class will execute. It  execute after any class method execute does not have any fixed possition\n",
    "        before defining it use classmethod decorator\n",
    "        \"\"\"\n",
    "        print(\"This is logout test\")\n",
    "\n",
    "    @classmethod\n",
    "    def setUpClass(cls):\n",
    "        \"\"\"\n",
    "        This Method is call at the starting of all the method only 1 time when the methods of same class will execute. it does not have any fixed possition\n",
    "        before defining it use classmethod decorator\n",
    "        \"\"\"\n",
    "        print(\"Opening Application\")\n",
    "\n",
    "    @classmethod\n",
    "    def tearDownClass(cls):\n",
    "        \"\"\"\n",
    "        This Method is call at the ending of all the method only 1 time when the methods of same class will execute. it does not have any fixed possition\n",
    "        before defining it use classmethod decorator\n",
    "        \"\"\"\n",
    "        print(\"Clossing the Application\")\n",
    "\n",
    "\n",
    "\n",
    "    def test_search(self):\n",
    "        print(\"This is Search Method.\")\n",
    "\n",
    "    def test_advancedsearch(self):\n",
    "        print(\"This is Advanced Search method\")\n",
    "\n",
    "    def test_prepaidRecharge(self):\n",
    "        print(\"This is prepaid Recharge test\")\n",
    "\n",
    "    def test_postpaidRecharge(self):\n",
    "        print(\"This is post paid Recharge test\")\n",
    "\n",
    "\n",
    "\n",
    "if __name__ == '__main__':\n",
    "    unittest.main()\n"
   ]
  },
  {
   "cell_type": "markdown",
   "metadata": {},
   "source": [
    "# Output :\n",
    "SetupModule\n",
    "Opening Application\n",
    "This is login test\n",
    "This is Advanced Search method\n",
    "This is logout test\n",
    "This is login test\n",
    "This is post paid Recharge test\n",
    "This is logout test\n",
    "This is login test\n",
    "This is prepaid Recharge test\n",
    "This is logout test\n",
    "This is login test\n",
    "This is Search Method.\n",
    "This is logout test\n",
    "Clossing the Application\n",
    "Tear Down Module"
   ]
  },
  {
   "cell_type": "markdown",
   "metadata": {},
   "source": [
    "# Skipped The test cases:"
   ]
  },
  {
   "cell_type": "code",
   "execution_count": null,
   "metadata": {},
   "outputs": [],
   "source": [
    "import unittest\n",
    "\n",
    "class Apptesting(unittest.TestCase):\n",
    "\n",
    "    @unittest.SkipTest    # this is the decorator use to skip this method\n",
    "    def test_search(self):\n",
    "        print(\"This is Search Method.\")\n",
    "\n",
    "    @unittest.skip(\"I am skipping this method because rain\")\n",
    "    def test_advancedsearch(self):\n",
    "        print(\"This is Advanced Search method\")\n",
    "\n",
    "    @unittest.skipIf(1==1, \"condition is true\")\n",
    "    def test_prepaidRecharge(self):\n",
    "        print(\"This is prepaid Recharge test\")\n",
    "\n",
    "    def test_postpaidRecharge(self):\n",
    "        print(\"This is post paid Recharge test\")\n",
    "\n",
    "    def test_loginByGmail(self):\n",
    "        print(\"This is Login by Gmail\")\n",
    "\n",
    "    def test_loginByTwitter(self):\n",
    "        print(\"This is Login by Twitter\")\n",
    "\n",
    "if __name__ == '__main__':\n",
    "    unittest.main()\n"
   ]
  },
  {
   "cell_type": "markdown",
   "metadata": {},
   "source": [
    "# Assert command :"
   ]
  },
  {
   "cell_type": "markdown",
   "metadata": {},
   "source": [
    "1. System.Assert accepts two parameters, one (mandatory) which is the condition to test for and the other a message (optional) to display should that condition be false.\n",
    "\n",
    "2. System.AssertEquals and System.AssertNotEquals both accepts three parameters; the first two (mandatory) are the variables that will be tested for in/equality and the third (optional) is the message to display if the assert results in false."
   ]
  },
  {
   "cell_type": "code",
   "execution_count": null,
   "metadata": {},
   "outputs": [],
   "source": [
    "import unittest\n",
    "from selenium import webdriver\n",
    "\n",
    "\n",
    "class Test(unittest.TestCase):\n",
    "    def testName(self):\n",
    "        driver = webdriver.Chrome(executable_path=\"/home/kanik/PycharmProjects/Selenium_tutorials/drivers/chromedriver\")\n",
    "        driver.maximize_window()\n",
    "        driver.get(\"https://www.google.com/\")\n",
    "        title_of_webPage = driver.title\n",
    "        #self.assertEqual(\"Google\", title_of_webPage, \"Web Page title not same.\")\n",
    "        self.assertNotEqual(\"Google123\", title_of_webPage)\n",
    "\n",
    "if __name__ == '__main__':\n",
    "    unittest.main()"
   ]
  },
  {
   "cell_type": "markdown",
   "metadata": {},
   "source": [
    "1. assertTrue is truthy and assertFalse is falsy. These assertion methods are creating a bool from the received value and then evaluating it. It also suggests that we really shouldn’t use assertTrue or assertFalse for very much at all."
   ]
  },
  {
   "cell_type": "code",
   "execution_count": null,
   "metadata": {},
   "outputs": [],
   "source": [
    "# assertTrue"
   ]
  },
  {
   "cell_type": "code",
   "execution_count": 1,
   "metadata": {},
   "outputs": [
    {
     "name": "stderr",
     "output_type": "stream",
     "text": [
      ".\n",
      "----------------------------------------------------------------------\n",
      "Ran 1 test in 4.791s\n",
      "\n",
      "OK\n"
     ]
    }
   ],
   "source": [
    "import unittest\n",
    "from selenium import webdriver\n",
    "\n",
    "\n",
    "class Test(unittest.TestCase):\n",
    "    def testName(self):\n",
    "        driver = webdriver.Chrome(executable_path=\"/home/kanik/PycharmProjects/Selenium_tutorials/drivers/chromedriver\")\n",
    "        driver.maximize_window()\n",
    "        driver.get(\"https://www.google.com/\")\n",
    "        title_of_webPage = driver.title\n",
    "        self.assertTrue(title_of_webPage == \"Google\")\n",
    "        \n",
    "if __name__ == '__main__':\n",
    "    unittest.main(argv=['first-arg-is-ignored'], exit=False)"
   ]
  },
  {
   "cell_type": "code",
   "execution_count": 1,
   "metadata": {},
   "outputs": [
    {
     "name": "stderr",
     "output_type": "stream",
     "text": [
      "F\n",
      "======================================================================\n",
      "FAIL: testName (__main__.Test)\n",
      "----------------------------------------------------------------------\n",
      "Traceback (most recent call last):\n",
      "  File \"<ipython-input-1-a127d6adf593>\", line 11, in testName\n",
      "    self.assertTrue(title_of_webPage == \"Google123\")\n",
      "AssertionError: False is not true\n",
      "\n",
      "----------------------------------------------------------------------\n",
      "Ran 1 test in 4.305s\n",
      "\n",
      "FAILED (failures=1)\n"
     ]
    }
   ],
   "source": [
    "import unittest\n",
    "from selenium import webdriver\n",
    "\n",
    "\n",
    "class Test(unittest.TestCase):\n",
    "    def testName(self):\n",
    "        driver = webdriver.Chrome(executable_path=\"/home/kanik/PycharmProjects/Selenium_tutorials/drivers/chromedriver\")\n",
    "        driver.maximize_window()\n",
    "        driver.get(\"https://www.google.com/\")\n",
    "        title_of_webPage = driver.title\n",
    "        self.assertTrue(title_of_webPage == \"Google123\")\n",
    "        \n",
    "if __name__ == '__main__':\n",
    "    unittest.main(argv=['first-arg-is-ignored'], exit=False)"
   ]
  },
  {
   "cell_type": "markdown",
   "metadata": {},
   "source": [
    "# AssertFalse"
   ]
  },
  {
   "cell_type": "code",
   "execution_count": 1,
   "metadata": {},
   "outputs": [
    {
     "name": "stderr",
     "output_type": "stream",
     "text": [
      ".\n",
      "----------------------------------------------------------------------\n",
      "Ran 1 test in 5.526s\n",
      "\n",
      "OK\n"
     ]
    }
   ],
   "source": [
    "import unittest\n",
    "from selenium import webdriver\n",
    "\n",
    "\n",
    "class Test(unittest.TestCase):\n",
    "    def testName(self):\n",
    "        driver = webdriver.Chrome(executable_path=\"/home/kanik/PycharmProjects/Selenium_tutorials/drivers/chromedriver\")\n",
    "        driver.maximize_window()\n",
    "        driver.get(\"https://www.google.com/\")\n",
    "        title_of_webPage = driver.title\n",
    "        self.assertFalse(title_of_webPage == \"Google123\")\n",
    "        \n",
    "if __name__ == '__main__':\n",
    "    unittest.main(argv=['first-arg-is-ignored'], exit=False)"
   ]
  },
  {
   "cell_type": "code",
   "execution_count": 1,
   "metadata": {},
   "outputs": [
    {
     "name": "stderr",
     "output_type": "stream",
     "text": [
      "F\n",
      "======================================================================\n",
      "FAIL: testName (__main__.Test)\n",
      "----------------------------------------------------------------------\n",
      "Traceback (most recent call last):\n",
      "  File \"<ipython-input-1-64d9d0ad9355>\", line 11, in testName\n",
      "    self.assertFalse(title_of_webPage == \"Google\")\n",
      "AssertionError: True is not false\n",
      "\n",
      "----------------------------------------------------------------------\n",
      "Ran 1 test in 5.468s\n",
      "\n",
      "FAILED (failures=1)\n"
     ]
    }
   ],
   "source": [
    "import unittest\n",
    "from selenium import webdriver\n",
    "\n",
    "\n",
    "class Test(unittest.TestCase):\n",
    "    def testName(self):\n",
    "        driver = webdriver.Chrome(executable_path=\"/home/kanik/PycharmProjects/Selenium_tutorials/drivers/chromedriver\")\n",
    "        driver.maximize_window()\n",
    "        driver.get(\"https://www.google.com/\")\n",
    "        title_of_webPage = driver.title\n",
    "        self.assertFalse(title_of_webPage == \"Google\")\n",
    "        \n",
    "if __name__ == '__main__':\n",
    "    unittest.main(argv=['first-arg-is-ignored'], exit=False)"
   ]
  },
  {
   "cell_type": "markdown",
   "metadata": {},
   "source": [
    "# AssertIsNone\n",
    "If the driver contain something then in that case this method show false"
   ]
  },
  {
   "cell_type": "code",
   "execution_count": 5,
   "metadata": {},
   "outputs": [
    {
     "name": "stderr",
     "output_type": "stream",
     "text": [
      "F\n",
      "======================================================================\n",
      "FAIL: testName (__main__.Test)\n",
      "----------------------------------------------------------------------\n",
      "Traceback (most recent call last):\n",
      "  File \"<ipython-input-5-e87c4ce1f93e>\", line 8, in testName\n",
      "    self.assertIsNone(driver)\n",
      "AssertionError: <selenium.webdriver.chrome.webdriver.WebDriver (session=\"aaf241872ddf2be6a5bd0c1afd947595\")> is not None\n",
      "\n",
      "----------------------------------------------------------------------\n",
      "Ran 1 test in 1.494s\n",
      "\n",
      "FAILED (failures=1)\n"
     ]
    }
   ],
   "source": [
    "import unittest\n",
    "from selenium import webdriver\n",
    "\n",
    "\n",
    "class Test(unittest.TestCase):\n",
    "    def testName(self):\n",
    "        driver = webdriver.Chrome(executable_path=\"/home/kanik/PycharmProjects/Selenium_tutorials/drivers/chromedriver\")\n",
    "        self.assertIsNone(driver)\n",
    "        \n",
    "        \n",
    "if __name__ == '__main__':\n",
    "    unittest.main(argv=['first-arg-is-ignored'], exit=False)"
   ]
  },
  {
   "cell_type": "markdown",
   "metadata": {},
   "source": [
    "# AssertNotNone\n",
    "If the driver contain something then in that case this method show True"
   ]
  },
  {
   "cell_type": "code",
   "execution_count": 4,
   "metadata": {},
   "outputs": [
    {
     "name": "stderr",
     "output_type": "stream",
     "text": [
      ".\n",
      "----------------------------------------------------------------------\n",
      "Ran 1 test in 1.390s\n",
      "\n",
      "OK\n"
     ]
    }
   ],
   "source": [
    "import unittest\n",
    "from selenium import webdriver\n",
    "\n",
    "\n",
    "class Test(unittest.TestCase):\n",
    "    def testName(self):\n",
    "        driver = webdriver.Chrome(executable_path=\"/home/kanik/PycharmProjects/Selenium_tutorials/drivers/chromedriver\")\n",
    "        self.assertIsNotNone(driver)\n",
    "        \n",
    "        \n",
    "if __name__ == '__main__':\n",
    "    unittest.main(argv=['first-arg-is-ignored'], exit=False)"
   ]
  },
  {
   "cell_type": "markdown",
   "metadata": {},
   "source": [
    "# AssertIn\n",
    "Test that arg1 is in arg2 return True otherwise false"
   ]
  },
  {
   "cell_type": "code",
   "execution_count": 6,
   "metadata": {},
   "outputs": [
    {
     "name": "stderr",
     "output_type": "stream",
     "text": [
      ".\n",
      "----------------------------------------------------------------------\n",
      "Ran 1 test in 0.001s\n",
      "\n",
      "OK\n"
     ]
    }
   ],
   "source": [
    "import unittest\n",
    "\n",
    "\n",
    "\n",
    "class Test(unittest.TestCase):\n",
    "    def testName(self):\n",
    "        list = [\"Python\", \"Java\", \"JavaScript\", \"C\", \"C++\"]\n",
    "        self.assertIn(\"Python\", list)\n",
    "\n",
    "        \n",
    "if __name__ == '__main__':\n",
    "    unittest.main(argv=['first-arg-is-ignored'], exit=False)"
   ]
  },
  {
   "cell_type": "markdown",
   "metadata": {},
   "source": [
    "# AssertNotIn\n",
    "Test that arg1 is not in arg2. return True otherwise False"
   ]
  },
  {
   "cell_type": "code",
   "execution_count": 7,
   "metadata": {},
   "outputs": [
    {
     "name": "stderr",
     "output_type": "stream",
     "text": [
      "F\n",
      "======================================================================\n",
      "FAIL: testName (__main__.Test)\n",
      "----------------------------------------------------------------------\n",
      "Traceback (most recent call last):\n",
      "  File \"<ipython-input-7-66491d65329d>\", line 8, in testName\n",
      "    self.assertNotIn(\"Python\", list)\n",
      "AssertionError: 'Python' unexpectedly found in ['Python', 'Java', 'JavaScript', 'C', 'C++']\n",
      "\n",
      "----------------------------------------------------------------------\n",
      "Ran 1 test in 0.001s\n",
      "\n",
      "FAILED (failures=1)\n"
     ]
    }
   ],
   "source": [
    "import unittest\n",
    "\n",
    "\n",
    "\n",
    "class Test(unittest.TestCase):\n",
    "    def testName(self):\n",
    "        list = [\"Python\", \"Java\", \"JavaScript\", \"C\", \"C++\"]\n",
    "        self.assertNotIn(\"Python\", list)\n",
    "\n",
    "        \n",
    "if __name__ == '__main__':\n",
    "    unittest.main(argv=['first-arg-is-ignored'], exit=False)"
   ]
  },
  {
   "cell_type": "markdown",
   "metadata": {},
   "source": [
    "# AssertGreater\n",
    "Test that first is greater than second depending on the method name. If not, the test will fail."
   ]
  },
  {
   "cell_type": "code",
   "execution_count": 8,
   "metadata": {},
   "outputs": [
    {
     "name": "stderr",
     "output_type": "stream",
     "text": [
      ".\n",
      "----------------------------------------------------------------------\n",
      "Ran 1 test in 0.001s\n",
      "\n",
      "OK\n"
     ]
    }
   ],
   "source": [
    "import unittest\n",
    "from selenium import webdriver\n",
    "\n",
    "\n",
    "class Test(unittest.TestCase):\n",
    "    def testName(self):\n",
    "        self.assertGreater(100, 10)\n",
    "\n",
    "if __name__ == '__main__':\n",
    "    unittest.main(argv=['first-arg-is-ignored'], exit=False)"
   ]
  },
  {
   "cell_type": "code",
   "execution_count": 9,
   "metadata": {},
   "outputs": [
    {
     "name": "stderr",
     "output_type": "stream",
     "text": [
      "F\n",
      "======================================================================\n",
      "FAIL: testName (__main__.Test)\n",
      "----------------------------------------------------------------------\n",
      "Traceback (most recent call last):\n",
      "  File \"<ipython-input-9-60c033c88d69>\", line 7, in testName\n",
      "    self.assertGreater(10, 100)\n",
      "AssertionError: 10 not greater than 100\n",
      "\n",
      "----------------------------------------------------------------------\n",
      "Ran 1 test in 0.001s\n",
      "\n",
      "FAILED (failures=1)\n"
     ]
    }
   ],
   "source": [
    "import unittest\n",
    "from selenium import webdriver\n",
    "\n",
    "\n",
    "class Test(unittest.TestCase):\n",
    "    def testName(self):\n",
    "        self.assertGreater(10, 100)\n",
    "\n",
    "if __name__ == '__main__':\n",
    "    unittest.main(argv=['first-arg-is-ignored'], exit=False)"
   ]
  },
  {
   "cell_type": "markdown",
   "metadata": {},
   "source": [
    "# AssertGreaterEqual\n",
    "Test that first is greater than or equal to second depending on the method name. If not, the test will fail"
   ]
  },
  {
   "cell_type": "code",
   "execution_count": 11,
   "metadata": {},
   "outputs": [
    {
     "name": "stderr",
     "output_type": "stream",
     "text": [
      ".\n",
      "----------------------------------------------------------------------\n",
      "Ran 1 test in 0.001s\n",
      "\n",
      "OK\n"
     ]
    }
   ],
   "source": [
    "import unittest\n",
    "from selenium import webdriver\n",
    "\n",
    "\n",
    "class Test(unittest.TestCase):\n",
    "    def testName(self):\n",
    "        self.assertGreaterEqual(100, 100)\n",
    "\n",
    "if __name__ == '__main__':\n",
    "    unittest.main(argv=['first-arg-is-ignored'], exit=False)"
   ]
  },
  {
   "cell_type": "code",
   "execution_count": 12,
   "metadata": {},
   "outputs": [
    {
     "name": "stderr",
     "output_type": "stream",
     "text": [
      "F\n",
      "======================================================================\n",
      "FAIL: testName (__main__.Test)\n",
      "----------------------------------------------------------------------\n",
      "Traceback (most recent call last):\n",
      "  File \"<ipython-input-12-2509543ab31c>\", line 7, in testName\n",
      "    self.assertGreaterEqual(10, 11)\n",
      "AssertionError: 10 not greater than or equal to 11\n",
      "\n",
      "----------------------------------------------------------------------\n",
      "Ran 1 test in 0.002s\n",
      "\n",
      "FAILED (failures=1)\n"
     ]
    }
   ],
   "source": [
    "import unittest\n",
    "from selenium import webdriver\n",
    "\n",
    "\n",
    "class Test(unittest.TestCase):\n",
    "    def testName(self):\n",
    "        self.assertGreaterEqual(10, 11)\n",
    "\n",
    "if __name__ == '__main__':\n",
    "    unittest.main(argv=['first-arg-is-ignored'], exit=False)"
   ]
  },
  {
   "cell_type": "markdown",
   "metadata": {},
   "source": [
    "# AssertLess\n",
    "Test that first is less than second depending on the method name. If not, the test will fail"
   ]
  },
  {
   "cell_type": "code",
   "execution_count": 16,
   "metadata": {},
   "outputs": [
    {
     "name": "stderr",
     "output_type": "stream",
     "text": [
      ".\n",
      "----------------------------------------------------------------------\n",
      "Ran 1 test in 0.001s\n",
      "\n",
      "OK\n"
     ]
    }
   ],
   "source": [
    "import unittest\n",
    "from selenium import webdriver\n",
    "\n",
    "\n",
    "class Test(unittest.TestCase):\n",
    "    def testName(self):\n",
    "        self.assertLess(10, 100)\n",
    "\n",
    "if __name__ == '__main__':\n",
    "    unittest.main(argv=['first-arg-is-ignored'], exit=False)"
   ]
  },
  {
   "cell_type": "code",
   "execution_count": 17,
   "metadata": {},
   "outputs": [
    {
     "name": "stderr",
     "output_type": "stream",
     "text": [
      "F\n",
      "======================================================================\n",
      "FAIL: testName (__main__.Test)\n",
      "----------------------------------------------------------------------\n",
      "Traceback (most recent call last):\n",
      "  File \"<ipython-input-17-b15969947813>\", line 7, in testName\n",
      "    self.assertLess(10, 9)\n",
      "AssertionError: 10 not less than 9\n",
      "\n",
      "----------------------------------------------------------------------\n",
      "Ran 1 test in 0.001s\n",
      "\n",
      "FAILED (failures=1)\n"
     ]
    }
   ],
   "source": [
    "import unittest\n",
    "from selenium import webdriver\n",
    "\n",
    "\n",
    "class Test(unittest.TestCase):\n",
    "    def testName(self):\n",
    "        self.assertLess(10, 9)\n",
    "\n",
    "if __name__ == '__main__':\n",
    "    unittest.main(argv=['first-arg-is-ignored'], exit=False)"
   ]
  },
  {
   "cell_type": "markdown",
   "metadata": {},
   "source": [
    "# AssertLessEqual\n",
    "Test that first is less than or equal to second depending upon the method name. If not, the test will fail."
   ]
  },
  {
   "cell_type": "code",
   "execution_count": 13,
   "metadata": {},
   "outputs": [
    {
     "name": "stderr",
     "output_type": "stream",
     "text": [
      ".\n",
      "----------------------------------------------------------------------\n",
      "Ran 1 test in 0.001s\n",
      "\n",
      "OK\n"
     ]
    }
   ],
   "source": [
    "import unittest\n",
    "from selenium import webdriver\n",
    "\n",
    "\n",
    "class Test(unittest.TestCase):\n",
    "    def testName(self):\n",
    "        self.assertLessEqual(10, 100)\n",
    "\n",
    "if __name__ == '__main__':\n",
    "    unittest.main(argv=['first-arg-is-ignored'], exit=False)"
   ]
  },
  {
   "cell_type": "code",
   "execution_count": 15,
   "metadata": {},
   "outputs": [
    {
     "name": "stderr",
     "output_type": "stream",
     "text": [
      "F\n",
      "======================================================================\n",
      "FAIL: testName (__main__.Test)\n",
      "----------------------------------------------------------------------\n",
      "Traceback (most recent call last):\n",
      "  File \"<ipython-input-15-f354dc3b9250>\", line 7, in testName\n",
      "    self.assertLessEqual(100, 10)\n",
      "AssertionError: 100 not less than or equal to 10\n",
      "\n",
      "----------------------------------------------------------------------\n",
      "Ran 1 test in 0.001s\n",
      "\n",
      "FAILED (failures=1)\n"
     ]
    }
   ],
   "source": [
    "import unittest\n",
    "from selenium import webdriver\n",
    "\n",
    "\n",
    "class Test(unittest.TestCase):\n",
    "    def testName(self):\n",
    "        self.assertLessEqual(100, 10)\n",
    "\n",
    "if __name__ == '__main__':\n",
    "    unittest.main(argv=['first-arg-is-ignored'], exit=False)"
   ]
  },
  {
   "cell_type": "markdown",
   "metadata": {},
   "source": [
    "# Batch Testing :"
   ]
  },
  {
   "cell_type": "markdown",
   "metadata": {},
   "source": [
    "on github link : https://github.com/kanik9/Celebal_Training_Workbook/tree/master/Batch%20Testing"
   ]
  },
  {
   "cell_type": "code",
   "execution_count": null,
   "metadata": {},
   "outputs": [],
   "source": []
  },
  {
   "cell_type": "markdown",
   "metadata": {},
   "source": [
    "# Pytest Basics :"
   ]
  },
  {
   "cell_type": "markdown",
   "metadata": {},
   "source": [
    "# Steps :\n",
    "\n",
    "1. first install pytest : pip install pytest\n",
    "\n",
    "2. Create python file whose name start with test . This is the major    point\n",
    "\n",
    "3. All the methods contain in 'testfilename.py' names also start        with test\n",
    "\n",
    "4. You can't run pytest file directly like normal python file\n",
    "\n",
    "5. You have to use 'pytest' insted of 'python filename.py'\n",
    "\n",
    "6. by using step 5 you only get the success or failer. But the      result did not show\n",
    "\n",
    "7. for result use this 'pytest -v -s'\n",
    "\n",
    "8. If you want to run only a specific file use 'pytest -v -s filename.py'"
   ]
  },
  {
   "cell_type": "markdown",
   "metadata": {},
   "source": [
    "- The purpose of test fixture is to provide a fixed baseline upon which test can reliably and repeatedly execute\n",
    "\n",
    "1. @pytest.fixture() : Executes Specific method before every test method\n",
    "\n",
    "2. @pytest.yield_fixture() : Executes Specific method before & After every test method\n"
   ]
  },
  {
   "cell_type": "code",
   "execution_count": null,
   "metadata": {},
   "outputs": [],
   "source": [
    "code file :  https://github.com/kanik9/Celebal_Training_Workbook/tree/master/pytest"
   ]
  },
  {
   "cell_type": "markdown",
   "metadata": {},
   "source": [
    "Unitest + Selenium + HTML Report \n",
    "code file  : https://github.com/kanik9/Celebal_Training_Workbook/tree/master/POM%20Method"
   ]
  },
  {
   "cell_type": "code",
   "execution_count": null,
   "metadata": {},
   "outputs": [],
   "source": [
    "Remaining codes also in this file: https://github.com/kanik9/Celebal_Training_Workbook"
   ]
  },
  {
   "cell_type": "code",
   "execution_count": null,
   "metadata": {},
   "outputs": [],
   "source": []
  },
  {
   "cell_type": "code",
   "execution_count": null,
   "metadata": {},
   "outputs": [],
   "source": []
  },
  {
   "cell_type": "code",
   "execution_count": null,
   "metadata": {},
   "outputs": [],
   "source": []
  },
  {
   "cell_type": "code",
   "execution_count": null,
   "metadata": {},
   "outputs": [],
   "source": []
  },
  {
   "cell_type": "code",
   "execution_count": null,
   "metadata": {},
   "outputs": [],
   "source": []
  },
  {
   "cell_type": "code",
   "execution_count": null,
   "metadata": {},
   "outputs": [],
   "source": []
  },
  {
   "cell_type": "code",
   "execution_count": null,
   "metadata": {},
   "outputs": [],
   "source": []
  },
  {
   "cell_type": "code",
   "execution_count": null,
   "metadata": {},
   "outputs": [],
   "source": []
  },
  {
   "cell_type": "code",
   "execution_count": null,
   "metadata": {},
   "outputs": [],
   "source": []
  },
  {
   "cell_type": "code",
   "execution_count": null,
   "metadata": {},
   "outputs": [],
   "source": []
  },
  {
   "cell_type": "code",
   "execution_count": null,
   "metadata": {},
   "outputs": [],
   "source": []
  },
  {
   "cell_type": "code",
   "execution_count": null,
   "metadata": {},
   "outputs": [],
   "source": []
  },
  {
   "cell_type": "code",
   "execution_count": null,
   "metadata": {},
   "outputs": [],
   "source": []
  }
 ],
 "metadata": {
  "kernelspec": {
   "display_name": "Python 3",
   "language": "python",
   "name": "python3"
  },
  "language_info": {
   "codemirror_mode": {
    "name": "ipython",
    "version": 3
   },
   "file_extension": ".py",
   "mimetype": "text/x-python",
   "name": "python",
   "nbconvert_exporter": "python",
   "pygments_lexer": "ipython3",
   "version": "3.7.7"
  }
 },
 "nbformat": 4,
 "nbformat_minor": 4
}

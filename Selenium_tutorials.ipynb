{
 "cells": [
  {
   "cell_type": "code",
   "execution_count": 1,
   "metadata": {},
   "outputs": [],
   "source": [
    "# Main Libraries Import \n",
    "from selenium import webdriver\n",
    "from selenium.webdriver.common.keys import Keys\n",
    "\n",
    "\n",
    "# Secondary Library Import :\n",
    "import time"
   ]
  },
  {
   "cell_type": "code",
   "execution_count": 2,
   "metadata": {},
   "outputs": [],
   "source": [
    "#creating a webdriver object :\n",
    "driver = webdriver.Chrome(executable_path=\"/home/kanik/PycharmProjects/Selenium_tutorials/drivers/chromedriver\")"
   ]
  },
  {
   "cell_type": "markdown",
   "metadata": {},
   "source": [
    "# Bassic Commands : "
   ]
  },
  {
   "cell_type": "code",
   "execution_count": 3,
   "metadata": {},
   "outputs": [],
   "source": [
    "# Open browser command:\n",
    "driver.get(\"https://www.youtube.com/\")"
   ]
  },
  {
   "cell_type": "code",
   "execution_count": 4,
   "metadata": {},
   "outputs": [
    {
     "name": "stdout",
     "output_type": "stream",
     "text": [
      "YouTube\n"
     ]
    }
   ],
   "source": [
    "# capture the title of the page or the url:\n",
    "print(driver.title)"
   ]
  },
  {
   "cell_type": "code",
   "execution_count": 5,
   "metadata": {},
   "outputs": [
    {
     "name": "stdout",
     "output_type": "stream",
     "text": [
      "https://www.youtube.com/\n"
     ]
    }
   ],
   "source": [
    "# capture thr url of the page:\n",
    "print(driver.current_url)"
   ]
  },
  {
   "cell_type": "code",
   "execution_count": 6,
   "metadata": {},
   "outputs": [
    {
     "name": "stderr",
     "output_type": "stream",
     "text": [
      "IOPub data rate exceeded.\n",
      "The notebook server will temporarily stop sending output\n",
      "to the client in order to avoid crashing it.\n",
      "To change this limit, set the config variable\n",
      "`--NotebookApp.iopub_data_rate_limit`.\n",
      "\n",
      "Current values:\n",
      "NotebookApp.iopub_data_rate_limit=1000000.0 (bytes/sec)\n",
      "NotebookApp.rate_limit_window=3.0 (secs)\n",
      "\n"
     ]
    }
   ],
   "source": [
    "# capture the whole page code:\n",
    "print(driver.page_source)"
   ]
  },
  {
   "cell_type": "code",
   "execution_count": 7,
   "metadata": {},
   "outputs": [],
   "source": [
    "# perform click operation on any button:\n",
    "driver.find_element_by_xpath(\"//*[@id='icon']\").click()"
   ]
  },
  {
   "cell_type": "code",
   "execution_count": 8,
   "metadata": {},
   "outputs": [],
   "source": [
    "# wait for a second operation:\n",
    "time.sleep(5)"
   ]
  },
  {
   "cell_type": "code",
   "execution_count": 9,
   "metadata": {},
   "outputs": [],
   "source": [
    "# close the opened url :\n",
    "\"\"\"\n",
    "close() command only close the opened url page it does not close the sub page or secondary page which opened \n",
    "after the the click operation . For clossing all the opened window use quit() command.\n",
    "\"\"\"\n",
    "#driver.close()\n",
    "driver.quit()"
   ]
  },
  {
   "cell_type": "markdown",
   "metadata": {},
   "source": [
    "# Navigation Command : "
   ]
  },
  {
   "cell_type": "code",
   "execution_count": 11,
   "metadata": {},
   "outputs": [
    {
     "name": "stdout",
     "output_type": "stream",
     "text": [
      "First page title :  Cheap Flights, Airline Tickets & Airfares - Find Deals on Flights at in.Cheapflights.com\n",
      "Second page title :  Medium – Get smarter about what matters to you.\n",
      "Old page title opened first :  Cheap Flights, Airline Tickets & Airfares - Find Deals on Flights at in.Cheapflights.com\n",
      "New page title which opened after the first page :  Medium – Get smarter about what matters to you.\n"
     ]
    }
   ],
   "source": [
    "#creating a webdriver object :\n",
    "driver = webdriver.Chrome(executable_path=\"/home/kanik/PycharmProjects/Selenium_tutorials/drivers/chromedriver\")\n",
    "\n",
    "\n",
    "# open first url :\n",
    "driver.get(\"https://www.in.cheapflights.com/horizon/sem/flights/general?lang=en&skipapp=true&gclid=Cj0KCQjw0rr4BRCtARIsAB0_48MUhZDDUmwhL9wiIM_HMA_-GFWGmO-BmfUlLGYDrSDr7v7gc2tesDcaApppEALw_wcB\")\n",
    "print('First page title : ',driver.title)\n",
    "time.sleep(5)\n",
    "\n",
    "\n",
    "# open second url :\n",
    "driver.get(\"https://medium.com/\")\n",
    "print(\"Second page title : \", driver.title)\n",
    "time.sleep(5)\n",
    "\n",
    "\n",
    "# Navigation commands :\n",
    "# command to go back on old page\n",
    "driver.back()\n",
    "print(\"Old page title opened first : \", driver.title)\n",
    "time.sleep(5)\n",
    "\n",
    "\n",
    "# command to go medium page:\n",
    "driver.forward()\n",
    "print(\"New page title which opened after the first page : \", driver.title)\n",
    "time.sleep(5)\n",
    "\n",
    "\n",
    "# quit all the window:\n",
    "driver.quit()"
   ]
  },
  {
   "cell_type": "markdown",
   "metadata": {},
   "source": [
    "# Conditional commands :\n",
    "1. is_displayed\n",
    "2. is_enabled\n",
    "3. is_selected"
   ]
  },
  {
   "cell_type": "code",
   "execution_count": 13,
   "metadata": {},
   "outputs": [
    {
     "name": "stdout",
     "output_type": "stream",
     "text": [
      "True\n",
      "True\n"
     ]
    }
   ],
   "source": [
    "#creating a webdriver object :\n",
    "driver = webdriver.Chrome(executable_path=\"/home/kanik/PycharmProjects/Selenium_tutorials/drivers/chromedriver\")\n",
    "\n",
    "\n",
    "driver.get(\"https://www.facebook.com/\")\n",
    "\n",
    "\n",
    "'''\n",
    "is_displayed method is a boolean type method it means it return True and False. Answer is 'True' when the name variable \n",
    "is displayed on the opened page. otherwise return 'False'. Same with the is_enabled method .\n",
    "'''\n",
    "# Check for first name\n",
    "f_name = driver.find_element_by_name(\"firstname\")\n",
    "print(f_name.is_displayed())\n",
    "print(f_name.is_enabled())\n",
    "\n"
   ]
  },
  {
   "cell_type": "code",
   "execution_count": 14,
   "metadata": {},
   "outputs": [
    {
     "ename": "NoSuchElementException",
     "evalue": "Message: no such element: Unable to locate element: {\"method\":\"css selector\",\"selector\":\"[name=\"middlename\"]\"}\n  (Session info: chrome=83.0.4103.116)\n",
     "output_type": "error",
     "traceback": [
      "\u001b[0;31m---------------------------------------------------------------------------\u001b[0m",
      "\u001b[0;31mNoSuchElementException\u001b[0m                    Traceback (most recent call last)",
      "\u001b[0;32m<ipython-input-14-3fa5fb6bffc6>\u001b[0m in \u001b[0;36m<module>\u001b[0;34m\u001b[0m\n\u001b[1;32m      1\u001b[0m \u001b[0;31m# check for middle name\u001b[0m\u001b[0;34m\u001b[0m\u001b[0;34m\u001b[0m\u001b[0;34m\u001b[0m\u001b[0m\n\u001b[0;32m----> 2\u001b[0;31m \u001b[0mm_name\u001b[0m \u001b[0;34m=\u001b[0m \u001b[0mdriver\u001b[0m\u001b[0;34m.\u001b[0m\u001b[0mfind_element_by_name\u001b[0m\u001b[0;34m(\u001b[0m\u001b[0;34m\"middlename\"\u001b[0m\u001b[0;34m)\u001b[0m\u001b[0;34m\u001b[0m\u001b[0;34m\u001b[0m\u001b[0m\n\u001b[0m\u001b[1;32m      3\u001b[0m \u001b[0;32mif\u001b[0m \u001b[0mm_name\u001b[0m\u001b[0;34m.\u001b[0m\u001b[0mis_displayed\u001b[0m\u001b[0;34m(\u001b[0m\u001b[0;34m)\u001b[0m \u001b[0;32mand\u001b[0m \u001b[0mm_name\u001b[0m\u001b[0;34m.\u001b[0m\u001b[0mis_enabled\u001b[0m\u001b[0;34m(\u001b[0m\u001b[0;34m)\u001b[0m\u001b[0;34m:\u001b[0m\u001b[0;34m\u001b[0m\u001b[0;34m\u001b[0m\u001b[0m\n\u001b[1;32m      4\u001b[0m     \u001b[0mprint\u001b[0m\u001b[0;34m(\u001b[0m\u001b[0;34m\"True\"\u001b[0m\u001b[0;34m)\u001b[0m\u001b[0;34m\u001b[0m\u001b[0;34m\u001b[0m\u001b[0m\n\u001b[1;32m      5\u001b[0m \u001b[0;32melse\u001b[0m\u001b[0;34m:\u001b[0m\u001b[0;34m\u001b[0m\u001b[0;34m\u001b[0m\u001b[0m\n",
      "\u001b[0;32m~/anaconda3/lib/python3.7/site-packages/selenium/webdriver/remote/webdriver.py\u001b[0m in \u001b[0;36mfind_element_by_name\u001b[0;34m(self, name)\u001b[0m\n\u001b[1;32m    494\u001b[0m             \u001b[0melement\u001b[0m \u001b[0;34m=\u001b[0m \u001b[0mdriver\u001b[0m\u001b[0;34m.\u001b[0m\u001b[0mfind_element_by_name\u001b[0m\u001b[0;34m(\u001b[0m\u001b[0;34m'foo'\u001b[0m\u001b[0;34m)\u001b[0m\u001b[0;34m\u001b[0m\u001b[0;34m\u001b[0m\u001b[0m\n\u001b[1;32m    495\u001b[0m         \"\"\"\n\u001b[0;32m--> 496\u001b[0;31m         \u001b[0;32mreturn\u001b[0m \u001b[0mself\u001b[0m\u001b[0;34m.\u001b[0m\u001b[0mfind_element\u001b[0m\u001b[0;34m(\u001b[0m\u001b[0mby\u001b[0m\u001b[0;34m=\u001b[0m\u001b[0mBy\u001b[0m\u001b[0;34m.\u001b[0m\u001b[0mNAME\u001b[0m\u001b[0;34m,\u001b[0m \u001b[0mvalue\u001b[0m\u001b[0;34m=\u001b[0m\u001b[0mname\u001b[0m\u001b[0;34m)\u001b[0m\u001b[0;34m\u001b[0m\u001b[0;34m\u001b[0m\u001b[0m\n\u001b[0m\u001b[1;32m    497\u001b[0m \u001b[0;34m\u001b[0m\u001b[0m\n\u001b[1;32m    498\u001b[0m     \u001b[0;32mdef\u001b[0m \u001b[0mfind_elements_by_name\u001b[0m\u001b[0;34m(\u001b[0m\u001b[0mself\u001b[0m\u001b[0;34m,\u001b[0m \u001b[0mname\u001b[0m\u001b[0;34m)\u001b[0m\u001b[0;34m:\u001b[0m\u001b[0;34m\u001b[0m\u001b[0;34m\u001b[0m\u001b[0m\n",
      "\u001b[0;32m~/anaconda3/lib/python3.7/site-packages/selenium/webdriver/remote/webdriver.py\u001b[0m in \u001b[0;36mfind_element\u001b[0;34m(self, by, value)\u001b[0m\n\u001b[1;32m    976\u001b[0m         return self.execute(Command.FIND_ELEMENT, {\n\u001b[1;32m    977\u001b[0m             \u001b[0;34m'using'\u001b[0m\u001b[0;34m:\u001b[0m \u001b[0mby\u001b[0m\u001b[0;34m,\u001b[0m\u001b[0;34m\u001b[0m\u001b[0;34m\u001b[0m\u001b[0m\n\u001b[0;32m--> 978\u001b[0;31m             'value': value})['value']\n\u001b[0m\u001b[1;32m    979\u001b[0m \u001b[0;34m\u001b[0m\u001b[0m\n\u001b[1;32m    980\u001b[0m     \u001b[0;32mdef\u001b[0m \u001b[0mfind_elements\u001b[0m\u001b[0;34m(\u001b[0m\u001b[0mself\u001b[0m\u001b[0;34m,\u001b[0m \u001b[0mby\u001b[0m\u001b[0;34m=\u001b[0m\u001b[0mBy\u001b[0m\u001b[0;34m.\u001b[0m\u001b[0mID\u001b[0m\u001b[0;34m,\u001b[0m \u001b[0mvalue\u001b[0m\u001b[0;34m=\u001b[0m\u001b[0;32mNone\u001b[0m\u001b[0;34m)\u001b[0m\u001b[0;34m:\u001b[0m\u001b[0;34m\u001b[0m\u001b[0;34m\u001b[0m\u001b[0m\n",
      "\u001b[0;32m~/anaconda3/lib/python3.7/site-packages/selenium/webdriver/remote/webdriver.py\u001b[0m in \u001b[0;36mexecute\u001b[0;34m(self, driver_command, params)\u001b[0m\n\u001b[1;32m    319\u001b[0m         \u001b[0mresponse\u001b[0m \u001b[0;34m=\u001b[0m \u001b[0mself\u001b[0m\u001b[0;34m.\u001b[0m\u001b[0mcommand_executor\u001b[0m\u001b[0;34m.\u001b[0m\u001b[0mexecute\u001b[0m\u001b[0;34m(\u001b[0m\u001b[0mdriver_command\u001b[0m\u001b[0;34m,\u001b[0m \u001b[0mparams\u001b[0m\u001b[0;34m)\u001b[0m\u001b[0;34m\u001b[0m\u001b[0;34m\u001b[0m\u001b[0m\n\u001b[1;32m    320\u001b[0m         \u001b[0;32mif\u001b[0m \u001b[0mresponse\u001b[0m\u001b[0;34m:\u001b[0m\u001b[0;34m\u001b[0m\u001b[0;34m\u001b[0m\u001b[0m\n\u001b[0;32m--> 321\u001b[0;31m             \u001b[0mself\u001b[0m\u001b[0;34m.\u001b[0m\u001b[0merror_handler\u001b[0m\u001b[0;34m.\u001b[0m\u001b[0mcheck_response\u001b[0m\u001b[0;34m(\u001b[0m\u001b[0mresponse\u001b[0m\u001b[0;34m)\u001b[0m\u001b[0;34m\u001b[0m\u001b[0;34m\u001b[0m\u001b[0m\n\u001b[0m\u001b[1;32m    322\u001b[0m             response['value'] = self._unwrap_value(\n\u001b[1;32m    323\u001b[0m                 response.get('value', None))\n",
      "\u001b[0;32m~/anaconda3/lib/python3.7/site-packages/selenium/webdriver/remote/errorhandler.py\u001b[0m in \u001b[0;36mcheck_response\u001b[0;34m(self, response)\u001b[0m\n\u001b[1;32m    240\u001b[0m                 \u001b[0malert_text\u001b[0m \u001b[0;34m=\u001b[0m \u001b[0mvalue\u001b[0m\u001b[0;34m[\u001b[0m\u001b[0;34m'alert'\u001b[0m\u001b[0;34m]\u001b[0m\u001b[0;34m.\u001b[0m\u001b[0mget\u001b[0m\u001b[0;34m(\u001b[0m\u001b[0;34m'text'\u001b[0m\u001b[0;34m)\u001b[0m\u001b[0;34m\u001b[0m\u001b[0;34m\u001b[0m\u001b[0m\n\u001b[1;32m    241\u001b[0m             \u001b[0;32mraise\u001b[0m \u001b[0mexception_class\u001b[0m\u001b[0;34m(\u001b[0m\u001b[0mmessage\u001b[0m\u001b[0;34m,\u001b[0m \u001b[0mscreen\u001b[0m\u001b[0;34m,\u001b[0m \u001b[0mstacktrace\u001b[0m\u001b[0;34m,\u001b[0m \u001b[0malert_text\u001b[0m\u001b[0;34m)\u001b[0m\u001b[0;34m\u001b[0m\u001b[0;34m\u001b[0m\u001b[0m\n\u001b[0;32m--> 242\u001b[0;31m         \u001b[0;32mraise\u001b[0m \u001b[0mexception_class\u001b[0m\u001b[0;34m(\u001b[0m\u001b[0mmessage\u001b[0m\u001b[0;34m,\u001b[0m \u001b[0mscreen\u001b[0m\u001b[0;34m,\u001b[0m \u001b[0mstacktrace\u001b[0m\u001b[0;34m)\u001b[0m\u001b[0;34m\u001b[0m\u001b[0;34m\u001b[0m\u001b[0m\n\u001b[0m\u001b[1;32m    243\u001b[0m \u001b[0;34m\u001b[0m\u001b[0m\n\u001b[1;32m    244\u001b[0m     \u001b[0;32mdef\u001b[0m \u001b[0m_value_or_default\u001b[0m\u001b[0;34m(\u001b[0m\u001b[0mself\u001b[0m\u001b[0;34m,\u001b[0m \u001b[0mobj\u001b[0m\u001b[0;34m,\u001b[0m \u001b[0mkey\u001b[0m\u001b[0;34m,\u001b[0m \u001b[0mdefault\u001b[0m\u001b[0;34m)\u001b[0m\u001b[0;34m:\u001b[0m\u001b[0;34m\u001b[0m\u001b[0;34m\u001b[0m\u001b[0m\n",
      "\u001b[0;31mNoSuchElementException\u001b[0m: Message: no such element: Unable to locate element: {\"method\":\"css selector\",\"selector\":\"[name=\"middlename\"]\"}\n  (Session info: chrome=83.0.4103.116)\n"
     ]
    }
   ],
   "source": [
    "# check for middle name\n",
    "m_name = driver.find_element_by_name(\"middlename\")\n",
    "if m_name.is_displayed() and m_name.is_enabled():\n",
    "    print(\"True\")\n",
    "else:\n",
    "    print(\"False\")"
   ]
  },
  {
   "cell_type": "code",
   "execution_count": 15,
   "metadata": {},
   "outputs": [
    {
     "name": "stdout",
     "output_type": "stream",
     "text": [
      "True\n",
      "True\n"
     ]
    }
   ],
   "source": [
    "# Check for last name    \n",
    "l_name = driver.find_element_by_name(\"lastname\")\n",
    "print(l_name.is_displayed())\n",
    "print(l_name.is_enabled())"
   ]
  },
  {
   "cell_type": "code",
   "execution_count": null,
   "metadata": {},
   "outputs": [],
   "source": [
    "# this code help you to login on facebook without open facebook\n",
    "email = driver.find_element_by_name(\"email\")\n",
    "password = driver.find_element_by_name(\"pass\")\n",
    "button = driver.find_element_by_xpath(\"/html/body/div[1]/div[2]/div/div/div/div/div[2]/form/table/tbody/tr[2]/td[3]/label/input\")\n",
    "\n",
    "email.send_keys(\"********@gmail.com\")\n",
    "password.send_keys(\"*******\")\n",
    "button.click()"
   ]
  },
  {
   "cell_type": "markdown",
   "metadata": {},
   "source": [
    "# Waits Command :\n",
    "\n",
    "1. Implicit wait\n",
    "2. Explicit wait"
   ]
  },
  {
   "cell_type": "code",
   "execution_count": null,
   "metadata": {},
   "outputs": [],
   "source": [
    "# Implicit wait : \n",
    "\n",
    "\n",
    "driver.get(\"https://www.facebook.com/\")\n",
    "\n",
    "#aplly wait :\n",
    "driver.implicitly_wait(10)   # time in seconds\n",
    "\n",
    "\n",
    "\"\"\"\n",
    "Implicit wait is applicable to whole page not only a single opening the url \n",
    "\"\"\"\n",
    "\n",
    "\n",
    "assert \"Facebook – log in or sign up\" in driver.title\n",
    "\n",
    "email = driver.find_element_by_name(\"email\")\n",
    "password = driver.find_element_by_name(\"pass\")\n",
    "button = driver.find_element_by_xpath(\"/html/body/div[1]/div[2]/div/div/div/div/div[2]/form/table/tbody/tr[2]/td[3]/label/input\")\n",
    "\n",
    "email.send_keys(\"******@gmail.com\")\n",
    "password.send_keys(\"*******\")\n",
    "button.click()"
   ]
  },
  {
   "cell_type": "code",
   "execution_count": null,
   "metadata": {},
   "outputs": [],
   "source": [
    "# Explicit wait :\n"
   ]
  },
  {
   "cell_type": "code",
   "execution_count": 2,
   "metadata": {},
   "outputs": [],
   "source": [
    "from selenium.webdriver.common.by import By\n",
    "from selenium.webdriver.support.ui import WebDriverWait\n",
    "from selenium.webdriver.support import expected_conditions as EC"
   ]
  },
  {
   "cell_type": "code",
   "execution_count": 3,
   "metadata": {},
   "outputs": [],
   "source": [
    "#creating a webdriver object :\n",
    "driver = webdriver.Chrome(executable_path=\"/home/kanik/PycharmProjects/Selenium_tutorials/drivers/chromedriver\")\n",
    "\n",
    "driver.implicitly_wait(5)# from driver\n",
    "\n",
    "\n",
    "# to maximize the window size use maximize_window() method .\n",
    "driver.maximize_window()\n",
    "driver.get(\"https://www.expedia.com/\")\n",
    "\n",
    "\n",
    "#driver.find_element_by_id(\"tab-flight-tab-hp\").click()\n",
    "# both are same but different methods\n",
    "driver.find_element(By.ID, \"tab-flight-tab-hp\").click()\n",
    "time.sleep(2)  # from python\n",
    "\n",
    "driver.find_element(By.ID, \"flight-origin-hp-flight\").send_keys(\"SFO\")  #origen\n",
    "\n",
    "time.sleep(2)\n",
    "\n",
    "driver.find_element(By.ID, \"flight-destination-hp-flight\").send_keys(\"NYC\")  # destination\n",
    "\n",
    "driver.find_element(By.ID, 'flight-departing-hp-flight').clear()\n",
    "driver.find_element(By.ID, 'flight-departing-hp-flight').send_keys(\"07/23/2020\")\n",
    "\n",
    "\n",
    "driver.find_element(By.ID, \"flight-returning-hp-flight\").clear()\n",
    "driver.find_element(By.ID, \"flight-returning-hp-flight\").send_keys(\"08/04/2020\")\n",
    "\n",
    "driver.find_element(By.XPATH, \"/html/body/meso-native-marquee/section/div/div/div[1]/section/div/div[2]/div[2]/section[1]/form/div[8]/label/button\").click()\n",
    "\n",
    "\"\"\"\n",
    "Explicit wait is work on the condition not on time as the implicit wait work's . Condition only wait for 10 second  to check the\n",
    "conditional element is completed or not ,if the conditional element is not present for comdition then in that case next command \n",
    "will executed by WebDriverWait commanad .\n",
    "\"\"\"\n",
    "# apply explicit wait :\n",
    "\n",
    "wait = WebDriverWait(driver, 10)\n",
    "\n",
    "element = wait.until(EC.element_to_be_clickable((By.XPATH, '/html/body/div[2]/div[11]/aside/div[2]/div[2]/div[3]/div/fieldset[2]/div/div[3]/div/label')))\n",
    "\n",
    "element.click()\n",
    "time .sleep(3)\n",
    "\n",
    "driver.quit()\n",
    "\n"
   ]
  },
  {
   "cell_type": "markdown",
   "metadata": {},
   "source": [
    "# Input box or text box : "
   ]
  },
  {
   "cell_type": "code",
   "execution_count": 5,
   "metadata": {},
   "outputs": [
    {
     "name": "stdout",
     "output_type": "stream",
     "text": [
      "Total number of input/text box are present on that page 6\n",
      "The first name field is present/displayed or not(True/False) : True\n",
      "The first name field is enabled or not(True/False) : True\n",
      "The last name field is present/displayed or not(True/False) : True\n",
      "The last name field is enabled or not(True/False) : True\n",
      "The Phone number field is present/displayed or not(True/False) : True\n",
      "The Phone number field is enabled or not(True/False) : True\n",
      "The Country field is present/displayed or not(True/False) : True\n",
      "The Country field is enabled or not(True/False) : True\n",
      "The City field is present/displayed or not(True/False) : True\n",
      "The City field is enabled or not(True/False) : True\n",
      "The Email field is present/displayed or not(True/False) : True\n",
      "The Email field is enabled or not(True/False) : True\n"
     ]
    }
   ],
   "source": [
    "#creating a webdriver object :\n",
    "driver = webdriver.Chrome(executable_path=\"/home/kanik/PycharmProjects/Selenium_tutorials/drivers/chromedriver\")\n",
    "driver.maximize_window()\n",
    "driver.get(\"https://fs2.formsite.com/meherpavan/form2/index.html?1537702596407\")\n",
    "\n",
    "\n",
    "# Operations :\n",
    "\n",
    "# 1. How to find how many input boxes present on page\n",
    "input_boxes = driver.find_elements(By.CLASS_NAME, \"text_field\")\n",
    "print(\"Total number of input/text box are present on that page : \", len(input_boxes))\n",
    "\n",
    "\n",
    "# 2. How many ways to provide values into text box\n",
    "# first method :\n",
    "driver.find_element(By.ID, \"RESULT_TextField-1\").send_keys(\"Kanik\")\n",
    "driver.find_element(By.ID, \"RESULT_TextField-2\").send_keys(\"Vijay\")\n",
    "driver.find_element(By.ID, \"RESULT_TextField-3\").send_keys(\"7611879062\")\n",
    "driver.find_element(By.ID, \"RESULT_TextField-4\").send_keys(\"India\")\n",
    "driver.find_element(By.ID, \"RESULT_TextField-5\").send_keys(\"Ajmer\")\n",
    "driver.find_element(By.ID, \"RESULT_TextField-6\").send_keys(\"a@gmail.com\")\n",
    "\n",
    "# second method :\n",
    "\"\"\"\n",
    "driver.find_element_by_id(\"RESULT_TextField-1\").send_keys(\"Kanik\")\n",
    "driver.find_element_by_id(\"RESULT_TextField-2\").send_keys(\"Vijay\")\n",
    "driver.find_element_by_id(\"RESULT_TextField-3\").send_keys(\"7611879062\")\n",
    "driver.find_element_by_id(\"RESULT_TextField-4\").send_keys(\"India\")\n",
    "driver.find_element_by_id(\"RESULT_TextField-5\").send_keys(\"Ajmer\")\n",
    "driver.find_element_by_id(\"RESULT_TextField-6\").send_keys(\"a@gmail.com\")\n",
    "\"\"\"\n",
    "\n",
    "# 3. How to get the status of text box\n",
    "\n",
    "status_1 = driver.find_element(By.ID, \"RESULT_TextField-1\").is_displayed()\n",
    "status_1_1 = driver.find_element(By.ID, \"RESULT_TextField-1\").is_enabled()\n",
    "print(\"The first name field is present/displayed or not(True/False) :\", status_1)\n",
    "print(\"The first name field is enabled or not(True/False) :\", status_1_1)\n",
    "\n",
    "\n",
    "status_2 = driver.find_element(By.ID, \"RESULT_TextField-2\").is_displayed()\n",
    "status_2_2 = driver.find_element(By.ID, \"RESULT_TextField-2\").is_enabled()\n",
    "print(\"The last name field is present/displayed or not(True/False) :\", status_2)\n",
    "print(\"The last name field is enabled or not(True/False) :\", status_2_2)\n",
    "\n",
    "\n",
    "status_3 = driver.find_element(By.ID, \"RESULT_TextField-3\").is_displayed()\n",
    "status_3_3 = driver.find_element(By.ID, \"RESULT_TextField-3\").is_enabled()\n",
    "print(\"The Phone number field is present/displayed or not(True/False) :\", status_3)\n",
    "print(\"The Phone number field is enabled or not(True/False) :\", status_3_3)\n",
    "\n",
    "\n",
    "status_4 = driver.find_element(By.ID, \"RESULT_TextField-4\").is_displayed()\n",
    "status_4_4 = driver.find_element(By.ID, \"RESULT_TextField-4\").is_enabled()\n",
    "print(\"The Country field is present/displayed or not(True/False) :\", status_4)\n",
    "print(\"The Country field is enabled or not(True/False) :\", status_4_4)\n",
    "\n",
    "\n",
    "status_5 = driver.find_element(By.ID, \"RESULT_TextField-5\").is_displayed()\n",
    "status_5_5 = driver.find_element(By.ID, \"RESULT_TextField-5\").is_enabled()\n",
    "print(\"The City field is present/displayed or not(True/False) :\", status_5)\n",
    "print(\"The City field is enabled or not(True/False) :\", status_5_5)\n",
    "\n",
    "\n",
    "status_6 = driver.find_element(By.ID, \"RESULT_TextField-6\").is_displayed()\n",
    "status_6_6 = driver.find_element(By.ID, \"RESULT_TextField-6\").is_enabled()\n",
    "print(\"The Email field is present/displayed or not(True/False) :\", status_6)\n",
    "print(\"The Email field is enabled or not(True/False) :\", status_6_6)\n",
    "\n",
    "\n",
    "driver.quit()"
   ]
  },
  {
   "cell_type": "markdown",
   "metadata": {},
   "source": [
    "# Radio button and check box "
   ]
  },
  {
   "cell_type": "code",
   "execution_count": 6,
   "metadata": {},
   "outputs": [
    {
     "name": "stdout",
     "output_type": "stream",
     "text": [
      "If the male radio button is selected or not(True/false) :  False\n",
      "If the female radio button is selected or not(True/false) :  False\n",
      "If the male radio button is selected or not(True/false) :  True\n"
     ]
    }
   ],
   "source": [
    "# Radio button :\n",
    "#creating a webdriver object :\n",
    "driver = webdriver.Chrome(executable_path=\"/home/kanik/PycharmProjects/Selenium_tutorials/drivers/chromedriver\")\n",
    "driver.maximize_window()\n",
    "driver.get(\"https://fs2.formsite.com/meherpavan/form2/index.html?1537702596407\")\n",
    "\n",
    "\n",
    "# operations :\n",
    "# 1. Check the radio and checkbox are selected or not by using is_selected() method\n",
    "status_male = driver.find_element_by_id(\"RESULT_RadioButton-7_0\").is_selected()\n",
    "print(\"If the male radio button is selected or not(True/false) : \", status_male)\n",
    "\n",
    "status_female = driver.find_element_by_id(\"RESULT_RadioButton-7_1\").is_selected()\n",
    "print(\"If the female radio button is selected or not(True/false) : \", status_female)\n",
    "\n",
    "\n",
    "# 2. Perform click operations\n",
    "driver.find_element_by_xpath(\"/html/body/form/div[2]/div[15]/table/tbody/tr[1]/td/label\").click()\n",
    "status_male_after_click = driver.find_element_by_id(\"RESULT_RadioButton-7_0\").is_selected()\n",
    "print(\"If the male radio button is selected or not(True/false) : \", status_male_after_click)\n"
   ]
  },
  {
   "cell_type": "code",
   "execution_count": null,
   "metadata": {},
   "outputs": [],
   "source": [
    "# Checkbox :\n",
    "\n",
    "driver = webdriver.Chrome(executable_path=\"/home/kanik/PycharmProjects/Selenium_tutorials/drivers/chromedriver\")\n",
    "#driver.maximize_window()\n",
    "driver.get(\"https://fs2.formsite.com/meherpavan/form2/index.html?1537702596407\")\n",
    "\n",
    "\n",
    "# operations :\n",
    "driver.find_element_by_xpath(\"/html/body/form/div[2]/div[17]/table/tbody/tr[1]/td/label\").click()\n",
    "status_sunday = driver.find_element_by_xpath(\"/html/body/form/div[2]/div[17]/table/tbody/tr[1]/td/label\").is_selected()\n",
    "print(status_sunday)\n",
    "\n",
    "driver.find_element_by_xpath(\"/html/body/form/div[2]/div[17]/table/tbody/tr[2]/td/label\").click()\n",
    "status_monday = driver.find_element_by_xpath(\"/html/body/form/div[2]/div[17]/table/tbody/tr[2]/td/label\").is_selected()\n",
    "print(status_monday)\n",
    "\n",
    "\n",
    "driver.find_element_by_xpath(\"/html/body/form/div[2]/div[17]/table/tbody/tr[3]/td/label\").click()\n",
    "\n",
    "status_tuesday = driver.find_element_by_xpath(\"/html/body/form/div[2]/div[17]/table/tbody/tr[3]/td/label\").click()\n",
    "print(status_tuesday)"
   ]
  },
  {
   "cell_type": "markdown",
   "metadata": {},
   "source": [
    "# Dopdown menu : "
   ]
  },
  {
   "cell_type": "code",
   "execution_count": null,
   "metadata": {},
   "outputs": [],
   "source": [
    "from selenium.webdriver.support.ui import Select"
   ]
  },
  {
   "cell_type": "code",
   "execution_count": null,
   "metadata": {},
   "outputs": [],
   "source": [
    "driver = webdriver.Chrome(executable_path=\"/home/kanik/PycharmProjects/Selenium_tutorials/drivers/chromedriver\")\n",
    "#driver.maximize_window()\n",
    "driver.get(\"https://fs2.formsite.com/meherpavan/form2/index.html?1537702596407\")\n",
    "element = driver.find_element_by_id(\"RESULT_RadioButton-9\")\n",
    "drp = Select(element)\n",
    "\n",
    "\n",
    "\n",
    "# 1. Select one option\n",
    "# Method one \"select by visible text\":\n",
    "drp.select_by_visible_text(\"Morning\")\n",
    "\n",
    "# Method second \" select by value \" :\n",
    "#drp.select_by_value(\"Radio-2\")\n",
    "\n",
    "# Methos 3rd \"select by index\" :\n",
    "#drp.deselect_by_index(2)\n",
    "\n",
    "\n",
    "# 2. find out how many options exist in drop down\n",
    "print(\"Totla number of options are available in dropdowm list : \", len(drp.options))\n",
    "\n",
    "\n",
    "# how to capture all the options and print :\n",
    "all_options = drp.options\n",
    "for i in all_options:\n",
    "    print(i.text)\n",
    "\n",
    "driver.quit()"
   ]
  },
  {
   "cell_type": "code",
   "execution_count": null,
   "metadata": {},
   "outputs": [],
   "source": [
    "# Links : "
   ]
  },
  {
   "cell_type": "code",
   "execution_count": 7,
   "metadata": {},
   "outputs": [
    {
     "name": "stdout",
     "output_type": "stream",
     "text": [
      "Total number of links on this page :  53\n",
      "\n",
      "Demo Site\n",
      "Selenium\n",
      "\n",
      "\n",
      "\n",
      "\n",
      "\n",
      "\n",
      "\n",
      "\n",
      "\n",
      "\n",
      "\n",
      "\n",
      "\n",
      "\n",
      "\n",
      "\n",
      "\n",
      "\n",
      "\n",
      "\n",
      "Insurance Project\n",
      "Agile Project\n",
      "Bank Project\n",
      "Security Project\n",
      "Telecom Project\n",
      "Payment Gateway Project\n",
      "New Tours\n",
      "SEO\n",
      "\n",
      "\n",
      "\n",
      "\n",
      "\n",
      "\n",
      "Home\n",
      "Flights\n",
      "Hotels\n",
      "Car Rentals\n",
      "Cruises\n",
      "Destinations\n",
      "Vacations\n",
      "SIGN-ON\n",
      "REGISTER\n",
      "SUPPORT\n",
      "CONTACT\n",
      "your destination\n",
      "featured vacation destinations\n",
      "Register here\n",
      "Business Travel @ About.com\n",
      "Salon Travel\n"
     ]
    }
   ],
   "source": [
    "#creating a webdriver object :\n",
    "\n",
    "driver = webdriver.Chrome(executable_path=\"/home/kanik/PycharmProjects/Selenium_tutorials/drivers/chromedriver\")\n",
    "driver.get(\"http://demo.guru99.com/test/newtours/\")\n",
    "\n",
    "\n",
    "# Operations :\n",
    "\n",
    "# 1. How many links present on page\n",
    "links = driver.find_elements(By.TAG_NAME, \"a\")\n",
    "print(\"Total number of links on this page : \", len(links))\n",
    "\n",
    "# 2. Capture all links\n",
    "for i in links :\n",
    "    print(i.text)\n",
    "\n",
    "# 3. click on links\n",
    "# Method 1  :\n",
    "\"\"\"\n",
    "driver.find_element(By.LINK_TEXT, 'REGISTER').click()\n",
    "\"\"\"\n",
    "\n",
    "# Method 2\n",
    "driver.find_element(By.PARTIAL_LINK_TEXT, 'REG').click()\n",
    "\n"
   ]
  },
  {
   "cell_type": "markdown",
   "metadata": {},
   "source": [
    "# Alert command"
   ]
  },
  {
   "cell_type": "code",
   "execution_count": 9,
   "metadata": {},
   "outputs": [
    {
     "name": "stderr",
     "output_type": "stream",
     "text": [
      "/home/kanik/anaconda3/lib/python3.7/site-packages/ipykernel_launcher.py:9: DeprecationWarning: use driver.switch_to.alert instead\n",
      "  if __name__ == '__main__':\n"
     ]
    }
   ],
   "source": [
    "#creating a webdriver object :\n",
    "\n",
    "driver = webdriver.Chrome(executable_path=\"/home/kanik/PycharmProjects/Selenium_tutorials/drivers/chromedriver\")\n",
    "driver.get(\"http://testautomationpractice.blogspot.com/\")\n",
    "\n",
    "driver.find_element_by_xpath(\"/html/body/div[4]/div[2]/div[2]/div[2]/div[2]/div[2]/div[2]/div/div[4]/div[2]/div/aside/div/div[2]/div[1]/button\").click()\n",
    "time.sleep(5)\n",
    "\n",
    "driver.switch_to_alert().accept()  # it close the alret window by click on ok button"
   ]
  },
  {
   "cell_type": "code",
   "execution_count": 10,
   "metadata": {},
   "outputs": [
    {
     "name": "stderr",
     "output_type": "stream",
     "text": [
      "/home/kanik/anaconda3/lib/python3.7/site-packages/ipykernel_launcher.py:1: DeprecationWarning: use driver.switch_to.alert instead\n",
      "  \"\"\"Entry point for launching an IPython kernel.\n"
     ]
    }
   ],
   "source": [
    "driver.switch_to_alert().dismiss()  # it close the alert window by close button"
   ]
  },
  {
   "cell_type": "markdown",
   "metadata": {},
   "source": [
    "# Frames : "
   ]
  },
  {
   "cell_type": "code",
   "execution_count": 13,
   "metadata": {},
   "outputs": [],
   "source": [
    "#creating a webdriver object :\n",
    "\n",
    "driver = webdriver.Chrome(executable_path=\"/home/kanik/PycharmProjects/Selenium_tutorials/drivers/chromedriver\")\n",
    "driver.get(\"https://seleniumhq.github.io/selenium/docs/api/java/index.html\")\n",
    "\n",
    "\n",
    "\"\"\"\n",
    "method driver.switch_to.frame() method is use to switch on a frame and after this operations related to that frame\n",
    "will perform otherwise not perform.\n",
    "\"\"\"\n",
    "\n",
    "driver.switch_to.frame(\"packageListFrame\")\n",
    "driver.find_element_by_link_text(\"org.openqa.selenium\").click()\n",
    "time.sleep(3)\n",
    "\n",
    "\n",
    "\"\"\"\n",
    "another method is switch_to.default_content() is use to go back on main page of the website on which all the frames \n",
    "are present. After this the programmer again perform switch operation on another frame otherwise not.\n",
    "\"\"\"\n",
    "\n",
    "driver.switch_to.default_content()\n",
    "driver.switch_to.frame(\"packageFrame\")\n",
    "driver.find_element_by_link_text(\"WebDriver\").click()\n",
    "time.sleep(3)\n",
    "\n",
    "\n",
    "\n",
    "driver.switch_to.default_content()\n",
    "time.sleep(3)\n",
    "driver.switch_to.frame(\"classFrame\")\n",
    "driver.find_element_by_xpath(\"/html/body/div[1]/ul/li[5]\").click()\n",
    "\n"
   ]
  },
  {
   "cell_type": "markdown",
   "metadata": {},
   "source": [
    "# Browser Window :\n",
    "1. current_window_handle\n",
    "2. window_handle"
   ]
  },
  {
   "cell_type": "code",
   "execution_count": 15,
   "metadata": {},
   "outputs": [
    {
     "name": "stdout",
     "output_type": "stream",
     "text": [
      "CDwindow-C99DAC725B5F415323AADDD2239248C9\n",
      "Frames & windows\n",
      "sakinalium.in\n"
     ]
    }
   ],
   "source": [
    "driver = webdriver.Chrome(executable_path=\"/home/kanik/PycharmProjects/Selenium_tutorials/drivers/chromedriver\")\n",
    "driver.get(\"http://demo.automationtesting.in/Windows.html\")\n",
    "\n",
    "\n",
    "driver.find_element_by_xpath(\"/html/body/div[1]/div/div/div/div[2]/div[1]/a/button\").click()\n",
    "\n",
    "print(driver.current_window_handle)   # CDwindow-0F9BDE699C4A2F2EC90DD6A9206EC5F8\n",
    "handle_values = driver.window_handles\n",
    "for i in handle_values:\n",
    "    driver.switch_to.window(i)\n",
    "    print(driver.title)\n",
    "    if driver.title == \"Frames & windows\":\n",
    "        driver.close()"
   ]
  },
  {
   "cell_type": "markdown",
   "metadata": {},
   "source": [
    "# Tables : "
   ]
  },
  {
   "cell_type": "markdown",
   "metadata": {},
   "source": [
    "# Scroll Operations : "
   ]
  },
  {
   "cell_type": "code",
   "execution_count": null,
   "metadata": {},
   "outputs": [],
   "source": [
    "#creating a webdriver object :\n",
    "\n",
    "driver = webdriver.Chrome(executable_path=\"/home/kanik/PycharmProjects/Selenium_tutorials/drivers/chromedriver\")\n",
    "driver.get(\"https://www.countries-ofthe-world.com/flags-of-the-world.html\")\n",
    "driver.maximize_window()\n",
    "\n",
    "\n",
    "# Operations :\n",
    "# 1. scroll down the page by pixel\n",
    "#driver.execute_script(\"window.scrollBy(0,1000)\", \"\")\n",
    "\n",
    "\n",
    "# 2. scroll down the page till element found\n",
    "#flag = driver.find_element_by_xpath(\"/html/body/div[1]/div[2]/div[2]/div[2]/div[2]/div[2]/table[1]/tbody/tr[86]/td[2]\")\n",
    "#driver.execute_script(\"arguments[0].scrollIntoView();\", flag)\n",
    "\n",
    "\n",
    "# 3. scroll down to end of the page\n",
    "driver.execute_script(\"window.scrollBy(0,document.body.scrollHeight)\")\n",
    "\n"
   ]
  },
  {
   "cell_type": "markdown",
   "metadata": {},
   "source": [
    "# Mouse Action : \n",
    "1. Mouse Hover\n",
    "2. Right Click\n",
    "3. Double click\n",
    "4. Drag and drop"
   ]
  },
  {
   "cell_type": "code",
   "execution_count": 17,
   "metadata": {},
   "outputs": [],
   "source": [
    "from selenium.webdriver import ActionChains"
   ]
  },
  {
   "cell_type": "code",
   "execution_count": 18,
   "metadata": {},
   "outputs": [],
   "source": [
    "# 1. Mouse Hover : \n",
    "#creating a webdriver object :\n",
    "\n",
    "driver = webdriver.Chrome(executable_path=\"/home/kanik/PycharmProjects/Selenium_tutorials/drivers/chromedriver\")\n",
    "driver.get(\"https://opensource-demo.orangehrmlive.com\")\n",
    "driver.maximize_window()\n",
    "\n",
    "driver.find_element_by_id(\"txtUsername\").send_keys(\"Admin\")\n",
    "driver.find_element_by_id(\"txtPassword\").send_keys(\"admin123\")\n",
    "driver.find_element_by_xpath(\"/html/body/div[1]/div/div[3]/div[2]/div[2]/form/div[5]/input\").click()\n",
    "\n",
    "\n",
    "# Operations :\n",
    "# 1. Mouse Hover :\n",
    "\n",
    "admin = driver.find_element_by_xpath(\"/html/body/div[1]/div[2]/ul/li[1]/a/b\")\n",
    "user_management = driver.find_element_by_xpath(\"/html/body/div[1]/div[2]/ul/li[1]/ul/li[1]/a\")\n",
    "user = driver.find_element_by_xpath(\"/html/body/div[1]/div[2]/ul/li[1]/ul/li[1]/ul/li/a\")\n",
    "\n",
    "\n",
    "action = ActionChains(driver)\n",
    "\n",
    "\n",
    "action.move_to_element(admin).move_to_element(user_management).move_to_element(user).click().perform()\n",
    "\n",
    "\n",
    "driver.quit()\n"
   ]
  },
  {
   "cell_type": "code",
   "execution_count": 20,
   "metadata": {},
   "outputs": [],
   "source": [
    "# 2. Double click :\n",
    "\n",
    "driver = webdriver.Chrome(executable_path=\"/home/kanik/PycharmProjects/Selenium_tutorials/drivers/chromedriver\")\n",
    "driver.get(\"http://testautomationpractice.blogspot.com/\")\n",
    "driver.maximize_window()\n",
    "\n",
    "button = driver.find_element_by_xpath(\"/html/body/div[4]/div[2]/div[2]/div[2]/div[2]/div[2]/div[2]/div/div[4]/div[3]/div/aside/div/div[1]/div[1]/button\")\n",
    "\n",
    "\n",
    "action = ActionChains(driver)\n",
    "action.double_click(button).perform()\n",
    "\n",
    "driver.quit()"
   ]
  },
  {
   "cell_type": "code",
   "execution_count": 21,
   "metadata": {},
   "outputs": [],
   "source": [
    "# 3. Right Click :\n",
    "\n",
    "driver = webdriver.Chrome(executable_path=\"/home/kanik/PycharmProjects/Selenium_tutorials/drivers/chromedriver\")\n",
    "driver.get(\"http://swisnl.github.io/jQuery-contextMenu/demo.html\")\n",
    "driver.maximize_window()\n",
    "button = driver.find_element_by_xpath(\"/html/body/div/section/div/div/div/p/span\")\n",
    "\n",
    "action = ActionChains(driver)\n",
    "action.context_click(button).perform()\n",
    "driver.quit()"
   ]
  },
  {
   "cell_type": "code",
   "execution_count": null,
   "metadata": {},
   "outputs": [],
   "source": [
    "# 4. Drag and Drop :\n",
    "\n",
    "driver = webdriver.Chrome(executable_path=\"/home/kanik/PycharmProjects/Selenium_tutorials/drivers/chromedriver\")\n",
    "driver.get(\"http://dhtmlgoodies.com/scripts/drag-drop-custom/demo-drag-drop-3.html\")\n",
    "driver.maximize_window()\n",
    "\n",
    "source_element = driver.find_element_by_id(\"DHTMLgoodies_dragableElement5\")\n",
    "target_element = driver.find_element_by_id(\"box106\")\n",
    "\n",
    "action = ActionChains(driver)\n",
    "\n",
    "action.drag_and_drop(source_element, target_element).perform()\n",
    "\n"
   ]
  },
  {
   "cell_type": "markdown",
   "metadata": {},
   "source": [
    "# Upload file : "
   ]
  },
  {
   "cell_type": "code",
   "execution_count": 24,
   "metadata": {},
   "outputs": [],
   "source": [
    "#creating a webdriver object :\n",
    "\n",
    "driver = webdriver.Chrome(executable_path=\"/home/kanik/PycharmProjects/Selenium_tutorials/drivers/chromedriver\")\n",
    "driver.maximize_window()\n",
    "driver.get(\"http://testautomationpractice.blogspot.com/\")\n",
    "\n",
    "driver.switch_to.frame(0)\n",
    "button = driver.find_element_by_id(\"RESULT_FileUpload-10\").send_keys(\"/home/kanik/Desktop/logo.png\")"
   ]
  },
  {
   "cell_type": "markdown",
   "metadata": {},
   "source": [
    "# Download file from chrome :"
   ]
  },
  {
   "cell_type": "code",
   "execution_count": null,
   "metadata": {},
   "outputs": [],
   "source": [
    "driver = webdriver.Chrome(executable_path=\"/home/kanik/PycharmProjects/Selenium_tutorials/drivers/chromedriver\")\n",
    "driver.maximize_window()\n",
    "driver.get(\"http://demo.automationtesting.in/FileDownload.html\")\n"
   ]
  },
  {
   "cell_type": "code",
   "execution_count": null,
   "metadata": {},
   "outputs": [],
   "source": [
    "# Download Text file :\n",
    "text_box = driver.find_element_by_id(\"textbox\").send_keys(\"Testing Download text file.\")\n",
    "button_to_generate_text_= driver.find_element_by_xpath(\"/html/body/section/div[1]/div/div/div[2]/div[2]/button\").click()\n",
    "download_file_link = driver.find_element_by_id(\"link-to-download\").click()\n"
   ]
  },
  {
   "cell_type": "code",
   "execution_count": null,
   "metadata": {},
   "outputs": [],
   "source": [
    "# 2. Download PDF File : \n",
    "text_box = driver.find_element_by_id(\"pdfbox\").send_keys(\"Testing Download text file.\")\n",
    "button_to_generate_pdf_file = driver.find_element_by_xpath(\"/html/body/section/div[1]/div/div/div[3]/div[2]/button\").click()\n",
    "download_file_link = driver.find_element_by_id(\"pdf-link-to-download\").click()\n"
   ]
  },
  {
   "cell_type": "code",
   "execution_count": null,
   "metadata": {},
   "outputs": [],
   "source": []
  },
  {
   "cell_type": "code",
   "execution_count": null,
   "metadata": {},
   "outputs": [],
   "source": []
  },
  {
   "cell_type": "code",
   "execution_count": null,
   "metadata": {},
   "outputs": [],
   "source": []
  },
  {
   "cell_type": "code",
   "execution_count": null,
   "metadata": {},
   "outputs": [],
   "source": []
  },
  {
   "cell_type": "code",
   "execution_count": null,
   "metadata": {},
   "outputs": [],
   "source": []
  },
  {
   "cell_type": "code",
   "execution_count": null,
   "metadata": {},
   "outputs": [],
   "source": []
  },
  {
   "cell_type": "code",
   "execution_count": null,
   "metadata": {},
   "outputs": [],
   "source": []
  },
  {
   "cell_type": "code",
   "execution_count": null,
   "metadata": {},
   "outputs": [],
   "source": []
  },
  {
   "cell_type": "code",
   "execution_count": null,
   "metadata": {},
   "outputs": [],
   "source": []
  },
  {
   "cell_type": "code",
   "execution_count": null,
   "metadata": {},
   "outputs": [],
   "source": []
  },
  {
   "cell_type": "code",
   "execution_count": null,
   "metadata": {},
   "outputs": [],
   "source": []
  },
  {
   "cell_type": "code",
   "execution_count": null,
   "metadata": {},
   "outputs": [],
   "source": []
  },
  {
   "cell_type": "code",
   "execution_count": null,
   "metadata": {},
   "outputs": [],
   "source": []
  },
  {
   "cell_type": "code",
   "execution_count": null,
   "metadata": {},
   "outputs": [],
   "source": []
  },
  {
   "cell_type": "code",
   "execution_count": null,
   "metadata": {},
   "outputs": [],
   "source": []
  },
  {
   "cell_type": "code",
   "execution_count": null,
   "metadata": {},
   "outputs": [],
   "source": []
  },
  {
   "cell_type": "code",
   "execution_count": null,
   "metadata": {},
   "outputs": [],
   "source": []
  },
  {
   "cell_type": "code",
   "execution_count": null,
   "metadata": {},
   "outputs": [],
   "source": []
  },
  {
   "cell_type": "code",
   "execution_count": null,
   "metadata": {},
   "outputs": [],
   "source": []
  },
  {
   "cell_type": "code",
   "execution_count": null,
   "metadata": {},
   "outputs": [],
   "source": []
  },
  {
   "cell_type": "code",
   "execution_count": null,
   "metadata": {},
   "outputs": [],
   "source": []
  },
  {
   "cell_type": "code",
   "execution_count": null,
   "metadata": {},
   "outputs": [],
   "source": []
  },
  {
   "cell_type": "code",
   "execution_count": null,
   "metadata": {},
   "outputs": [],
   "source": []
  },
  {
   "cell_type": "code",
   "execution_count": null,
   "metadata": {},
   "outputs": [],
   "source": []
  },
  {
   "cell_type": "code",
   "execution_count": null,
   "metadata": {},
   "outputs": [],
   "source": []
  },
  {
   "cell_type": "code",
   "execution_count": null,
   "metadata": {},
   "outputs": [],
   "source": []
  },
  {
   "cell_type": "code",
   "execution_count": null,
   "metadata": {},
   "outputs": [],
   "source": []
  },
  {
   "cell_type": "code",
   "execution_count": null,
   "metadata": {},
   "outputs": [],
   "source": []
  },
  {
   "cell_type": "code",
   "execution_count": null,
   "metadata": {},
   "outputs": [],
   "source": []
  },
  {
   "cell_type": "code",
   "execution_count": null,
   "metadata": {},
   "outputs": [],
   "source": []
  },
  {
   "cell_type": "code",
   "execution_count": null,
   "metadata": {},
   "outputs": [],
   "source": []
  },
  {
   "cell_type": "code",
   "execution_count": null,
   "metadata": {},
   "outputs": [],
   "source": []
  },
  {
   "cell_type": "code",
   "execution_count": null,
   "metadata": {},
   "outputs": [],
   "source": []
  },
  {
   "cell_type": "code",
   "execution_count": null,
   "metadata": {},
   "outputs": [],
   "source": []
  },
  {
   "cell_type": "code",
   "execution_count": null,
   "metadata": {},
   "outputs": [],
   "source": []
  },
  {
   "cell_type": "code",
   "execution_count": null,
   "metadata": {},
   "outputs": [],
   "source": []
  }
 ],
 "metadata": {
  "kernelspec": {
   "display_name": "Python 3",
   "language": "python",
   "name": "python3"
  },
  "language_info": {
   "codemirror_mode": {
    "name": "ipython",
    "version": 3
   },
   "file_extension": ".py",
   "mimetype": "text/x-python",
   "name": "python",
   "nbconvert_exporter": "python",
   "pygments_lexer": "ipython3",
   "version": "3.7.7"
  }
 },
 "nbformat": 4,
 "nbformat_minor": 4
}

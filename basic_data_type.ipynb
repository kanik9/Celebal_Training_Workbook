{
 "cells": [
  {
   "cell_type": "markdown",
   "metadata": {},
   "source": [
    "1. integer :"
   ]
  },
  {
   "cell_type": "code",
   "execution_count": 2,
   "metadata": {},
   "outputs": [
    {
     "name": "stdout",
     "output_type": "stream",
     "text": [
      "Enter Any number 2\n",
      "2\n"
     ]
    }
   ],
   "source": [
    "\"\"\"\n",
    "A. How to take integer input\n",
    "\n",
    "1. Normal input\n",
    "\"\"\"\n",
    "\n",
    "a = int(input(\"Enter Any number: \"))\n",
    "print(a)"
   ]
  },
  {
   "cell_type": "code",
   "execution_count": 3,
   "metadata": {},
   "outputs": [
    {
     "name": "stdout",
     "output_type": "stream",
     "text": [
      "Enter Any number: 2\n",
      "2\n"
     ]
    }
   ],
   "source": [
    "\"\"\"\n",
    "tpye conversition\n",
    "1. string to int\n",
    "\"\"\"\n",
    "\n",
    "a = input(\"Enter Any number: \")\n",
    "a = int(a)   # Tpye conversition \n",
    "print(a)"
   ]
  },
  {
   "cell_type": "code",
   "execution_count": 7,
   "metadata": {},
   "outputs": [
    {
     "name": "stdout",
     "output_type": "stream",
     "text": [
      "Enter Any number: kanik\n"
     ]
    },
    {
     "ename": "ValueError",
     "evalue": "invalid literal for int() with base 10: 'kanik'",
     "output_type": "error",
     "traceback": [
      "\u001b[0;31m---------------------------------------------------------------------------\u001b[0m",
      "\u001b[0;31mValueError\u001b[0m                                Traceback (most recent call last)",
      "\u001b[0;32m<ipython-input-7-6fbdc8bed055>\u001b[0m in \u001b[0;36m<module>\u001b[0;34m\u001b[0m\n\u001b[1;32m      1\u001b[0m \u001b[0ma\u001b[0m \u001b[0;34m=\u001b[0m \u001b[0minput\u001b[0m\u001b[0;34m(\u001b[0m\u001b[0;34m\"Enter Any number: \"\u001b[0m\u001b[0;34m)\u001b[0m\u001b[0;34m\u001b[0m\u001b[0;34m\u001b[0m\u001b[0m\n\u001b[0;32m----> 2\u001b[0;31m \u001b[0ma\u001b[0m \u001b[0;34m=\u001b[0m \u001b[0mint\u001b[0m\u001b[0;34m(\u001b[0m\u001b[0ma\u001b[0m\u001b[0;34m)\u001b[0m   \u001b[0;31m# Tpye conversition\u001b[0m\u001b[0;34m\u001b[0m\u001b[0;34m\u001b[0m\u001b[0m\n\u001b[0m\u001b[1;32m      3\u001b[0m \u001b[0mprint\u001b[0m\u001b[0;34m(\u001b[0m\u001b[0ma\u001b[0m\u001b[0;34m)\u001b[0m\u001b[0;34m\u001b[0m\u001b[0;34m\u001b[0m\u001b[0m\n",
      "\u001b[0;31mValueError\u001b[0m: invalid literal for int() with base 10: 'kanik'"
     ]
    }
   ],
   "source": [
    "a = input(\"Enter Any number: \")\n",
    "a = int(a)   # Tpye conversition \n",
    "print(a)\n",
    "\n",
    "\"\"\"\n",
    "When we enter a string in integer so we get this error\n",
    "\"\"\""
   ]
  },
  {
   "cell_type": "code",
   "execution_count": 8,
   "metadata": {},
   "outputs": [
    {
     "name": "stdout",
     "output_type": "stream",
     "text": [
      "0\n"
     ]
    }
   ],
   "source": [
    "\"\"\"\n",
    "2. Boolean to int :\n",
    "\"\"\"\n",
    "a = False\n",
    "b = int(a)\n",
    "print(b)"
   ]
  },
  {
   "cell_type": "code",
   "execution_count": 9,
   "metadata": {},
   "outputs": [
    {
     "name": "stdout",
     "output_type": "stream",
     "text": [
      "1\n"
     ]
    }
   ],
   "source": [
    "a = True\n",
    "b = int(a)\n",
    "print(b)"
   ]
  },
  {
   "cell_type": "code",
   "execution_count": 11,
   "metadata": {},
   "outputs": [
    {
     "ename": "NameError",
     "evalue": "name 'false' is not defined",
     "output_type": "error",
     "traceback": [
      "\u001b[0;31m---------------------------------------------------------------------------\u001b[0m",
      "\u001b[0;31mNameError\u001b[0m                                 Traceback (most recent call last)",
      "\u001b[0;32m<ipython-input-11-793d7025d513>\u001b[0m in \u001b[0;36m<module>\u001b[0;34m\u001b[0m\n\u001b[0;32m----> 1\u001b[0;31m \u001b[0ma\u001b[0m \u001b[0;34m=\u001b[0m \u001b[0mfalse\u001b[0m\u001b[0;34m\u001b[0m\u001b[0;34m\u001b[0m\u001b[0m\n\u001b[0m\u001b[1;32m      2\u001b[0m \u001b[0mb\u001b[0m \u001b[0;34m=\u001b[0m \u001b[0mint\u001b[0m\u001b[0;34m(\u001b[0m\u001b[0ma\u001b[0m\u001b[0;34m)\u001b[0m\u001b[0;34m\u001b[0m\u001b[0;34m\u001b[0m\u001b[0m\n\u001b[1;32m      3\u001b[0m \u001b[0mprint\u001b[0m\u001b[0;34m(\u001b[0m\u001b[0mb\u001b[0m\u001b[0;34m)\u001b[0m\u001b[0;34m\u001b[0m\u001b[0;34m\u001b[0m\u001b[0m\n",
      "\u001b[0;31mNameError\u001b[0m: name 'false' is not defined"
     ]
    }
   ],
   "source": [
    "a = false\n",
    "b = int(a)\n",
    "print(b)"
   ]
  },
  {
   "cell_type": "code",
   "execution_count": 10,
   "metadata": {},
   "outputs": [
    {
     "ename": "NameError",
     "evalue": "name 'true' is not defined",
     "output_type": "error",
     "traceback": [
      "\u001b[0;31m---------------------------------------------------------------------------\u001b[0m",
      "\u001b[0;31mNameError\u001b[0m                                 Traceback (most recent call last)",
      "\u001b[0;32m<ipython-input-10-a8a762fe84c6>\u001b[0m in \u001b[0;36m<module>\u001b[0;34m\u001b[0m\n\u001b[0;32m----> 1\u001b[0;31m \u001b[0ma\u001b[0m \u001b[0;34m=\u001b[0m \u001b[0mtrue\u001b[0m\u001b[0;34m\u001b[0m\u001b[0;34m\u001b[0m\u001b[0m\n\u001b[0m\u001b[1;32m      2\u001b[0m \u001b[0mb\u001b[0m \u001b[0;34m=\u001b[0m \u001b[0mint\u001b[0m\u001b[0;34m(\u001b[0m\u001b[0ma\u001b[0m\u001b[0;34m)\u001b[0m\u001b[0;34m\u001b[0m\u001b[0;34m\u001b[0m\u001b[0m\n\u001b[1;32m      3\u001b[0m \u001b[0mprint\u001b[0m\u001b[0;34m(\u001b[0m\u001b[0mb\u001b[0m\u001b[0;34m)\u001b[0m\u001b[0;34m\u001b[0m\u001b[0;34m\u001b[0m\u001b[0m\n",
      "\u001b[0;31mNameError\u001b[0m: name 'true' is not defined"
     ]
    }
   ],
   "source": [
    "a = true\n",
    "b = int(a)\n",
    "print(b)"
   ]
  },
  {
   "cell_type": "markdown",
   "metadata": {},
   "source": [
    "2. String "
   ]
  },
  {
   "cell_type": "code",
   "execution_count": 12,
   "metadata": {},
   "outputs": [
    {
     "name": "stdout",
     "output_type": "stream",
     "text": [
      "jfekdjxzg;\n",
      "jfekdjxzg;\n"
     ]
    }
   ],
   "source": [
    "x = input()\n",
    "print(x)"
   ]
  },
  {
   "cell_type": "code",
   "execution_count": 14,
   "metadata": {},
   "outputs": [
    {
     "name": "stdout",
     "output_type": "stream",
     "text": [
      "Enter your name :jay\n",
      "Boys name is :  jay\n"
     ]
    }
   ],
   "source": [
    "x = input(\"Enter your name :\")\n",
    "print('Boys name is : ',x)"
   ]
  },
  {
   "cell_type": "markdown",
   "metadata": {},
   "source": [
    "3. Boolean "
   ]
  },
  {
   "cell_type": "code",
   "execution_count": 15,
   "metadata": {},
   "outputs": [
    {
     "name": "stdout",
     "output_type": "stream",
     "text": [
      "1\n",
      "True\n"
     ]
    }
   ],
   "source": [
    "a = bool(input())\n",
    "print(a)"
   ]
  },
  {
   "cell_type": "markdown",
   "metadata": {},
   "source": [
    "4. Tuple :"
   ]
  },
  {
   "cell_type": "code",
   "execution_count": 22,
   "metadata": {},
   "outputs": [
    {
     "name": "stdout",
     "output_type": "stream",
     "text": [
      "123456\n",
      "('1', '2', '3', '4', '5', '6')\n"
     ]
    }
   ],
   "source": [
    "a = tuple(input())\n",
    "print(a)"
   ]
  },
  {
   "cell_type": "code",
   "execution_count": 23,
   "metadata": {},
   "outputs": [
    {
     "name": "stdout",
     "output_type": "stream",
     "text": [
      "1 2 3 4 5 6 a b c d e f\n",
      "('1', ' ', '2', ' ', '3', ' ', '4', ' ', '5', ' ', '6', ' ', 'a', ' ', 'b', ' ', 'c', ' ', 'd', ' ', 'e', ' ', 'f')\n"
     ]
    }
   ],
   "source": [
    "a = tuple(input())\n",
    "print(a)"
   ]
  },
  {
   "cell_type": "code",
   "execution_count": 24,
   "metadata": {},
   "outputs": [
    {
     "name": "stdout",
     "output_type": "stream",
     "text": [
      "123456abcdef\n",
      "('1', '2', '3', '4', '5', '6', 'a', 'b', 'c', 'd', 'e', 'f')\n"
     ]
    }
   ],
   "source": [
    "a = tuple(input())\n",
    "print(a)"
   ]
  },
  {
   "cell_type": "markdown",
   "metadata": {},
   "source": [
    "# Methods supported by tuple"
   ]
  },
  {
   "cell_type": "code",
   "execution_count": 25,
   "metadata": {},
   "outputs": [
    {
     "name": "stdout",
     "output_type": "stream",
     "text": [
      "The count of i is: 2\n",
      "The count of p is: 0\n"
     ]
    }
   ],
   "source": [
    "# 1. count : \n",
    "\n",
    "vowels = ('a', 'e', 'i', 'o', 'i', 'u')\n",
    "\n",
    "# count element 'i'\n",
    "count = vowels.count('i')\n",
    "\n",
    "# print count\n",
    "print('The count of i is:', count)\n",
    "\n",
    "# count element 'p'\n",
    "count = vowels.count('p')\n",
    "\n",
    "# print count\n",
    "print('The count of p is:', count)"
   ]
  },
  {
   "cell_type": "code",
   "execution_count": 26,
   "metadata": {},
   "outputs": [
    {
     "name": "stdout",
     "output_type": "stream",
     "text": [
      "The count of ('a', 'b') is: 2\n",
      "The count of [3, 4] is: 1\n"
     ]
    }
   ],
   "source": [
    "random = ('a', ('a', 'b'), ('a', 'b'), [3, 4])\n",
    "\n",
    "# count element ('a', 'b')\n",
    "count = random.count(('a', 'b'))\n",
    "\n",
    "# print count\n",
    "print(\"The count of ('a', 'b') is:\", count)\n",
    "\n",
    "# count element [3, 4]\n",
    "count = random.count([3, 4])\n",
    "\n",
    "# print count\n",
    "print(\"The count of [3, 4] is:\", count)"
   ]
  },
  {
   "cell_type": "code",
   "execution_count": 27,
   "metadata": {},
   "outputs": [
    {
     "name": "stdout",
     "output_type": "stream",
     "text": [
      "The index of e: 1\n",
      "The index of i: 2\n"
     ]
    }
   ],
   "source": [
    "# 2. index:\n",
    "\n",
    "\"\"\"\n",
    "Syntax = tuple.index(element, start, end)\n",
    "\n",
    "The tuple index() method can take a maximum of three arguments:\n",
    "\n",
    "- element - the element to be searched\n",
    "- start (optional) - start searching from this index\n",
    "- end (optional) - search the element up to this index\n",
    "\n",
    "Return Value from Tuple index()\n",
    "    - The index() method returns the index of the given element in the tuple.\n",
    "    - If the element is not found, a ValueError exception is raised.\n",
    "Note: The index() method only returns the first occurrence of the matching element.\n",
    "\"\"\"\n",
    "\n",
    "# vowels tuple\n",
    "vowels = ('a', 'e', 'i', 'o', 'i', 'u')\n",
    "\n",
    "# index of 'e' in vowels\n",
    "index = vowels.index('e')\n",
    "print('The index of e:', index)\n",
    "\n",
    "# element 'i' is searched\n",
    "# index of the first 'i' is returned\n",
    "index = vowels.index('i')\n",
    "\n",
    "print('The index of i:', index)"
   ]
  },
  {
   "cell_type": "code",
   "execution_count": 28,
   "metadata": {},
   "outputs": [
    {
     "ename": "ValueError",
     "evalue": "tuple.index(x): x not in tuple",
     "output_type": "error",
     "traceback": [
      "\u001b[0;31m---------------------------------------------------------------------------\u001b[0m",
      "\u001b[0;31mValueError\u001b[0m                                Traceback (most recent call last)",
      "\u001b[0;32m<ipython-input-28-f05cab6b7299>\u001b[0m in \u001b[0;36m<module>\u001b[0;34m\u001b[0m\n\u001b[1;32m      3\u001b[0m \u001b[0;34m\u001b[0m\u001b[0m\n\u001b[1;32m      4\u001b[0m \u001b[0;31m# index of'p' is vowels\u001b[0m\u001b[0;34m\u001b[0m\u001b[0;34m\u001b[0m\u001b[0;34m\u001b[0m\u001b[0m\n\u001b[0;32m----> 5\u001b[0;31m \u001b[0mindex\u001b[0m \u001b[0;34m=\u001b[0m \u001b[0mvowels\u001b[0m\u001b[0;34m.\u001b[0m\u001b[0mindex\u001b[0m\u001b[0;34m(\u001b[0m\u001b[0;34m'p'\u001b[0m\u001b[0;34m)\u001b[0m\u001b[0;34m\u001b[0m\u001b[0;34m\u001b[0m\u001b[0m\n\u001b[0m\u001b[1;32m      6\u001b[0m \u001b[0mprint\u001b[0m\u001b[0;34m(\u001b[0m\u001b[0;34m'The index of p:'\u001b[0m\u001b[0;34m,\u001b[0m \u001b[0mindex\u001b[0m\u001b[0;34m)\u001b[0m\u001b[0;34m\u001b[0m\u001b[0;34m\u001b[0m\u001b[0m\n",
      "\u001b[0;31mValueError\u001b[0m: tuple.index(x): x not in tuple"
     ]
    }
   ],
   "source": [
    "# vowels tuple\n",
    "vowels = ('a', 'e', 'i', 'o', 'u')\n",
    "\n",
    "# index of'p' is vowels\n",
    "index = vowels.index('p')\n",
    "print('The index of p:', index)"
   ]
  },
  {
   "cell_type": "code",
   "execution_count": 30,
   "metadata": {},
   "outputs": [
    {
     "name": "stdout",
     "output_type": "stream",
     "text": [
      "The index of e: 1\n",
      "The index of i: 6\n",
      "The index of i: 2\n"
     ]
    }
   ],
   "source": [
    "# alphabets tuple\n",
    "alphabets = ('a', 'e', 'i', 'o', 'g', 'l', 'i', 'u')\n",
    "\n",
    "# index of 'i' in alphabets\n",
    "index = alphabets.index('e')   # 2\n",
    "print('The index of e:', index)\n",
    "\n",
    "# 'i' after the 4th index is searched\n",
    "index = alphabets.index('i', 4)   # 6\n",
    "print('The index of i:', index)\n",
    "\n",
    "# 'i' between 3rd and 5th index is searched\n",
    "index = alphabets.index('i', 2, 5)   # Error!\n",
    "print('The index of i:', index)"
   ]
  },
  {
   "cell_type": "code",
   "execution_count": 31,
   "metadata": {},
   "outputs": [
    {
     "name": "stdout",
     "output_type": "stream",
     "text": [
      "True\n",
      "False\n",
      "True\n",
      "False\n"
     ]
    }
   ],
   "source": [
    "# 3. any : \n",
    "\"\"\"\n",
    "- The any() function takes an iterable (list, string, dictionary etc.) in Python.\n",
    "\n",
    "Value Returned by the any() function\n",
    "  The any() function returns a boolean value:\n",
    "\n",
    "    - True if at least one element of an iterable is true\n",
    "    - False if all elements are false or if an iterable is empty\n",
    "\"\"\"\n",
    "\n",
    "# True since 1,3 and 4 (at least one) is true\n",
    "l = [1, 3, 4, 0]\n",
    "print(any(l))\n",
    "\n",
    "# False since both are False\n",
    "l = [0, False]\n",
    "print(any(l))\n",
    "\n",
    "# True since 5 is true\n",
    "l = [0, False, 5]\n",
    "print(any(l))\n",
    "\n",
    "# False since iterable is empty\n",
    "l = []\n",
    "print(any(l))"
   ]
  },
  {
   "cell_type": "code",
   "execution_count": 32,
   "metadata": {},
   "outputs": [
    {
     "name": "stdout",
     "output_type": "stream",
     "text": [
      "True\n",
      "True\n",
      "False\n"
     ]
    }
   ],
   "source": [
    "# Atleast one (in fact all) elements are True\n",
    "s = \"This is good\"\n",
    "print(any(s))\n",
    "\n",
    "# 0 is False\n",
    "# '0' is True since its a string character\n",
    "s = '000'\n",
    "print(any(s))\n",
    "\n",
    "# False since empty iterable\n",
    "s = ''\n",
    "print(any(s))"
   ]
  },
  {
   "cell_type": "code",
   "execution_count": 33,
   "metadata": {},
   "outputs": [
    {
     "name": "stdout",
     "output_type": "stream",
     "text": [
      "False\n",
      "True\n",
      "False\n",
      "False\n",
      "True\n"
     ]
    }
   ],
   "source": [
    "# 0 is False\n",
    "d = {0: 'False'}\n",
    "print(any(d))\n",
    "\n",
    "# 1 is True\n",
    "d = {0: 'False', 1: 'True'}\n",
    "print(any(d))\n",
    "\n",
    "# 0 and False are false\n",
    "d = {0: 'False', False: 0}\n",
    "print(any(d))\n",
    "\n",
    "# iterable is empty\n",
    "d = {}\n",
    "print(any(d))\n",
    "\n",
    "# 0 is False\n",
    "# '0' is True\n",
    "d = {'0': 'False'}\n",
    "print(any(d))"
   ]
  },
  {
   "cell_type": "markdown",
   "metadata": {},
   "source": [
    "# List "
   ]
  },
  {
   "cell_type": "code",
   "execution_count": 43,
   "metadata": {},
   "outputs": [
    {
     "name": "stdout",
     "output_type": "stream",
     "text": [
      "[1, 2, 3, 4, 5, 6]\n",
      "1\n",
      "[1, 3, 4, 5, 6]\n",
      "[1, 3, 4, 5, 6, 7, 8, 9]\n",
      "[1, 2, 3, 4, 5, 6, 7, 8, 9]\n",
      "[1, 2, 3, 4, 5, 6, 7, 8]\n",
      "[8, 7, 6, 5, 4, 3, 2, 1]\n"
     ]
    }
   ],
   "source": [
    "l = [1,2,3,4,5]\n",
    "#append add single element in the list.\n",
    "a = l.append(6)\n",
    "print(l)\n",
    "# count counts that how many time element comes in list\n",
    "b = l.count(3)\n",
    "print(b)\n",
    "#pop delet the element from the list\n",
    "c = l.pop(1)\n",
    "print(l)\n",
    "# extend add elements of a list to another.\n",
    "y = [7,8,9]\n",
    "d = l.extend(y)\n",
    "print(l)\n",
    "#insert(index, element) Insert element to the list, index shows location.\n",
    "e = l.insert(1, 2)\n",
    "print(l)\n",
    "#remove(element) Remove the element from the list\n",
    "f =l.remove(9)\n",
    "print(l)\n",
    "#reverse Reverse a list.\n",
    "g = l.reverse()\n",
    "print(l)\n"
   ]
  },
  {
   "cell_type": "code",
   "execution_count": null,
   "metadata": {},
   "outputs": [],
   "source": []
  },
  {
   "cell_type": "code",
   "execution_count": null,
   "metadata": {},
   "outputs": [],
   "source": []
  },
  {
   "cell_type": "code",
   "execution_count": null,
   "metadata": {},
   "outputs": [],
   "source": []
  },
  {
   "cell_type": "code",
   "execution_count": null,
   "metadata": {},
   "outputs": [],
   "source": []
  },
  {
   "cell_type": "code",
   "execution_count": null,
   "metadata": {},
   "outputs": [],
   "source": []
  },
  {
   "cell_type": "code",
   "execution_count": null,
   "metadata": {},
   "outputs": [],
   "source": []
  }
 ],
 "metadata": {
  "kernelspec": {
   "display_name": "Python 3",
   "language": "python",
   "name": "python3"
  },
  "language_info": {
   "codemirror_mode": {
    "name": "ipython",
    "version": 3
   },
   "file_extension": ".py",
   "mimetype": "text/x-python",
   "name": "python",
   "nbconvert_exporter": "python",
   "pygments_lexer": "ipython3",
   "version": "3.7.7"
  }
 },
 "nbformat": 4,
 "nbformat_minor": 4
}
